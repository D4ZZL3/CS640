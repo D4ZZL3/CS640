{
 "cells": [
  {
   "cell_type": "code",
   "execution_count": null,
   "metadata": {
    "colab": {
     "base_uri": "https://localhost:8080/"
    },
    "id": "lrASxVHyEc4w",
    "outputId": "ac9a93eb-ed3f-41ef-dd74-e55c8030573b"
   },
   "outputs": [
    {
     "name": "stdout",
     "output_type": "stream",
     "text": [
      "Requirement already satisfied: mtcnn in /usr/local/lib/python3.7/dist-packages (0.1.1)\n",
      "Requirement already satisfied: keras>=2.0.0 in /usr/local/lib/python3.7/dist-packages (from mtcnn) (2.7.0)\n",
      "Requirement already satisfied: opencv-python>=4.1.0 in /usr/local/lib/python3.7/dist-packages (from mtcnn) (4.1.2.30)\n",
      "Requirement already satisfied: numpy>=1.14.5 in /usr/local/lib/python3.7/dist-packages (from opencv-python>=4.1.0->mtcnn) (1.19.5)\n"
     ]
    }
   ],
   "source": [
    "#!pip install spacy-langdetect\n",
    "#!pip install langid\n",
    "!pip install mtcnn"
   ]
  },
  {
   "cell_type": "code",
   "execution_count": 46,
   "metadata": {
    "id": "gH_fiVYE2xyV"
   },
   "outputs": [],
   "source": [
    "import numpy as np\n",
    "import pandas as pd\n",
    "import seaborn as sns\n",
    "import matplotlib.pyplot as plt\n",
    "from os.path import exists\n",
    "import cv2\n",
    "import json\n",
    "import re\n",
    "from ast import literal_eval\n",
    "import nltk\n",
    "import spacy\n",
    "#from spacy_langdetect import LanguageDetector\n",
    "import string\n",
    "import sklearn\n",
    "from sklearn import preprocessing\n",
    "from sklearn.feature_extraction.text import TfidfVectorizer\n",
    "from sklearn.model_selection import train_test_split\n",
    "from sklearn.metrics import mean_squared_error, confusion_matrix\n",
    "from sklearn.preprocessing import StandardScaler\n",
    "from sklearn.model_selection import cross_validate\n",
    "from sklearn.decomposition import TruncatedSVD\n",
    "from imblearn.over_sampling import SMOTE\n",
    "from imblearn.under_sampling import RandomUnderSampler\n",
    "#import langid\n",
    "\n",
    "#from ethnicolr import census_ln, pred_census_ln, pred_fl_reg_name"
   ]
  },
  {
   "cell_type": "markdown",
   "metadata": {},
   "source": [
    "link to original colab: https://colab.research.google.com/drive/1bp_C0E29O_F4KX8qCGw5aWfLL97-6JPh?usp=sharing"
   ]
  },
  {
   "cell_type": "markdown",
   "metadata": {
    "id": "eON8zn4Fycai"
   },
   "source": [
    "# Age Classification with tweets"
   ]
  },
  {
   "cell_type": "markdown",
   "metadata": {
    "id": "jrrulygiRjej"
   },
   "source": [
    "### Data Load"
   ]
  },
  {
   "cell_type": "code",
   "execution_count": null,
   "metadata": {
    "colab": {
     "base_uri": "https://localhost:8080/"
    },
    "id": "0FQUBje4zVVz",
    "outputId": "7a0af62a-a1d8-469a-f2df-022c12a59d5b"
   },
   "outputs": [
    {
     "name": "stdout",
     "output_type": "stream",
     "text": [
      "(1145, 26)\n",
      "Index(['Unnamed: 0', 'Unnamed: 0.1', 'screen_name', 'user_id', 'lang', 'name',\n",
      "       'location', 'description', 'protected', 'followers_count',\n",
      "       'friends_count', 'statuses_count', 'favourites_count',\n",
      "       'account_created_at', 'verified', 'profile_banner_url',\n",
      "       'profile_background_url', 'profile_image_url', 'user.name',\n",
      "       'num.tweets.used.Lexicon.prediction', 'Lexicon.age.prediction',\n",
      "       'Lexicon.gender.prediction..index.', 'lexicon.gender.prediction',\n",
      "       'human.labeled.gender', 'human.labeled.age', 'age'],\n",
      "      dtype='object')\n",
      "   Unnamed: 0  Unnamed: 0.1  ... human.labeled.age  age\n",
      "0           0             1  ...              23.0  1.0\n",
      "1           1             2  ...              19.0  0.0\n",
      "2           3             4  ...              22.0  0.0\n",
      "3           8             9  ...              26.0  1.0\n",
      "4           9            10  ...              20.0  0.0\n",
      "\n",
      "[5 rows x 26 columns]\n"
     ]
    }
   ],
   "source": [
    "df_users = pd.read_csv(\"/content/drive/MyDrive/demographicPredictionData/race_data/labeled_users.csv\", lineterminator='\\n')\n",
    "print(df_users.shape)\n",
    "print(df_users.columns)\n",
    "print(df_users.head())"
   ]
  },
  {
   "cell_type": "code",
   "execution_count": null,
   "metadata": {
    "colab": {
     "base_uri": "https://localhost:8080/"
    },
    "id": "6NNrWt-y7Ylm",
    "outputId": "6849b34a-8082-48a8-a842-034f114c4246"
   },
   "outputs": [
    {
     "name": "stdout",
     "output_type": "stream",
     "text": [
      "(1145, 26)\n",
      "   Unnamed: 0  Unnamed: 0.1  ... human.labeled.age  age\n",
      "0           0             1  ...              23.0  1.0\n",
      "1           1             2  ...              19.0  0.0\n",
      "2           3             4  ...              22.0  0.0\n",
      "3           8             9  ...              26.0  1.0\n",
      "4           9            10  ...              20.0  0.0\n",
      "\n",
      "[5 rows x 26 columns]\n"
     ]
    }
   ],
   "source": [
    "def get_name(name):\n",
    "  return name[1:]\n",
    "\n",
    "df_users['user.name'] = df_users['user.name'].apply(get_name)\n",
    "print(df_users.shape)\n",
    "print(df_users.head())"
   ]
  },
  {
   "cell_type": "code",
   "execution_count": null,
   "metadata": {
    "colab": {
     "base_uri": "https://localhost:8080/"
    },
    "id": "43-uw6dG4tSd",
    "outputId": "ee170b5d-a3ec-4d1a-c396-9cea7192287f"
   },
   "outputs": [
    {
     "data": {
      "text/plain": [
       "0         _____zac_____\n",
       "1              ___aleia\n",
       "2       ___schaeffer___\n",
       "3               __drewc\n",
       "4         __EmilyRice__\n",
       "             ...       \n",
       "1140        zmeadows_18\n",
       "1141         ZoeBerrier\n",
       "1142        ZoeCalamaco\n",
       "1143           ZoPeachy\n",
       "1144          zzzakari4\n",
       "Name: user.name, Length: 1145, dtype: object"
      ]
     },
     "execution_count": 34,
     "metadata": {},
     "output_type": "execute_result"
    }
   ],
   "source": [
    "df_users['user.name']"
   ]
  },
  {
   "cell_type": "code",
   "execution_count": null,
   "metadata": {
    "colab": {
     "base_uri": "https://localhost:8080/"
    },
    "id": "H82j3TEb0lIY",
    "outputId": "2b1d2a7e-2ec6-48e0-9db9-ef95ae14f15a"
   },
   "outputs": [
    {
     "name": "stdout",
     "output_type": "stream",
     "text": [
      "(2678, 2)\n",
      "         user.name                                             tweets\n",
      "0    _____zac_____  [@AdvoBarryRoux @GetVidBot, The owner of drip ...\n",
      "1         ___aleia  [I haven’t talked to this girl since my sophom...\n",
      "2          ___Dals  [It come wit it 😭 https://t.co/ENyEtlphtP, @na...\n",
      "3  ___schaeffer___  [☝🏼👋🏼 https://t.co/xGJLlzLR7g, https://t.co/7N...\n",
      "4   __andresiscool  [Enough https://t.co/gLarVLIHxW, Some of the w...\n"
     ]
    }
   ],
   "source": [
    "with open('/content/drive/MyDrive/demographicPredictionData/race_data/tweets.json') as json_data:\n",
    "  data = json.load(json_data)\n",
    "df_twitter = pd.DataFrame(list(data.items()),columns = ['user.name','tweets'])\n",
    "print(df_twitter.shape)\n",
    "print(df_twitter.head())"
   ]
  },
  {
   "cell_type": "code",
   "execution_count": null,
   "metadata": {
    "colab": {
     "base_uri": "https://localhost:8080/"
    },
    "id": "_4T8SmSpzMuf",
    "outputId": "ebcb002e-24da-4a6d-cbc7-173ef3e7ca07"
   },
   "outputs": [
    {
     "name": "stdout",
     "output_type": "stream",
     "text": [
      "(1145, 27)\n",
      "         user.name  ...  age\n",
      "0    _____zac_____  ...  1.0\n",
      "1         ___aleia  ...  0.0\n",
      "2  ___schaeffer___  ...  0.0\n",
      "3          __drewc  ...  1.0\n",
      "4    __EmilyRice__  ...  0.0\n",
      "\n",
      "[5 rows x 27 columns]\n"
     ]
    }
   ],
   "source": [
    "df = pd.merge(df_twitter, df_users, on=\"user.name\")\n",
    "#df = df.drop(columns=['img_path'], axis=1)\n",
    "#df['tweets'] = df['user_id'].map(lambda x: data[str(x)] if str(x) in data else np.nan)\n",
    "print(df.shape)\n",
    "print(df.head())"
   ]
  },
  {
   "cell_type": "code",
   "execution_count": null,
   "metadata": {
    "colab": {
     "base_uri": "https://localhost:8080/"
    },
    "id": "vRblD881zSzm",
    "outputId": "ef27a2fe-8157-47ba-fba9-319e6f3d625a"
   },
   "outputs": [
    {
     "data": {
      "text/plain": [
       "user.name                                                                 _____zac_____\n",
       "tweets                                [@AdvoBarryRoux @GetVidBot, The owner of drip ...\n",
       "Unnamed: 0                                                                            0\n",
       "Unnamed: 0.1                                                                          1\n",
       "screen_name                                                               _____zac_____\n",
       "user_id                                                                     4.61441e+08\n",
       "lang                                                                                 en\n",
       "name                                                                            zac ¢\n",
       "location                                                                  Maryland, USA\n",
       "description                                                      _____Û___È_Ü´Ù\n",
       "protected                                                                         False\n",
       "followers_count                                                                     208\n",
       "friends_count                                                                       178\n",
       "statuses_count                                                                    27912\n",
       "favourites_count                                                                   4179\n",
       "account_created_at                                                        1/11/12 20:19\n",
       "verified                                                                          False\n",
       "profile_banner_url                    https://pbs.twimg.com/profile_banners/46144118...\n",
       "profile_background_url                 http://abs.twimg.com/images/themes/theme1/bg.png\n",
       "profile_image_url                     http://pbs.twimg.com/profile_images/1226134911...\n",
       "num.tweets.used.Lexicon.prediction                                                  100\n",
       "Lexicon.age.prediction                                                          27.6524\n",
       "Lexicon.gender.prediction..index.                                              -1.45717\n",
       "lexicon.gender.prediction                                                             M\n",
       "human.labeled.gender                                                                NaN\n",
       "human.labeled.age                                                                    23\n",
       "age                                                                                   1\n",
       "Name: 0, dtype: object"
      ]
     },
     "execution_count": 37,
     "metadata": {},
     "output_type": "execute_result"
    }
   ],
   "source": [
    "df.iloc[0]"
   ]
  },
  {
   "cell_type": "code",
   "execution_count": null,
   "metadata": {
    "id": "EvZSpbbazQ_a"
   },
   "outputs": [],
   "source": [
    "df.to_csv(\"/content/drive/MyDrive/demographicPredictionData/race_data/age_data.csv\", encoding=\"utf-8\")"
   ]
  },
  {
   "cell_type": "code",
   "execution_count": null,
   "metadata": {
    "id": "NUuvj-VsRR8b"
   },
   "outputs": [],
   "source": []
  },
  {
   "cell_type": "markdown",
   "metadata": {
    "id": "I9faP-TmRWQl"
   },
   "source": [
    "### merge files, detect language, count marks and pos_tag"
   ]
  },
  {
   "cell_type": "code",
   "execution_count": null,
   "metadata": {
    "colab": {
     "base_uri": "https://localhost:8080/"
    },
    "id": "BquDwxYCRWQl",
    "outputId": "2fbd8851-69cb-473f-cedd-88e783d3c8f6"
   },
   "outputs": [
    {
     "name": "stdout",
     "output_type": "stream",
     "text": [
      "(1145, 27)\n",
      "         user.name  ...  age\n",
      "0    _____zac_____  ...  1.0\n",
      "1         ___aleia  ...  0.0\n",
      "2  ___schaeffer___  ...  0.0\n",
      "3          __drewc  ...  1.0\n",
      "4    __EmilyRice__  ...  0.0\n",
      "\n",
      "[5 rows x 27 columns]\n",
      "Index(['user.name', 'tweets', 'Unnamed: 0.1', 'Unnamed: 0.1.1', 'screen_name',\n",
      "       'user_id', 'lang', 'name', 'location', 'description', 'protected',\n",
      "       'followers_count', 'friends_count', 'statuses_count',\n",
      "       'favourites_count', 'account_created_at', 'verified',\n",
      "       'profile_banner_url', 'profile_background_url', 'profile_image_url',\n",
      "       'num.tweets.used.Lexicon.prediction', 'Lexicon.age.prediction',\n",
      "       'Lexicon.gender.prediction..index.', 'lexicon.gender.prediction',\n",
      "       'human.labeled.gender', 'human.labeled.age', 'age'],\n",
      "      dtype='object')\n"
     ]
    }
   ],
   "source": [
    "df = pd.read_csv(\"/content/drive/MyDrive/demographicPredictionData/race_data/age_data.csv\", lineterminator='\\n')\n",
    "df['tweets'] = df['tweets'].apply(literal_eval)\n",
    "df = df.drop(columns=df.columns[0], axis=1)\n",
    "print(df.shape)\n",
    "print(df.head())\n",
    "print(df.columns)"
   ]
  },
  {
   "cell_type": "code",
   "execution_count": null,
   "metadata": {
    "id": "GpB3v3uCRWQm"
   },
   "outputs": [],
   "source": [
    "# pred_name = pred_fl_reg_ln(df, 'name')\n",
    "# print(pred_name)\n",
    "#pred_census_ln(df, 'screen_name')\n",
    "# print(pred_screen_name)\n",
    "#df"
   ]
  },
  {
   "cell_type": "code",
   "execution_count": null,
   "metadata": {
    "colab": {
     "base_uri": "https://localhost:8080/"
    },
    "id": "jdhJ76XPRWQm",
    "outputId": "613aec2d-1994-4f27-f30e-db3b40931b39"
   },
   "outputs": [
    {
     "name": "stdout",
     "output_type": "stream",
     "text": [
      "[nltk_data] Downloading package stopwords to /root/nltk_data...\n",
      "[nltk_data]   Package stopwords is already up-to-date!\n",
      "[nltk_data] Downloading package wordnet to /root/nltk_data...\n",
      "[nltk_data]   Package wordnet is already up-to-date!\n",
      "[nltk_data] Downloading package averaged_perceptron_tagger to\n",
      "[nltk_data]     /root/nltk_data...\n",
      "[nltk_data]   Package averaged_perceptron_tagger is already up-to-\n",
      "[nltk_data]       date!\n"
     ]
    },
    {
     "data": {
      "text/plain": [
       "True"
      ]
     },
     "execution_count": 76,
     "metadata": {},
     "output_type": "execute_result"
    }
   ],
   "source": [
    "def delete_links(tweets):\n",
    "  res = []\n",
    "  for tweet in tweets:\n",
    "    tweet = re.sub(r\"http\\S+\", \"\", tweet)\n",
    "    tweet = re.sub(r\"www.\\S+\", \"\", tweet)\n",
    "    tweet = re.sub(r\"@\\S+\", \"\", tweet)\n",
    "    res.append(tweet)\n",
    "  return res\n",
    "\n",
    "def count_exclamation(tweets):\n",
    "  cnt = 0\n",
    "  for tweet in tweets:\n",
    "    for c in tweet:\n",
    "      if c == '!':\n",
    "        cnt += 1\n",
    "  return cnt\n",
    "\n",
    "def count_question(tweets):\n",
    "  cnt = 0\n",
    "  for tweet in tweets:\n",
    "    for c in tweet:\n",
    "      if c == '?':\n",
    "        cnt += 1\n",
    "  return cnt\n",
    "\n",
    "def count_duplicate(tweets):\n",
    "  cnt = 0\n",
    "  for tweet in tweets:\n",
    "    if len(tweet) < 3:\n",
    "      continue\n",
    "    for i in range(len(tweet)):\n",
    "      if tweet[i] == tweet[i-1] and tweet[i-1] == tweet[i-2]:\n",
    "        cnt += 1\n",
    "  return cnt\n",
    "\n",
    "def remove_punct(tweet):\n",
    "  tweet  = \"\".join([char for char in tweet if char not in string.punctuation])\n",
    "  tweet = re.sub('[0-9]+', '', tweet)\n",
    "  return tweet\n",
    "\n",
    "def tokenization(tweet):\n",
    "  tweet = re.split('\\W+', tweet)\n",
    "  return tweet\n",
    "    \n",
    "def remove_stopwords(tweet):\n",
    "  stopword = nltk.corpus.stopwords.words('english')\n",
    "  tweet = [word for word in tweet if word not in stopword]\n",
    "  return tweet\n",
    "    \n",
    "def stemming(tweet):\n",
    "  ps = nltk.PorterStemmer()\n",
    "  tweet = [ps.stem(word) for word in tweet]\n",
    "  return tweet\n",
    "\n",
    "def lemmatizer(tweet):\n",
    "  wn = nltk.WordNetLemmatizer()\n",
    "  tweet = [wn.lemmatize(word) for word in tweet]\n",
    "  return tweet\n",
    "  \n",
    "def detect_language(tweets):\n",
    "  return langid.classify(tweets[0])\n",
    "\n",
    "\n",
    "nltk.download('stopwords')\n",
    "nltk.download('wordnet')\n",
    "nltk.download('averaged_perceptron_tagger')"
   ]
  },
  {
   "cell_type": "code",
   "execution_count": null,
   "metadata": {
    "colab": {
     "base_uri": "https://localhost:8080/",
     "height": 694
    },
    "id": "4XKeUiC0RWQn",
    "outputId": "36115f20-cfd9-4fe5-ea47-2cb5e10e0af5"
   },
   "outputs": [
    {
     "data": {
      "text/html": [
       "<div>\n",
       "<style scoped>\n",
       "    .dataframe tbody tr th:only-of-type {\n",
       "        vertical-align: middle;\n",
       "    }\n",
       "\n",
       "    .dataframe tbody tr th {\n",
       "        vertical-align: top;\n",
       "    }\n",
       "\n",
       "    .dataframe thead th {\n",
       "        text-align: right;\n",
       "    }\n",
       "</style>\n",
       "<table border=\"1\" class=\"dataframe\">\n",
       "  <thead>\n",
       "    <tr style=\"text-align: right;\">\n",
       "      <th></th>\n",
       "      <th>user.name</th>\n",
       "      <th>tweets</th>\n",
       "      <th>Unnamed: 0.1</th>\n",
       "      <th>Unnamed: 0.1.1</th>\n",
       "      <th>screen_name</th>\n",
       "      <th>user_id</th>\n",
       "      <th>lang</th>\n",
       "      <th>name</th>\n",
       "      <th>location</th>\n",
       "      <th>description</th>\n",
       "      <th>protected</th>\n",
       "      <th>followers_count</th>\n",
       "      <th>friends_count</th>\n",
       "      <th>statuses_count</th>\n",
       "      <th>favourites_count</th>\n",
       "      <th>account_created_at</th>\n",
       "      <th>verified</th>\n",
       "      <th>profile_banner_url</th>\n",
       "      <th>profile_background_url</th>\n",
       "      <th>profile_image_url</th>\n",
       "      <th>num.tweets.used.Lexicon.prediction</th>\n",
       "      <th>Lexicon.age.prediction</th>\n",
       "      <th>Lexicon.gender.prediction..index.</th>\n",
       "      <th>lexicon.gender.prediction</th>\n",
       "      <th>human.labeled.gender</th>\n",
       "      <th>human.labeled.age</th>\n",
       "      <th>age</th>\n",
       "    </tr>\n",
       "  </thead>\n",
       "  <tbody>\n",
       "    <tr>\n",
       "      <th>0</th>\n",
       "      <td>_____zac_____</td>\n",
       "      <td>[ , The owner of drip doesn't even have 100 mi...</td>\n",
       "      <td>0</td>\n",
       "      <td>1</td>\n",
       "      <td>_____zac_____</td>\n",
       "      <td>4.614412e+08</td>\n",
       "      <td>en</td>\n",
       "      <td>zac ¢</td>\n",
       "      <td>Maryland, USA</td>\n",
       "      <td>_____Û___È_Ü´Ù</td>\n",
       "      <td>False</td>\n",
       "      <td>208</td>\n",
       "      <td>178</td>\n",
       "      <td>27912</td>\n",
       "      <td>4179</td>\n",
       "      <td>1/11/12 20:19</td>\n",
       "      <td>False</td>\n",
       "      <td>https://pbs.twimg.com/profile_banners/46144118...</td>\n",
       "      <td>http://abs.twimg.com/images/themes/theme1/bg.png</td>\n",
       "      <td>http://pbs.twimg.com/profile_images/1226134911...</td>\n",
       "      <td>100.0</td>\n",
       "      <td>27.652434</td>\n",
       "      <td>-1.457167</td>\n",
       "      <td>M</td>\n",
       "      <td>NaN</td>\n",
       "      <td>23.0</td>\n",
       "      <td>1.0</td>\n",
       "    </tr>\n",
       "    <tr>\n",
       "      <th>1</th>\n",
       "      <td>___aleia</td>\n",
       "      <td>[I haven’t talked to this girl since my sophom...</td>\n",
       "      <td>1</td>\n",
       "      <td>2</td>\n",
       "      <td>___aleia</td>\n",
       "      <td>7.650000e+17</td>\n",
       "      <td>en</td>\n",
       "      <td>_æ___ dad ___æ_</td>\n",
       "      <td>Ohio, USA</td>\n",
       "      <td>BLACK. LIVES. MATTER.</td>\n",
       "      <td>False</td>\n",
       "      <td>466</td>\n",
       "      <td>388</td>\n",
       "      <td>3313</td>\n",
       "      <td>23454</td>\n",
       "      <td>8/14/16 19:45</td>\n",
       "      <td>False</td>\n",
       "      <td>https://pbs.twimg.com/profile_banners/76491083...</td>\n",
       "      <td>NaN</td>\n",
       "      <td>http://pbs.twimg.com/profile_images/1271280679...</td>\n",
       "      <td>100.0</td>\n",
       "      <td>24.111464</td>\n",
       "      <td>0.985713</td>\n",
       "      <td>F</td>\n",
       "      <td>NaN</td>\n",
       "      <td>19.0</td>\n",
       "      <td>0.0</td>\n",
       "    </tr>\n",
       "    <tr>\n",
       "      <th>2</th>\n",
       "      <td>___schaeffer___</td>\n",
       "      <td>[☝🏼👋🏼 ,  ,  ,  37-14-9,  congrats sis keep wor...</td>\n",
       "      <td>3</td>\n",
       "      <td>4</td>\n",
       "      <td>___schaeffer___</td>\n",
       "      <td>1.257110e+09</td>\n",
       "      <td>en</td>\n",
       "      <td>Brenden Schaeffer</td>\n",
       "      <td>The Lou</td>\n",
       "      <td>Culver-Stockton College '20 ¢ Ô_Ô_Ô KM 1548...</td>\n",
       "      <td>False</td>\n",
       "      <td>811</td>\n",
       "      <td>660</td>\n",
       "      <td>26670</td>\n",
       "      <td>72205</td>\n",
       "      <td>3/10/13 14:07</td>\n",
       "      <td>False</td>\n",
       "      <td>https://pbs.twimg.com/profile_banners/12571104...</td>\n",
       "      <td>http://abs.twimg.com/images/themes/theme1/bg.png</td>\n",
       "      <td>http://pbs.twimg.com/profile_images/1268044218...</td>\n",
       "      <td>59.0</td>\n",
       "      <td>35.518352</td>\n",
       "      <td>-3.591586</td>\n",
       "      <td>M</td>\n",
       "      <td>NaN</td>\n",
       "      <td>22.0</td>\n",
       "      <td>0.0</td>\n",
       "    </tr>\n",
       "    <tr>\n",
       "      <th>3</th>\n",
       "      <td>__drewc</td>\n",
       "      <td>[Yo rly Try Cash App using my code and we’ll e...</td>\n",
       "      <td>8</td>\n",
       "      <td>9</td>\n",
       "      <td>__drewc</td>\n",
       "      <td>1.050000e+18</td>\n",
       "      <td>en</td>\n",
       "      <td>drew</td>\n",
       "      <td>New York, USA</td>\n",
       "      <td>_öÂ_öé _öÂ_ö_ _ç´Ù È \\r\\r26 #NewYork</td>\n",
       "      <td>False</td>\n",
       "      <td>27</td>\n",
       "      <td>128</td>\n",
       "      <td>181</td>\n",
       "      <td>113</td>\n",
       "      <td>10/17/18 4:12</td>\n",
       "      <td>False</td>\n",
       "      <td>https://pbs.twimg.com/profile_banners/10524118...</td>\n",
       "      <td>http://abs.twimg.com/images/themes/theme1/bg.png</td>\n",
       "      <td>http://pbs.twimg.com/profile_images/1090809548...</td>\n",
       "      <td>134.0</td>\n",
       "      <td>24.910635</td>\n",
       "      <td>1.969121</td>\n",
       "      <td>F</td>\n",
       "      <td>NaN</td>\n",
       "      <td>26.0</td>\n",
       "      <td>1.0</td>\n",
       "    </tr>\n",
       "    <tr>\n",
       "      <th>4</th>\n",
       "      <td>__EmilyRice__</td>\n",
       "      <td>[ yes but come to san marcos and live with me ...</td>\n",
       "      <td>9</td>\n",
       "      <td>10</td>\n",
       "      <td>__EmilyRice__</td>\n",
       "      <td>3.797155e+09</td>\n",
       "      <td>en</td>\n",
       "      <td>em</td>\n",
       "      <td>Marble Falls, TX</td>\n",
       "      <td>#TXST22</td>\n",
       "      <td>False</td>\n",
       "      <td>158</td>\n",
       "      <td>190</td>\n",
       "      <td>1219</td>\n",
       "      <td>2596</td>\n",
       "      <td>10/5/15 23:30</td>\n",
       "      <td>False</td>\n",
       "      <td>https://pbs.twimg.com/profile_banners/37971551...</td>\n",
       "      <td>http://abs.twimg.com/images/themes/theme1/bg.png</td>\n",
       "      <td>http://pbs.twimg.com/profile_images/8415201103...</td>\n",
       "      <td>100.0</td>\n",
       "      <td>25.191925</td>\n",
       "      <td>2.382856</td>\n",
       "      <td>F</td>\n",
       "      <td>NaN</td>\n",
       "      <td>20.0</td>\n",
       "      <td>0.0</td>\n",
       "    </tr>\n",
       "  </tbody>\n",
       "</table>\n",
       "</div>"
      ],
      "text/plain": [
       "         user.name  ...  age\n",
       "0    _____zac_____  ...  1.0\n",
       "1         ___aleia  ...  0.0\n",
       "2  ___schaeffer___  ...  0.0\n",
       "3          __drewc  ...  1.0\n",
       "4    __EmilyRice__  ...  0.0\n",
       "\n",
       "[5 rows x 27 columns]"
      ]
     },
     "execution_count": 77,
     "metadata": {},
     "output_type": "execute_result"
    }
   ],
   "source": [
    "df['tweets'] = df['tweets'].map(lambda x: delete_links(x))\n",
    "df.head()"
   ]
  },
  {
   "cell_type": "code",
   "execution_count": null,
   "metadata": {
    "colab": {
     "base_uri": "https://localhost:8080/",
     "height": 694
    },
    "id": "x-LpRV8_RWQn",
    "outputId": "47698c2e-4fb5-44dd-8f4e-f335d55aa9d9"
   },
   "outputs": [
    {
     "data": {
      "text/html": [
       "<div>\n",
       "<style scoped>\n",
       "    .dataframe tbody tr th:only-of-type {\n",
       "        vertical-align: middle;\n",
       "    }\n",
       "\n",
       "    .dataframe tbody tr th {\n",
       "        vertical-align: top;\n",
       "    }\n",
       "\n",
       "    .dataframe thead th {\n",
       "        text-align: right;\n",
       "    }\n",
       "</style>\n",
       "<table border=\"1\" class=\"dataframe\">\n",
       "  <thead>\n",
       "    <tr style=\"text-align: right;\">\n",
       "      <th></th>\n",
       "      <th>user.name</th>\n",
       "      <th>tweets</th>\n",
       "      <th>Unnamed: 0.1</th>\n",
       "      <th>Unnamed: 0.1.1</th>\n",
       "      <th>screen_name</th>\n",
       "      <th>user_id</th>\n",
       "      <th>lang</th>\n",
       "      <th>name</th>\n",
       "      <th>location</th>\n",
       "      <th>description</th>\n",
       "      <th>protected</th>\n",
       "      <th>followers_count</th>\n",
       "      <th>friends_count</th>\n",
       "      <th>statuses_count</th>\n",
       "      <th>favourites_count</th>\n",
       "      <th>account_created_at</th>\n",
       "      <th>verified</th>\n",
       "      <th>profile_banner_url</th>\n",
       "      <th>profile_background_url</th>\n",
       "      <th>profile_image_url</th>\n",
       "      <th>num.tweets.used.Lexicon.prediction</th>\n",
       "      <th>Lexicon.age.prediction</th>\n",
       "      <th>Lexicon.gender.prediction..index.</th>\n",
       "      <th>lexicon.gender.prediction</th>\n",
       "      <th>human.labeled.gender</th>\n",
       "      <th>human.labeled.age</th>\n",
       "      <th>age</th>\n",
       "      <th>cnt_q_mark</th>\n",
       "      <th>cnt_e_mark</th>\n",
       "      <th>cnt_dup</th>\n",
       "    </tr>\n",
       "  </thead>\n",
       "  <tbody>\n",
       "    <tr>\n",
       "      <th>0</th>\n",
       "      <td>_____zac_____</td>\n",
       "      <td>[ , The owner of drip doesn't even have 100 mi...</td>\n",
       "      <td>0</td>\n",
       "      <td>1</td>\n",
       "      <td>_____zac_____</td>\n",
       "      <td>4.614412e+08</td>\n",
       "      <td>en</td>\n",
       "      <td>zac ¢</td>\n",
       "      <td>Maryland, USA</td>\n",
       "      <td>_____Û___È_Ü´Ù</td>\n",
       "      <td>False</td>\n",
       "      <td>208</td>\n",
       "      <td>178</td>\n",
       "      <td>27912</td>\n",
       "      <td>4179</td>\n",
       "      <td>1/11/12 20:19</td>\n",
       "      <td>False</td>\n",
       "      <td>https://pbs.twimg.com/profile_banners/46144118...</td>\n",
       "      <td>http://abs.twimg.com/images/themes/theme1/bg.png</td>\n",
       "      <td>http://pbs.twimg.com/profile_images/1226134911...</td>\n",
       "      <td>100.0</td>\n",
       "      <td>27.652434</td>\n",
       "      <td>-1.457167</td>\n",
       "      <td>M</td>\n",
       "      <td>NaN</td>\n",
       "      <td>23.0</td>\n",
       "      <td>1.0</td>\n",
       "      <td>1</td>\n",
       "      <td>2</td>\n",
       "      <td>18</td>\n",
       "    </tr>\n",
       "    <tr>\n",
       "      <th>1</th>\n",
       "      <td>___aleia</td>\n",
       "      <td>[I haven’t talked to this girl since my sophom...</td>\n",
       "      <td>1</td>\n",
       "      <td>2</td>\n",
       "      <td>___aleia</td>\n",
       "      <td>7.650000e+17</td>\n",
       "      <td>en</td>\n",
       "      <td>_æ___ dad ___æ_</td>\n",
       "      <td>Ohio, USA</td>\n",
       "      <td>BLACK. LIVES. MATTER.</td>\n",
       "      <td>False</td>\n",
       "      <td>466</td>\n",
       "      <td>388</td>\n",
       "      <td>3313</td>\n",
       "      <td>23454</td>\n",
       "      <td>8/14/16 19:45</td>\n",
       "      <td>False</td>\n",
       "      <td>https://pbs.twimg.com/profile_banners/76491083...</td>\n",
       "      <td>NaN</td>\n",
       "      <td>http://pbs.twimg.com/profile_images/1271280679...</td>\n",
       "      <td>100.0</td>\n",
       "      <td>24.111464</td>\n",
       "      <td>0.985713</td>\n",
       "      <td>F</td>\n",
       "      <td>NaN</td>\n",
       "      <td>19.0</td>\n",
       "      <td>0.0</td>\n",
       "      <td>23</td>\n",
       "      <td>0</td>\n",
       "      <td>18</td>\n",
       "    </tr>\n",
       "    <tr>\n",
       "      <th>2</th>\n",
       "      <td>___schaeffer___</td>\n",
       "      <td>[☝🏼👋🏼 ,  ,  ,  37-14-9,  congrats sis keep wor...</td>\n",
       "      <td>3</td>\n",
       "      <td>4</td>\n",
       "      <td>___schaeffer___</td>\n",
       "      <td>1.257110e+09</td>\n",
       "      <td>en</td>\n",
       "      <td>Brenden Schaeffer</td>\n",
       "      <td>The Lou</td>\n",
       "      <td>Culver-Stockton College '20 ¢ Ô_Ô_Ô KM 1548...</td>\n",
       "      <td>False</td>\n",
       "      <td>811</td>\n",
       "      <td>660</td>\n",
       "      <td>26670</td>\n",
       "      <td>72205</td>\n",
       "      <td>3/10/13 14:07</td>\n",
       "      <td>False</td>\n",
       "      <td>https://pbs.twimg.com/profile_banners/12571104...</td>\n",
       "      <td>http://abs.twimg.com/images/themes/theme1/bg.png</td>\n",
       "      <td>http://pbs.twimg.com/profile_images/1268044218...</td>\n",
       "      <td>59.0</td>\n",
       "      <td>35.518352</td>\n",
       "      <td>-3.591586</td>\n",
       "      <td>M</td>\n",
       "      <td>NaN</td>\n",
       "      <td>22.0</td>\n",
       "      <td>0.0</td>\n",
       "      <td>4</td>\n",
       "      <td>10</td>\n",
       "      <td>24</td>\n",
       "    </tr>\n",
       "    <tr>\n",
       "      <th>3</th>\n",
       "      <td>__drewc</td>\n",
       "      <td>[Yo rly Try Cash App using my code and we’ll e...</td>\n",
       "      <td>8</td>\n",
       "      <td>9</td>\n",
       "      <td>__drewc</td>\n",
       "      <td>1.050000e+18</td>\n",
       "      <td>en</td>\n",
       "      <td>drew</td>\n",
       "      <td>New York, USA</td>\n",
       "      <td>_öÂ_öé _öÂ_ö_ _ç´Ù È \\r\\r26 #NewYork</td>\n",
       "      <td>False</td>\n",
       "      <td>27</td>\n",
       "      <td>128</td>\n",
       "      <td>181</td>\n",
       "      <td>113</td>\n",
       "      <td>10/17/18 4:12</td>\n",
       "      <td>False</td>\n",
       "      <td>https://pbs.twimg.com/profile_banners/10524118...</td>\n",
       "      <td>http://abs.twimg.com/images/themes/theme1/bg.png</td>\n",
       "      <td>http://pbs.twimg.com/profile_images/1090809548...</td>\n",
       "      <td>134.0</td>\n",
       "      <td>24.910635</td>\n",
       "      <td>1.969121</td>\n",
       "      <td>F</td>\n",
       "      <td>NaN</td>\n",
       "      <td>26.0</td>\n",
       "      <td>1.0</td>\n",
       "      <td>14</td>\n",
       "      <td>8</td>\n",
       "      <td>28</td>\n",
       "    </tr>\n",
       "    <tr>\n",
       "      <th>4</th>\n",
       "      <td>__EmilyRice__</td>\n",
       "      <td>[ yes but come to san marcos and live with me ...</td>\n",
       "      <td>9</td>\n",
       "      <td>10</td>\n",
       "      <td>__EmilyRice__</td>\n",
       "      <td>3.797155e+09</td>\n",
       "      <td>en</td>\n",
       "      <td>em</td>\n",
       "      <td>Marble Falls, TX</td>\n",
       "      <td>#TXST22</td>\n",
       "      <td>False</td>\n",
       "      <td>158</td>\n",
       "      <td>190</td>\n",
       "      <td>1219</td>\n",
       "      <td>2596</td>\n",
       "      <td>10/5/15 23:30</td>\n",
       "      <td>False</td>\n",
       "      <td>https://pbs.twimg.com/profile_banners/37971551...</td>\n",
       "      <td>http://abs.twimg.com/images/themes/theme1/bg.png</td>\n",
       "      <td>http://pbs.twimg.com/profile_images/8415201103...</td>\n",
       "      <td>100.0</td>\n",
       "      <td>25.191925</td>\n",
       "      <td>2.382856</td>\n",
       "      <td>F</td>\n",
       "      <td>NaN</td>\n",
       "      <td>20.0</td>\n",
       "      <td>0.0</td>\n",
       "      <td>11</td>\n",
       "      <td>4</td>\n",
       "      <td>9</td>\n",
       "    </tr>\n",
       "  </tbody>\n",
       "</table>\n",
       "</div>"
      ],
      "text/plain": [
       "         user.name  ... cnt_dup\n",
       "0    _____zac_____  ...      18\n",
       "1         ___aleia  ...      18\n",
       "2  ___schaeffer___  ...      24\n",
       "3          __drewc  ...      28\n",
       "4    __EmilyRice__  ...       9\n",
       "\n",
       "[5 rows x 30 columns]"
      ]
     },
     "execution_count": 78,
     "metadata": {},
     "output_type": "execute_result"
    }
   ],
   "source": [
    "df['cnt_q_mark'] = df['tweets'].map(lambda x: count_question(x))\n",
    "df['cnt_e_mark'] = df['tweets'].map(lambda x: count_exclamation(x))\n",
    "df['cnt_dup'] = df['tweets'].map(lambda x: count_duplicate(x))\n",
    "df.head()"
   ]
  },
  {
   "cell_type": "code",
   "execution_count": null,
   "metadata": {
    "colab": {
     "base_uri": "https://localhost:8080/",
     "height": 694
    },
    "id": "RtGE9nrLRWQo",
    "outputId": "fc72fc3b-8638-4ce4-b825-2a74f8f86378"
   },
   "outputs": [
    {
     "data": {
      "text/html": [
       "<div>\n",
       "<style scoped>\n",
       "    .dataframe tbody tr th:only-of-type {\n",
       "        vertical-align: middle;\n",
       "    }\n",
       "\n",
       "    .dataframe tbody tr th {\n",
       "        vertical-align: top;\n",
       "    }\n",
       "\n",
       "    .dataframe thead th {\n",
       "        text-align: right;\n",
       "    }\n",
       "</style>\n",
       "<table border=\"1\" class=\"dataframe\">\n",
       "  <thead>\n",
       "    <tr style=\"text-align: right;\">\n",
       "      <th></th>\n",
       "      <th>user.name</th>\n",
       "      <th>tweets</th>\n",
       "      <th>Unnamed: 0.1</th>\n",
       "      <th>Unnamed: 0.1.1</th>\n",
       "      <th>screen_name</th>\n",
       "      <th>user_id</th>\n",
       "      <th>lang</th>\n",
       "      <th>name</th>\n",
       "      <th>location</th>\n",
       "      <th>description</th>\n",
       "      <th>protected</th>\n",
       "      <th>followers_count</th>\n",
       "      <th>friends_count</th>\n",
       "      <th>statuses_count</th>\n",
       "      <th>favourites_count</th>\n",
       "      <th>account_created_at</th>\n",
       "      <th>verified</th>\n",
       "      <th>profile_banner_url</th>\n",
       "      <th>profile_background_url</th>\n",
       "      <th>profile_image_url</th>\n",
       "      <th>num.tweets.used.Lexicon.prediction</th>\n",
       "      <th>Lexicon.age.prediction</th>\n",
       "      <th>Lexicon.gender.prediction..index.</th>\n",
       "      <th>lexicon.gender.prediction</th>\n",
       "      <th>human.labeled.gender</th>\n",
       "      <th>human.labeled.age</th>\n",
       "      <th>age</th>\n",
       "      <th>cnt_q_mark</th>\n",
       "      <th>cnt_e_mark</th>\n",
       "      <th>cnt_dup</th>\n",
       "      <th>tweets_combined</th>\n",
       "      <th>pos_tag</th>\n",
       "    </tr>\n",
       "  </thead>\n",
       "  <tbody>\n",
       "    <tr>\n",
       "      <th>0</th>\n",
       "      <td>_____zac_____</td>\n",
       "      <td>[ , The owner of drip doesn't even have 100 mi...</td>\n",
       "      <td>0</td>\n",
       "      <td>1</td>\n",
       "      <td>_____zac_____</td>\n",
       "      <td>4.614412e+08</td>\n",
       "      <td>en</td>\n",
       "      <td>zac ¢</td>\n",
       "      <td>Maryland, USA</td>\n",
       "      <td>_____Û___È_Ü´Ù</td>\n",
       "      <td>False</td>\n",
       "      <td>208</td>\n",
       "      <td>178</td>\n",
       "      <td>27912</td>\n",
       "      <td>4179</td>\n",
       "      <td>1/11/12 20:19</td>\n",
       "      <td>False</td>\n",
       "      <td>https://pbs.twimg.com/profile_banners/46144118...</td>\n",
       "      <td>http://abs.twimg.com/images/themes/theme1/bg.png</td>\n",
       "      <td>http://pbs.twimg.com/profile_images/1226134911...</td>\n",
       "      <td>100.0</td>\n",
       "      <td>27.652434</td>\n",
       "      <td>-1.457167</td>\n",
       "      <td>M</td>\n",
       "      <td>NaN</td>\n",
       "      <td>23.0</td>\n",
       "      <td>1.0</td>\n",
       "      <td>1</td>\n",
       "      <td>2</td>\n",
       "      <td>18</td>\n",
       "      <td>the owner drip doesnt even mill drip compani ...</td>\n",
       "      <td>[(The, DT), (owner, NN), (drip, NN), (doesnt, ...</td>\n",
       "    </tr>\n",
       "    <tr>\n",
       "      <th>1</th>\n",
       "      <td>___aleia</td>\n",
       "      <td>[I haven’t talked to this girl since my sophom...</td>\n",
       "      <td>1</td>\n",
       "      <td>2</td>\n",
       "      <td>___aleia</td>\n",
       "      <td>7.650000e+17</td>\n",
       "      <td>en</td>\n",
       "      <td>_æ___ dad ___æ_</td>\n",
       "      <td>Ohio, USA</td>\n",
       "      <td>BLACK. LIVES. MATTER.</td>\n",
       "      <td>False</td>\n",
       "      <td>466</td>\n",
       "      <td>388</td>\n",
       "      <td>3313</td>\n",
       "      <td>23454</td>\n",
       "      <td>8/14/16 19:45</td>\n",
       "      <td>False</td>\n",
       "      <td>https://pbs.twimg.com/profile_banners/76491083...</td>\n",
       "      <td>NaN</td>\n",
       "      <td>http://pbs.twimg.com/profile_images/1271280679...</td>\n",
       "      <td>100.0</td>\n",
       "      <td>24.111464</td>\n",
       "      <td>0.985713</td>\n",
       "      <td>F</td>\n",
       "      <td>NaN</td>\n",
       "      <td>19.0</td>\n",
       "      <td>0.0</td>\n",
       "      <td>23</td>\n",
       "      <td>0</td>\n",
       "      <td>18</td>\n",
       "      <td>I talk girl sinc sophomor year I slid stori ma...</td>\n",
       "      <td>[(I, PRP), (talked, VBD), (girl, NN), (since, ...</td>\n",
       "    </tr>\n",
       "    <tr>\n",
       "      <th>2</th>\n",
       "      <td>___schaeffer___</td>\n",
       "      <td>[☝🏼👋🏼 ,  ,  ,  37-14-9,  congrats sis keep wor...</td>\n",
       "      <td>3</td>\n",
       "      <td>4</td>\n",
       "      <td>___schaeffer___</td>\n",
       "      <td>1.257110e+09</td>\n",
       "      <td>en</td>\n",
       "      <td>Brenden Schaeffer</td>\n",
       "      <td>The Lou</td>\n",
       "      <td>Culver-Stockton College '20 ¢ Ô_Ô_Ô KM 1548...</td>\n",
       "      <td>False</td>\n",
       "      <td>811</td>\n",
       "      <td>660</td>\n",
       "      <td>26670</td>\n",
       "      <td>72205</td>\n",
       "      <td>3/10/13 14:07</td>\n",
       "      <td>False</td>\n",
       "      <td>https://pbs.twimg.com/profile_banners/12571104...</td>\n",
       "      <td>http://abs.twimg.com/images/themes/theme1/bg.png</td>\n",
       "      <td>http://pbs.twimg.com/profile_images/1268044218...</td>\n",
       "      <td>59.0</td>\n",
       "      <td>35.518352</td>\n",
       "      <td>-3.591586</td>\n",
       "      <td>M</td>\n",
       "      <td>NaN</td>\n",
       "      <td>22.0</td>\n",
       "      <td>0.0</td>\n",
       "      <td>4</td>\n",
       "      <td>10</td>\n",
       "      <td>24</td>\n",
       "      <td>congrat si keep workin f spend memori day wee...</td>\n",
       "      <td>[(congrats, NNS), (si, VBP), (keep, VB), (work...</td>\n",
       "    </tr>\n",
       "    <tr>\n",
       "      <th>3</th>\n",
       "      <td>__drewc</td>\n",
       "      <td>[Yo rly Try Cash App using my code and we’ll e...</td>\n",
       "      <td>8</td>\n",
       "      <td>9</td>\n",
       "      <td>__drewc</td>\n",
       "      <td>1.050000e+18</td>\n",
       "      <td>en</td>\n",
       "      <td>drew</td>\n",
       "      <td>New York, USA</td>\n",
       "      <td>_öÂ_öé _öÂ_ö_ _ç´Ù È \\r\\r26 #NewYork</td>\n",
       "      <td>False</td>\n",
       "      <td>27</td>\n",
       "      <td>128</td>\n",
       "      <td>181</td>\n",
       "      <td>113</td>\n",
       "      <td>10/17/18 4:12</td>\n",
       "      <td>False</td>\n",
       "      <td>https://pbs.twimg.com/profile_banners/10524118...</td>\n",
       "      <td>http://abs.twimg.com/images/themes/theme1/bg.png</td>\n",
       "      <td>http://pbs.twimg.com/profile_images/1090809548...</td>\n",
       "      <td>134.0</td>\n",
       "      <td>24.910635</td>\n",
       "      <td>1.969121</td>\n",
       "      <td>F</td>\n",
       "      <td>NaN</td>\n",
       "      <td>26.0</td>\n",
       "      <td>1.0</td>\n",
       "      <td>14</td>\n",
       "      <td>8</td>\n",
       "      <td>28</td>\n",
       "      <td>Yo rli tri cash app use code get dlnxtrw start...</td>\n",
       "      <td>[(Yo, NNP), (rly, RB), (Try, NNP), (Cash, NNP)...</td>\n",
       "    </tr>\n",
       "    <tr>\n",
       "      <th>4</th>\n",
       "      <td>__EmilyRice__</td>\n",
       "      <td>[ yes but come to san marcos and live with me ...</td>\n",
       "      <td>9</td>\n",
       "      <td>10</td>\n",
       "      <td>__EmilyRice__</td>\n",
       "      <td>3.797155e+09</td>\n",
       "      <td>en</td>\n",
       "      <td>em</td>\n",
       "      <td>Marble Falls, TX</td>\n",
       "      <td>#TXST22</td>\n",
       "      <td>False</td>\n",
       "      <td>158</td>\n",
       "      <td>190</td>\n",
       "      <td>1219</td>\n",
       "      <td>2596</td>\n",
       "      <td>10/5/15 23:30</td>\n",
       "      <td>False</td>\n",
       "      <td>https://pbs.twimg.com/profile_banners/37971551...</td>\n",
       "      <td>http://abs.twimg.com/images/themes/theme1/bg.png</td>\n",
       "      <td>http://pbs.twimg.com/profile_images/8415201103...</td>\n",
       "      <td>100.0</td>\n",
       "      <td>25.191925</td>\n",
       "      <td>2.382856</td>\n",
       "      <td>F</td>\n",
       "      <td>NaN</td>\n",
       "      <td>20.0</td>\n",
       "      <td>0.0</td>\n",
       "      <td>11</td>\n",
       "      <td>4</td>\n",
       "      <td>9</td>\n",
       "      <td>ye come san marco live see next week squar ha...</td>\n",
       "      <td>[(yes, RB), (come, VBN), (san, JJ), (marcos, N...</td>\n",
       "    </tr>\n",
       "  </tbody>\n",
       "</table>\n",
       "</div>"
      ],
      "text/plain": [
       "         user.name  ...                                            pos_tag\n",
       "0    _____zac_____  ...  [(The, DT), (owner, NN), (drip, NN), (doesnt, ...\n",
       "1         ___aleia  ...  [(I, PRP), (talked, VBD), (girl, NN), (since, ...\n",
       "2  ___schaeffer___  ...  [(congrats, NNS), (si, VBP), (keep, VB), (work...\n",
       "3          __drewc  ...  [(Yo, NNP), (rly, RB), (Try, NNP), (Cash, NNP)...\n",
       "4    __EmilyRice__  ...  [(yes, RB), (come, VBN), (san, JJ), (marcos, N...\n",
       "\n",
       "[5 rows x 32 columns]"
      ]
     },
     "execution_count": 79,
     "metadata": {},
     "output_type": "execute_result"
    }
   ],
   "source": [
    "df['tweets_combined'] = df['tweets'].map(lambda x: \" \".join(x))\n",
    "df['tweets_combined'] = df['tweets_combined'].map(lambda x: remove_punct(x))\n",
    "df['tweets_combined'] = df['tweets_combined'].map(lambda x: tokenization(x))\n",
    "df['tweets_combined'] = df['tweets_combined'].map(lambda x: remove_stopwords(x))\n",
    "df['tweets_combined'] = df['tweets_combined'].map(lambda x: lemmatizer(x))\n",
    "df['pos_tag'] = df['tweets_combined'].map(lambda x: nltk.pos_tag([i for i in x if i]))\n",
    "df['tweets_combined'] = df['tweets_combined'].map(lambda x: stemming(x))\n",
    "df['tweets_combined'] = df['tweets_combined'].map(lambda x: \" \".join(x))\n",
    "df.head()"
   ]
  },
  {
   "cell_type": "code",
   "execution_count": null,
   "metadata": {
    "colab": {
     "base_uri": "https://localhost:8080/"
    },
    "id": "RqNCoFZ6T-lu",
    "outputId": "1c64ecc8-7e99-4abf-e143-f77fd5e98f54"
   },
   "outputs": [
    {
     "name": "stdout",
     "output_type": "stream",
     "text": [
      "(1145, 32)\n",
      "(1145, 34827)\n"
     ]
    }
   ],
   "source": [
    "print(df.shape)\n",
    "vectorizer = TfidfVectorizer()\n",
    "tfidf = vectorizer.fit_transform(df['tweets_combined'].fillna(\"\"))\n",
    "print(tfidf.shape)"
   ]
  },
  {
   "cell_type": "code",
   "execution_count": null,
   "metadata": {
    "colab": {
     "base_uri": "https://localhost:8080/",
     "height": 1000
    },
    "id": "qcAX4XeOUFH3",
    "outputId": "ca133f5d-86fe-4fb4-cbc5-65f626c00f55"
   },
   "outputs": [
    {
     "data": {
      "text/html": [
       "<div>\n",
       "<style scoped>\n",
       "    .dataframe tbody tr th:only-of-type {\n",
       "        vertical-align: middle;\n",
       "    }\n",
       "\n",
       "    .dataframe tbody tr th {\n",
       "        vertical-align: top;\n",
       "    }\n",
       "\n",
       "    .dataframe thead th {\n",
       "        text-align: right;\n",
       "    }\n",
       "</style>\n",
       "<table border=\"1\" class=\"dataframe\">\n",
       "  <thead>\n",
       "    <tr style=\"text-align: right;\">\n",
       "      <th></th>\n",
       "      <th>user.name</th>\n",
       "      <th>tweets</th>\n",
       "      <th>Unnamed: 0.1</th>\n",
       "      <th>Unnamed: 0.1.1</th>\n",
       "      <th>screen_name</th>\n",
       "      <th>user_id</th>\n",
       "      <th>lang</th>\n",
       "      <th>name</th>\n",
       "      <th>location</th>\n",
       "      <th>description</th>\n",
       "      <th>protected</th>\n",
       "      <th>followers_count</th>\n",
       "      <th>friends_count</th>\n",
       "      <th>statuses_count</th>\n",
       "      <th>favourites_count</th>\n",
       "      <th>account_created_at</th>\n",
       "      <th>verified</th>\n",
       "      <th>profile_banner_url</th>\n",
       "      <th>profile_background_url</th>\n",
       "      <th>profile_image_url</th>\n",
       "      <th>num.tweets.used.Lexicon.prediction</th>\n",
       "      <th>Lexicon.age.prediction</th>\n",
       "      <th>Lexicon.gender.prediction..index.</th>\n",
       "      <th>lexicon.gender.prediction</th>\n",
       "      <th>human.labeled.gender</th>\n",
       "      <th>human.labeled.age</th>\n",
       "      <th>age</th>\n",
       "      <th>cnt_q_mark</th>\n",
       "      <th>cnt_e_mark</th>\n",
       "      <th>cnt_dup</th>\n",
       "      <th>tweets_combined</th>\n",
       "      <th>pos_tag</th>\n",
       "      <th>0</th>\n",
       "      <th>1</th>\n",
       "      <th>2</th>\n",
       "      <th>3</th>\n",
       "      <th>4</th>\n",
       "      <th>5</th>\n",
       "      <th>6</th>\n",
       "      <th>7</th>\n",
       "      <th>8</th>\n",
       "      <th>9</th>\n",
       "      <th>10</th>\n",
       "      <th>11</th>\n",
       "      <th>12</th>\n",
       "      <th>13</th>\n",
       "      <th>14</th>\n",
       "      <th>15</th>\n",
       "      <th>16</th>\n",
       "      <th>17</th>\n",
       "      <th>18</th>\n",
       "      <th>19</th>\n",
       "      <th>20</th>\n",
       "      <th>21</th>\n",
       "      <th>22</th>\n",
       "      <th>23</th>\n",
       "      <th>24</th>\n",
       "      <th>25</th>\n",
       "      <th>26</th>\n",
       "      <th>27</th>\n",
       "      <th>28</th>\n",
       "      <th>29</th>\n",
       "      <th>30</th>\n",
       "      <th>31</th>\n",
       "      <th>32</th>\n",
       "      <th>33</th>\n",
       "      <th>34</th>\n",
       "      <th>35</th>\n",
       "      <th>36</th>\n",
       "      <th>37</th>\n",
       "      <th>38</th>\n",
       "      <th>39</th>\n",
       "    </tr>\n",
       "  </thead>\n",
       "  <tbody>\n",
       "    <tr>\n",
       "      <th>0</th>\n",
       "      <td>_____zac_____</td>\n",
       "      <td>[ , The owner of drip doesn't even have 100 mi...</td>\n",
       "      <td>0</td>\n",
       "      <td>1</td>\n",
       "      <td>_____zac_____</td>\n",
       "      <td>4.614412e+08</td>\n",
       "      <td>en</td>\n",
       "      <td>zac ¢</td>\n",
       "      <td>Maryland, USA</td>\n",
       "      <td>_____Û___È_Ü´Ù</td>\n",
       "      <td>False</td>\n",
       "      <td>208</td>\n",
       "      <td>178</td>\n",
       "      <td>27912</td>\n",
       "      <td>4179</td>\n",
       "      <td>1/11/12 20:19</td>\n",
       "      <td>False</td>\n",
       "      <td>https://pbs.twimg.com/profile_banners/46144118...</td>\n",
       "      <td>http://abs.twimg.com/images/themes/theme1/bg.png</td>\n",
       "      <td>http://pbs.twimg.com/profile_images/1226134911...</td>\n",
       "      <td>100.0</td>\n",
       "      <td>27.652434</td>\n",
       "      <td>-1.457167</td>\n",
       "      <td>M</td>\n",
       "      <td>NaN</td>\n",
       "      <td>23.0</td>\n",
       "      <td>1.0</td>\n",
       "      <td>1</td>\n",
       "      <td>2</td>\n",
       "      <td>18</td>\n",
       "      <td>the owner drip doesnt even mill drip compani ...</td>\n",
       "      <td>[(The, DT), (owner, NN), (drip, NN), (doesnt, ...</td>\n",
       "      <td>0.182250</td>\n",
       "      <td>0.010311</td>\n",
       "      <td>-0.050827</td>\n",
       "      <td>0.021081</td>\n",
       "      <td>-0.004496</td>\n",
       "      <td>0.133309</td>\n",
       "      <td>0.122411</td>\n",
       "      <td>-0.018540</td>\n",
       "      <td>-0.007837</td>\n",
       "      <td>0.016225</td>\n",
       "      <td>-0.008896</td>\n",
       "      <td>0.023992</td>\n",
       "      <td>-0.015432</td>\n",
       "      <td>-0.026794</td>\n",
       "      <td>-0.055747</td>\n",
       "      <td>-0.014950</td>\n",
       "      <td>-0.023691</td>\n",
       "      <td>-0.004295</td>\n",
       "      <td>0.040216</td>\n",
       "      <td>0.007115</td>\n",
       "      <td>-0.034233</td>\n",
       "      <td>0.061961</td>\n",
       "      <td>-0.033351</td>\n",
       "      <td>0.034419</td>\n",
       "      <td>0.005288</td>\n",
       "      <td>-0.012992</td>\n",
       "      <td>0.038794</td>\n",
       "      <td>-0.039947</td>\n",
       "      <td>-0.012038</td>\n",
       "      <td>0.031020</td>\n",
       "      <td>-0.034647</td>\n",
       "      <td>-0.060290</td>\n",
       "      <td>-0.024418</td>\n",
       "      <td>-0.051185</td>\n",
       "      <td>0.002446</td>\n",
       "      <td>0.008033</td>\n",
       "      <td>0.006136</td>\n",
       "      <td>0.019540</td>\n",
       "      <td>0.005398</td>\n",
       "      <td>-0.014870</td>\n",
       "    </tr>\n",
       "    <tr>\n",
       "      <th>1</th>\n",
       "      <td>___aleia</td>\n",
       "      <td>[I haven’t talked to this girl since my sophom...</td>\n",
       "      <td>1</td>\n",
       "      <td>2</td>\n",
       "      <td>___aleia</td>\n",
       "      <td>7.650000e+17</td>\n",
       "      <td>en</td>\n",
       "      <td>_æ___ dad ___æ_</td>\n",
       "      <td>Ohio, USA</td>\n",
       "      <td>BLACK. LIVES. MATTER.</td>\n",
       "      <td>False</td>\n",
       "      <td>466</td>\n",
       "      <td>388</td>\n",
       "      <td>3313</td>\n",
       "      <td>23454</td>\n",
       "      <td>8/14/16 19:45</td>\n",
       "      <td>False</td>\n",
       "      <td>https://pbs.twimg.com/profile_banners/76491083...</td>\n",
       "      <td>NaN</td>\n",
       "      <td>http://pbs.twimg.com/profile_images/1271280679...</td>\n",
       "      <td>100.0</td>\n",
       "      <td>24.111464</td>\n",
       "      <td>0.985713</td>\n",
       "      <td>F</td>\n",
       "      <td>NaN</td>\n",
       "      <td>19.0</td>\n",
       "      <td>0.0</td>\n",
       "      <td>23</td>\n",
       "      <td>0</td>\n",
       "      <td>18</td>\n",
       "      <td>I talk girl sinc sophomor year I slid stori ma...</td>\n",
       "      <td>[(I, PRP), (talked, VBD), (girl, NN), (since, ...</td>\n",
       "      <td>0.421480</td>\n",
       "      <td>-0.005196</td>\n",
       "      <td>0.012286</td>\n",
       "      <td>-0.071233</td>\n",
       "      <td>0.008241</td>\n",
       "      <td>-0.016044</td>\n",
       "      <td>-0.064879</td>\n",
       "      <td>0.030147</td>\n",
       "      <td>0.093987</td>\n",
       "      <td>0.003706</td>\n",
       "      <td>0.010887</td>\n",
       "      <td>-0.123765</td>\n",
       "      <td>0.049065</td>\n",
       "      <td>0.001880</td>\n",
       "      <td>-0.082073</td>\n",
       "      <td>-0.072236</td>\n",
       "      <td>0.014217</td>\n",
       "      <td>-0.015302</td>\n",
       "      <td>-0.011231</td>\n",
       "      <td>-0.015166</td>\n",
       "      <td>-0.026028</td>\n",
       "      <td>-0.058842</td>\n",
       "      <td>-0.066511</td>\n",
       "      <td>-0.013608</td>\n",
       "      <td>0.043116</td>\n",
       "      <td>-0.005507</td>\n",
       "      <td>-0.034054</td>\n",
       "      <td>-0.073538</td>\n",
       "      <td>-0.056888</td>\n",
       "      <td>0.012439</td>\n",
       "      <td>-0.068434</td>\n",
       "      <td>0.006496</td>\n",
       "      <td>0.015098</td>\n",
       "      <td>-0.021535</td>\n",
       "      <td>-0.029896</td>\n",
       "      <td>-0.061801</td>\n",
       "      <td>-0.006693</td>\n",
       "      <td>-0.020352</td>\n",
       "      <td>0.106399</td>\n",
       "      <td>-0.048229</td>\n",
       "    </tr>\n",
       "    <tr>\n",
       "      <th>2</th>\n",
       "      <td>___schaeffer___</td>\n",
       "      <td>[☝🏼👋🏼 ,  ,  ,  37-14-9,  congrats sis keep wor...</td>\n",
       "      <td>3</td>\n",
       "      <td>4</td>\n",
       "      <td>___schaeffer___</td>\n",
       "      <td>1.257110e+09</td>\n",
       "      <td>en</td>\n",
       "      <td>Brenden Schaeffer</td>\n",
       "      <td>The Lou</td>\n",
       "      <td>Culver-Stockton College '20 ¢ Ô_Ô_Ô KM 1548...</td>\n",
       "      <td>False</td>\n",
       "      <td>811</td>\n",
       "      <td>660</td>\n",
       "      <td>26670</td>\n",
       "      <td>72205</td>\n",
       "      <td>3/10/13 14:07</td>\n",
       "      <td>False</td>\n",
       "      <td>https://pbs.twimg.com/profile_banners/12571104...</td>\n",
       "      <td>http://abs.twimg.com/images/themes/theme1/bg.png</td>\n",
       "      <td>http://pbs.twimg.com/profile_images/1268044218...</td>\n",
       "      <td>59.0</td>\n",
       "      <td>35.518352</td>\n",
       "      <td>-3.591586</td>\n",
       "      <td>M</td>\n",
       "      <td>NaN</td>\n",
       "      <td>22.0</td>\n",
       "      <td>0.0</td>\n",
       "      <td>4</td>\n",
       "      <td>10</td>\n",
       "      <td>24</td>\n",
       "      <td>congrat si keep workin f spend memori day wee...</td>\n",
       "      <td>[(congrats, NNS), (si, VBP), (keep, VB), (work...</td>\n",
       "      <td>0.196637</td>\n",
       "      <td>-0.017048</td>\n",
       "      <td>0.017174</td>\n",
       "      <td>0.057946</td>\n",
       "      <td>-0.088193</td>\n",
       "      <td>0.146890</td>\n",
       "      <td>0.211579</td>\n",
       "      <td>0.000535</td>\n",
       "      <td>-0.072917</td>\n",
       "      <td>0.034493</td>\n",
       "      <td>0.008048</td>\n",
       "      <td>-0.045565</td>\n",
       "      <td>-0.037273</td>\n",
       "      <td>-0.019286</td>\n",
       "      <td>0.003544</td>\n",
       "      <td>0.002424</td>\n",
       "      <td>0.040103</td>\n",
       "      <td>-0.035794</td>\n",
       "      <td>0.014275</td>\n",
       "      <td>0.030513</td>\n",
       "      <td>-0.008266</td>\n",
       "      <td>0.026915</td>\n",
       "      <td>0.025963</td>\n",
       "      <td>0.020630</td>\n",
       "      <td>-0.000128</td>\n",
       "      <td>0.022604</td>\n",
       "      <td>0.044920</td>\n",
       "      <td>0.019269</td>\n",
       "      <td>-0.002644</td>\n",
       "      <td>0.004621</td>\n",
       "      <td>-0.004376</td>\n",
       "      <td>-0.016519</td>\n",
       "      <td>0.018394</td>\n",
       "      <td>0.040289</td>\n",
       "      <td>0.008221</td>\n",
       "      <td>-0.005028</td>\n",
       "      <td>-0.060658</td>\n",
       "      <td>-0.025150</td>\n",
       "      <td>-0.008076</td>\n",
       "      <td>0.018778</td>\n",
       "    </tr>\n",
       "    <tr>\n",
       "      <th>3</th>\n",
       "      <td>__drewc</td>\n",
       "      <td>[Yo rly Try Cash App using my code and we’ll e...</td>\n",
       "      <td>8</td>\n",
       "      <td>9</td>\n",
       "      <td>__drewc</td>\n",
       "      <td>1.050000e+18</td>\n",
       "      <td>en</td>\n",
       "      <td>drew</td>\n",
       "      <td>New York, USA</td>\n",
       "      <td>_öÂ_öé _öÂ_ö_ _ç´Ù È \\r\\r26 #NewYork</td>\n",
       "      <td>False</td>\n",
       "      <td>27</td>\n",
       "      <td>128</td>\n",
       "      <td>181</td>\n",
       "      <td>113</td>\n",
       "      <td>10/17/18 4:12</td>\n",
       "      <td>False</td>\n",
       "      <td>https://pbs.twimg.com/profile_banners/10524118...</td>\n",
       "      <td>http://abs.twimg.com/images/themes/theme1/bg.png</td>\n",
       "      <td>http://pbs.twimg.com/profile_images/1090809548...</td>\n",
       "      <td>134.0</td>\n",
       "      <td>24.910635</td>\n",
       "      <td>1.969121</td>\n",
       "      <td>F</td>\n",
       "      <td>NaN</td>\n",
       "      <td>26.0</td>\n",
       "      <td>1.0</td>\n",
       "      <td>14</td>\n",
       "      <td>8</td>\n",
       "      <td>28</td>\n",
       "      <td>Yo rli tri cash app use code get dlnxtrw start...</td>\n",
       "      <td>[(Yo, NNP), (rly, RB), (Try, NNP), (Cash, NNP)...</td>\n",
       "      <td>0.292147</td>\n",
       "      <td>0.011468</td>\n",
       "      <td>0.006858</td>\n",
       "      <td>0.021411</td>\n",
       "      <td>0.026597</td>\n",
       "      <td>-0.007389</td>\n",
       "      <td>-0.036262</td>\n",
       "      <td>0.038477</td>\n",
       "      <td>-0.048795</td>\n",
       "      <td>-0.060009</td>\n",
       "      <td>-0.026018</td>\n",
       "      <td>-0.021691</td>\n",
       "      <td>0.009505</td>\n",
       "      <td>-0.046299</td>\n",
       "      <td>0.032095</td>\n",
       "      <td>0.008894</td>\n",
       "      <td>-0.021310</td>\n",
       "      <td>0.019745</td>\n",
       "      <td>0.106966</td>\n",
       "      <td>0.038652</td>\n",
       "      <td>-0.048566</td>\n",
       "      <td>0.021507</td>\n",
       "      <td>-0.008676</td>\n",
       "      <td>-0.011875</td>\n",
       "      <td>-0.059614</td>\n",
       "      <td>0.008834</td>\n",
       "      <td>-0.027677</td>\n",
       "      <td>0.017259</td>\n",
       "      <td>0.055144</td>\n",
       "      <td>-0.027008</td>\n",
       "      <td>-0.024169</td>\n",
       "      <td>-0.017636</td>\n",
       "      <td>-0.103749</td>\n",
       "      <td>0.004435</td>\n",
       "      <td>0.021814</td>\n",
       "      <td>0.171984</td>\n",
       "      <td>0.013501</td>\n",
       "      <td>-0.031735</td>\n",
       "      <td>-0.007388</td>\n",
       "      <td>0.037080</td>\n",
       "    </tr>\n",
       "    <tr>\n",
       "      <th>4</th>\n",
       "      <td>__EmilyRice__</td>\n",
       "      <td>[ yes but come to san marcos and live with me ...</td>\n",
       "      <td>9</td>\n",
       "      <td>10</td>\n",
       "      <td>__EmilyRice__</td>\n",
       "      <td>3.797155e+09</td>\n",
       "      <td>en</td>\n",
       "      <td>em</td>\n",
       "      <td>Marble Falls, TX</td>\n",
       "      <td>#TXST22</td>\n",
       "      <td>False</td>\n",
       "      <td>158</td>\n",
       "      <td>190</td>\n",
       "      <td>1219</td>\n",
       "      <td>2596</td>\n",
       "      <td>10/5/15 23:30</td>\n",
       "      <td>False</td>\n",
       "      <td>https://pbs.twimg.com/profile_banners/37971551...</td>\n",
       "      <td>http://abs.twimg.com/images/themes/theme1/bg.png</td>\n",
       "      <td>http://pbs.twimg.com/profile_images/8415201103...</td>\n",
       "      <td>100.0</td>\n",
       "      <td>25.191925</td>\n",
       "      <td>2.382856</td>\n",
       "      <td>F</td>\n",
       "      <td>NaN</td>\n",
       "      <td>20.0</td>\n",
       "      <td>0.0</td>\n",
       "      <td>11</td>\n",
       "      <td>4</td>\n",
       "      <td>9</td>\n",
       "      <td>ye come san marco live see next week squar ha...</td>\n",
       "      <td>[(yes, RB), (come, VBN), (san, JJ), (marcos, N...</td>\n",
       "      <td>0.375113</td>\n",
       "      <td>-0.029606</td>\n",
       "      <td>0.064171</td>\n",
       "      <td>0.096988</td>\n",
       "      <td>-0.052405</td>\n",
       "      <td>0.056298</td>\n",
       "      <td>-0.005638</td>\n",
       "      <td>0.008035</td>\n",
       "      <td>-0.066461</td>\n",
       "      <td>-0.062559</td>\n",
       "      <td>-0.009824</td>\n",
       "      <td>-0.028329</td>\n",
       "      <td>-0.015187</td>\n",
       "      <td>-0.004336</td>\n",
       "      <td>0.004214</td>\n",
       "      <td>-0.020141</td>\n",
       "      <td>0.016967</td>\n",
       "      <td>0.018555</td>\n",
       "      <td>0.033283</td>\n",
       "      <td>-0.056305</td>\n",
       "      <td>0.001741</td>\n",
       "      <td>0.033716</td>\n",
       "      <td>0.038210</td>\n",
       "      <td>0.000044</td>\n",
       "      <td>-0.093822</td>\n",
       "      <td>0.044786</td>\n",
       "      <td>-0.017565</td>\n",
       "      <td>-0.021651</td>\n",
       "      <td>-0.021839</td>\n",
       "      <td>-0.000775</td>\n",
       "      <td>0.038097</td>\n",
       "      <td>-0.045425</td>\n",
       "      <td>-0.022227</td>\n",
       "      <td>-0.010007</td>\n",
       "      <td>-0.034502</td>\n",
       "      <td>0.028589</td>\n",
       "      <td>-0.052868</td>\n",
       "      <td>0.057449</td>\n",
       "      <td>0.020740</td>\n",
       "      <td>0.003406</td>\n",
       "    </tr>\n",
       "    <tr>\n",
       "      <th>...</th>\n",
       "      <td>...</td>\n",
       "      <td>...</td>\n",
       "      <td>...</td>\n",
       "      <td>...</td>\n",
       "      <td>...</td>\n",
       "      <td>...</td>\n",
       "      <td>...</td>\n",
       "      <td>...</td>\n",
       "      <td>...</td>\n",
       "      <td>...</td>\n",
       "      <td>...</td>\n",
       "      <td>...</td>\n",
       "      <td>...</td>\n",
       "      <td>...</td>\n",
       "      <td>...</td>\n",
       "      <td>...</td>\n",
       "      <td>...</td>\n",
       "      <td>...</td>\n",
       "      <td>...</td>\n",
       "      <td>...</td>\n",
       "      <td>...</td>\n",
       "      <td>...</td>\n",
       "      <td>...</td>\n",
       "      <td>...</td>\n",
       "      <td>...</td>\n",
       "      <td>...</td>\n",
       "      <td>...</td>\n",
       "      <td>...</td>\n",
       "      <td>...</td>\n",
       "      <td>...</td>\n",
       "      <td>...</td>\n",
       "      <td>...</td>\n",
       "      <td>...</td>\n",
       "      <td>...</td>\n",
       "      <td>...</td>\n",
       "      <td>...</td>\n",
       "      <td>...</td>\n",
       "      <td>...</td>\n",
       "      <td>...</td>\n",
       "      <td>...</td>\n",
       "      <td>...</td>\n",
       "      <td>...</td>\n",
       "      <td>...</td>\n",
       "      <td>...</td>\n",
       "      <td>...</td>\n",
       "      <td>...</td>\n",
       "      <td>...</td>\n",
       "      <td>...</td>\n",
       "      <td>...</td>\n",
       "      <td>...</td>\n",
       "      <td>...</td>\n",
       "      <td>...</td>\n",
       "      <td>...</td>\n",
       "      <td>...</td>\n",
       "      <td>...</td>\n",
       "      <td>...</td>\n",
       "      <td>...</td>\n",
       "      <td>...</td>\n",
       "      <td>...</td>\n",
       "      <td>...</td>\n",
       "      <td>...</td>\n",
       "      <td>...</td>\n",
       "      <td>...</td>\n",
       "      <td>...</td>\n",
       "      <td>...</td>\n",
       "      <td>...</td>\n",
       "      <td>...</td>\n",
       "      <td>...</td>\n",
       "      <td>...</td>\n",
       "      <td>...</td>\n",
       "      <td>...</td>\n",
       "      <td>...</td>\n",
       "    </tr>\n",
       "    <tr>\n",
       "      <th>1140</th>\n",
       "      <td>zmeadows_18</td>\n",
       "      <td>[ROLL BOBBIES ROLL💚🖤💚🖤💚, We Are Texans! I'm ta...</td>\n",
       "      <td>3268</td>\n",
       "      <td>3269</td>\n",
       "      <td>zmeadows_18</td>\n",
       "      <td>7.050000e+17</td>\n",
       "      <td>und</td>\n",
       "      <td>Z Meadows</td>\n",
       "      <td>Circleville, OH</td>\n",
       "      <td>|OUCÈ23__|</td>\n",
       "      <td>False</td>\n",
       "      <td>556</td>\n",
       "      <td>1372</td>\n",
       "      <td>3388</td>\n",
       "      <td>11239</td>\n",
       "      <td>3/1/16 3:46</td>\n",
       "      <td>False</td>\n",
       "      <td>https://pbs.twimg.com/profile_banners/70451319...</td>\n",
       "      <td>NaN</td>\n",
       "      <td>http://pbs.twimg.com/profile_images/1252321514...</td>\n",
       "      <td>100.0</td>\n",
       "      <td>32.385038</td>\n",
       "      <td>-1.729790</td>\n",
       "      <td>M</td>\n",
       "      <td>NaN</td>\n",
       "      <td>19.0</td>\n",
       "      <td>0.0</td>\n",
       "      <td>0</td>\n",
       "      <td>2</td>\n",
       "      <td>11</td>\n",
       "      <td>roll bobbi roll We are texan Im take deshaun w...</td>\n",
       "      <td>[(ROLL, NNP), (BOBBIES, NNP), (ROLL, NNP), (We...</td>\n",
       "      <td>0.083179</td>\n",
       "      <td>-0.001771</td>\n",
       "      <td>0.001536</td>\n",
       "      <td>-0.001321</td>\n",
       "      <td>0.027223</td>\n",
       "      <td>-0.019936</td>\n",
       "      <td>0.019433</td>\n",
       "      <td>-0.007753</td>\n",
       "      <td>0.000458</td>\n",
       "      <td>-0.003289</td>\n",
       "      <td>-0.021111</td>\n",
       "      <td>0.037836</td>\n",
       "      <td>0.035276</td>\n",
       "      <td>-0.002290</td>\n",
       "      <td>0.001015</td>\n",
       "      <td>-0.009718</td>\n",
       "      <td>-0.032040</td>\n",
       "      <td>-0.003824</td>\n",
       "      <td>-0.000778</td>\n",
       "      <td>0.032914</td>\n",
       "      <td>0.013727</td>\n",
       "      <td>0.019249</td>\n",
       "      <td>0.037246</td>\n",
       "      <td>-0.016351</td>\n",
       "      <td>0.038125</td>\n",
       "      <td>-0.002487</td>\n",
       "      <td>0.015457</td>\n",
       "      <td>0.024555</td>\n",
       "      <td>0.001129</td>\n",
       "      <td>0.020214</td>\n",
       "      <td>-0.025933</td>\n",
       "      <td>0.026117</td>\n",
       "      <td>0.003179</td>\n",
       "      <td>-0.002648</td>\n",
       "      <td>0.028642</td>\n",
       "      <td>0.003695</td>\n",
       "      <td>-0.014262</td>\n",
       "      <td>-0.036892</td>\n",
       "      <td>-0.074573</td>\n",
       "      <td>-0.014884</td>\n",
       "    </tr>\n",
       "    <tr>\n",
       "      <th>1141</th>\n",
       "      <td>ZoeBerrier</td>\n",
       "      <td>[We've evolved past the need for those silly l...</td>\n",
       "      <td>3271</td>\n",
       "      <td>3272</td>\n",
       "      <td>ZoeBerrier</td>\n",
       "      <td>9.020000e+17</td>\n",
       "      <td>en</td>\n",
       "      <td>Zoâ _êâ</td>\n",
       "      <td>Millersville, PA</td>\n",
       "      <td>MU 2021 (she/her)\\r\\rQueen of putting lipstick...</td>\n",
       "      <td>False</td>\n",
       "      <td>94</td>\n",
       "      <td>298</td>\n",
       "      <td>858</td>\n",
       "      <td>4428</td>\n",
       "      <td>8/28/17 21:03</td>\n",
       "      <td>False</td>\n",
       "      <td>https://pbs.twimg.com/profile_banners/90227535...</td>\n",
       "      <td>NaN</td>\n",
       "      <td>http://pbs.twimg.com/profile_images/1241199033...</td>\n",
       "      <td>100.0</td>\n",
       "      <td>22.585143</td>\n",
       "      <td>1.243141</td>\n",
       "      <td>F</td>\n",
       "      <td>F</td>\n",
       "      <td>20.0</td>\n",
       "      <td>0.0</td>\n",
       "      <td>8</td>\n",
       "      <td>10</td>\n",
       "      <td>8</td>\n",
       "      <td>weve evolv past need silli littl bow woman und...</td>\n",
       "      <td>[(Weve, NNP), (evolved, VBD), (past, JJ), (nee...</td>\n",
       "      <td>0.397377</td>\n",
       "      <td>0.008841</td>\n",
       "      <td>-0.114880</td>\n",
       "      <td>0.066412</td>\n",
       "      <td>0.066973</td>\n",
       "      <td>0.061280</td>\n",
       "      <td>-0.066343</td>\n",
       "      <td>-0.023460</td>\n",
       "      <td>-0.024540</td>\n",
       "      <td>-0.040079</td>\n",
       "      <td>-0.050114</td>\n",
       "      <td>0.060474</td>\n",
       "      <td>0.005773</td>\n",
       "      <td>-0.038230</td>\n",
       "      <td>0.033880</td>\n",
       "      <td>-0.004099</td>\n",
       "      <td>-0.008374</td>\n",
       "      <td>-0.033674</td>\n",
       "      <td>0.030413</td>\n",
       "      <td>-0.032604</td>\n",
       "      <td>-0.033243</td>\n",
       "      <td>0.011188</td>\n",
       "      <td>0.008388</td>\n",
       "      <td>0.024073</td>\n",
       "      <td>0.003060</td>\n",
       "      <td>-0.054945</td>\n",
       "      <td>-0.013763</td>\n",
       "      <td>-0.031866</td>\n",
       "      <td>-0.017091</td>\n",
       "      <td>0.015291</td>\n",
       "      <td>0.011485</td>\n",
       "      <td>0.030730</td>\n",
       "      <td>0.017833</td>\n",
       "      <td>0.003761</td>\n",
       "      <td>0.068029</td>\n",
       "      <td>-0.018204</td>\n",
       "      <td>-0.049717</td>\n",
       "      <td>0.001340</td>\n",
       "      <td>0.036260</td>\n",
       "      <td>-0.021780</td>\n",
       "    </tr>\n",
       "    <tr>\n",
       "      <th>1142</th>\n",
       "      <td>ZoeCalamaco</td>\n",
       "      <td>[one person followed me // automatically check...</td>\n",
       "      <td>3272</td>\n",
       "      <td>3273</td>\n",
       "      <td>ZoeCalamaco</td>\n",
       "      <td>3.214954e+09</td>\n",
       "      <td>no</td>\n",
       "      <td>Zoe _</td>\n",
       "      <td>San Angelo tx/ aspermont tx</td>\n",
       "      <td>Angelo state</td>\n",
       "      <td>False</td>\n",
       "      <td>475</td>\n",
       "      <td>318</td>\n",
       "      <td>6494</td>\n",
       "      <td>7475</td>\n",
       "      <td>4/28/15 0:24</td>\n",
       "      <td>False</td>\n",
       "      <td>https://pbs.twimg.com/profile_banners/32149543...</td>\n",
       "      <td>http://abs.twimg.com/images/themes/theme1/bg.png</td>\n",
       "      <td>http://pbs.twimg.com/profile_images/1277399838...</td>\n",
       "      <td>100.0</td>\n",
       "      <td>21.348766</td>\n",
       "      <td>1.939069</td>\n",
       "      <td>F</td>\n",
       "      <td>F</td>\n",
       "      <td>21.0</td>\n",
       "      <td>0.0</td>\n",
       "      <td>1</td>\n",
       "      <td>0</td>\n",
       "      <td>20</td>\n",
       "      <td>one person follow automat check miss boyfriend...</td>\n",
       "      <td>[(one, CD), (person, NN), (followed, VBD), (au...</td>\n",
       "      <td>0.414990</td>\n",
       "      <td>0.245228</td>\n",
       "      <td>0.139944</td>\n",
       "      <td>-0.004443</td>\n",
       "      <td>-0.061350</td>\n",
       "      <td>0.020209</td>\n",
       "      <td>-0.116880</td>\n",
       "      <td>-0.026936</td>\n",
       "      <td>-0.062350</td>\n",
       "      <td>0.011289</td>\n",
       "      <td>-0.018525</td>\n",
       "      <td>0.001167</td>\n",
       "      <td>-0.059791</td>\n",
       "      <td>0.022150</td>\n",
       "      <td>-0.053154</td>\n",
       "      <td>0.030383</td>\n",
       "      <td>0.019418</td>\n",
       "      <td>0.004718</td>\n",
       "      <td>-0.025554</td>\n",
       "      <td>-0.009054</td>\n",
       "      <td>-0.027020</td>\n",
       "      <td>0.007727</td>\n",
       "      <td>0.059081</td>\n",
       "      <td>0.038604</td>\n",
       "      <td>0.053479</td>\n",
       "      <td>-0.030744</td>\n",
       "      <td>0.060354</td>\n",
       "      <td>0.067549</td>\n",
       "      <td>-0.003236</td>\n",
       "      <td>0.012855</td>\n",
       "      <td>-0.001968</td>\n",
       "      <td>-0.031300</td>\n",
       "      <td>0.001380</td>\n",
       "      <td>0.027171</td>\n",
       "      <td>-0.047192</td>\n",
       "      <td>-0.000651</td>\n",
       "      <td>-0.010639</td>\n",
       "      <td>0.057636</td>\n",
       "      <td>0.069688</td>\n",
       "      <td>0.008407</td>\n",
       "    </tr>\n",
       "    <tr>\n",
       "      <th>1143</th>\n",
       "      <td>ZoPeachy</td>\n",
       "      <td>[Good morning! Say it back ♡ , Happy Friday! S...</td>\n",
       "      <td>3274</td>\n",
       "      <td>3275</td>\n",
       "      <td>ZoPeachy</td>\n",
       "      <td>9.890000e+17</td>\n",
       "      <td>en</td>\n",
       "      <td>Zobella Thee Alpha __ê_____´Ù__ ...</td>\n",
       "      <td>New England/Boston, MA</td>\n",
       "      <td>Harlot for hire. FinDom. 27. Nonbinary. they/t...</td>\n",
       "      <td>False</td>\n",
       "      <td>396</td>\n",
       "      <td>635</td>\n",
       "      <td>3553</td>\n",
       "      <td>2075</td>\n",
       "      <td>4/25/18 3:51</td>\n",
       "      <td>False</td>\n",
       "      <td>https://pbs.twimg.com/profile_banners/98898876...</td>\n",
       "      <td>http://abs.twimg.com/images/themes/theme1/bg.png</td>\n",
       "      <td>http://pbs.twimg.com/profile_images/1153648270...</td>\n",
       "      <td>100.0</td>\n",
       "      <td>34.894953</td>\n",
       "      <td>2.058720</td>\n",
       "      <td>F</td>\n",
       "      <td>NaN</td>\n",
       "      <td>27.0</td>\n",
       "      <td>1.0</td>\n",
       "      <td>22</td>\n",
       "      <td>19</td>\n",
       "      <td>5</td>\n",
       "      <td>good morn say back happi friday send put bigge...</td>\n",
       "      <td>[(Good, JJ), (morning, NN), (Say, NNP), (back,...</td>\n",
       "      <td>0.155269</td>\n",
       "      <td>-0.004121</td>\n",
       "      <td>0.006326</td>\n",
       "      <td>0.010755</td>\n",
       "      <td>0.023942</td>\n",
       "      <td>0.080720</td>\n",
       "      <td>0.054912</td>\n",
       "      <td>0.013719</td>\n",
       "      <td>-0.018201</td>\n",
       "      <td>-0.034298</td>\n",
       "      <td>0.011175</td>\n",
       "      <td>0.001971</td>\n",
       "      <td>0.045657</td>\n",
       "      <td>-0.024108</td>\n",
       "      <td>0.024605</td>\n",
       "      <td>0.097385</td>\n",
       "      <td>-0.040727</td>\n",
       "      <td>0.030912</td>\n",
       "      <td>0.008306</td>\n",
       "      <td>0.043304</td>\n",
       "      <td>-0.014078</td>\n",
       "      <td>0.064733</td>\n",
       "      <td>-0.067443</td>\n",
       "      <td>-0.052631</td>\n",
       "      <td>0.017613</td>\n",
       "      <td>-0.002601</td>\n",
       "      <td>-0.061144</td>\n",
       "      <td>-0.014235</td>\n",
       "      <td>-0.010508</td>\n",
       "      <td>-0.051711</td>\n",
       "      <td>0.033112</td>\n",
       "      <td>0.002991</td>\n",
       "      <td>-0.016198</td>\n",
       "      <td>-0.025275</td>\n",
       "      <td>0.071918</td>\n",
       "      <td>0.040563</td>\n",
       "      <td>-0.008655</td>\n",
       "      <td>-0.002758</td>\n",
       "      <td>0.078812</td>\n",
       "      <td>0.075129</td>\n",
       "    </tr>\n",
       "    <tr>\n",
       "      <th>1144</th>\n",
       "      <td>zzzakari4</td>\n",
       "      <td>[i just know willows next album is gonna set m...</td>\n",
       "      <td>3279</td>\n",
       "      <td>3280</td>\n",
       "      <td>zzzakari4</td>\n",
       "      <td>1.020000e+18</td>\n",
       "      <td>en</td>\n",
       "      <td>_«_«ê_«__«ê</td>\n",
       "      <td>Moreno Valley, CA</td>\n",
       "      <td>i hate making bios oh my godddd UCIÈ21</td>\n",
       "      <td>False</td>\n",
       "      <td>60</td>\n",
       "      <td>283</td>\n",
       "      <td>4239</td>\n",
       "      <td>27947</td>\n",
       "      <td>7/23/18 7:05</td>\n",
       "      <td>False</td>\n",
       "      <td>https://pbs.twimg.com/profile_banners/10212902...</td>\n",
       "      <td>http://abs.twimg.com/images/themes/theme1/bg.png</td>\n",
       "      <td>http://pbs.twimg.com/profile_images/1221708547...</td>\n",
       "      <td>100.0</td>\n",
       "      <td>17.257385</td>\n",
       "      <td>0.288805</td>\n",
       "      <td>F</td>\n",
       "      <td>NaN</td>\n",
       "      <td>21.0</td>\n",
       "      <td>0.0</td>\n",
       "      <td>2</td>\n",
       "      <td>36</td>\n",
       "      <td>37</td>\n",
       "      <td>know willow next album gonna set free lmao sou...</td>\n",
       "      <td>[(know, VB), (willow, JJ), (next, JJ), (album,...</td>\n",
       "      <td>0.343027</td>\n",
       "      <td>-0.012927</td>\n",
       "      <td>0.054972</td>\n",
       "      <td>-0.155331</td>\n",
       "      <td>0.075437</td>\n",
       "      <td>-0.008112</td>\n",
       "      <td>-0.023409</td>\n",
       "      <td>-0.035194</td>\n",
       "      <td>-0.007698</td>\n",
       "      <td>0.005268</td>\n",
       "      <td>-0.105248</td>\n",
       "      <td>-0.032896</td>\n",
       "      <td>0.083385</td>\n",
       "      <td>-0.035807</td>\n",
       "      <td>0.024077</td>\n",
       "      <td>-0.023607</td>\n",
       "      <td>0.013366</td>\n",
       "      <td>-0.043889</td>\n",
       "      <td>-0.029753</td>\n",
       "      <td>-0.037213</td>\n",
       "      <td>-0.007676</td>\n",
       "      <td>-0.038956</td>\n",
       "      <td>0.024861</td>\n",
       "      <td>-0.036559</td>\n",
       "      <td>-0.031370</td>\n",
       "      <td>0.030514</td>\n",
       "      <td>0.004754</td>\n",
       "      <td>-0.013698</td>\n",
       "      <td>-0.022268</td>\n",
       "      <td>0.023450</td>\n",
       "      <td>-0.003940</td>\n",
       "      <td>-0.023464</td>\n",
       "      <td>-0.011703</td>\n",
       "      <td>0.024682</td>\n",
       "      <td>0.000052</td>\n",
       "      <td>-0.002713</td>\n",
       "      <td>-0.026195</td>\n",
       "      <td>-0.007128</td>\n",
       "      <td>-0.026716</td>\n",
       "      <td>0.012939</td>\n",
       "    </tr>\n",
       "  </tbody>\n",
       "</table>\n",
       "<p>1145 rows × 72 columns</p>\n",
       "</div>"
      ],
      "text/plain": [
       "            user.name  ...        39\n",
       "0       _____zac_____  ... -0.014870\n",
       "1            ___aleia  ... -0.048229\n",
       "2     ___schaeffer___  ...  0.018778\n",
       "3             __drewc  ...  0.037080\n",
       "4       __EmilyRice__  ...  0.003406\n",
       "...               ...  ...       ...\n",
       "1140      zmeadows_18  ... -0.014884\n",
       "1141       ZoeBerrier  ... -0.021780\n",
       "1142      ZoeCalamaco  ...  0.008407\n",
       "1143         ZoPeachy  ...  0.075129\n",
       "1144        zzzakari4  ...  0.012939\n",
       "\n",
       "[1145 rows x 72 columns]"
      ]
     },
     "execution_count": 81,
     "metadata": {},
     "output_type": "execute_result"
    }
   ],
   "source": [
    "svd = TruncatedSVD(n_components=40, random_state=0)\n",
    "tfidf_pca = svd.fit_transform(tfidf) \n",
    "tweet_tfidf = pd.DataFrame(tfidf_pca,)\n",
    "df_tfidf = pd.concat([df, tweet_tfidf], axis=1)\n",
    "df_tfidf"
   ]
  },
  {
   "cell_type": "code",
   "execution_count": null,
   "metadata": {
    "id": "nnqFSOvjRWQo"
   },
   "outputs": [],
   "source": [
    "df_tfidf.to_csv(\"/content/drive/MyDrive/demographicPredictionData/race_data/age_processed_data.csv\")"
   ]
  },
  {
   "cell_type": "markdown",
   "metadata": {
    "id": "FEeP3DorUYzs"
   },
   "source": [
    "## Training"
   ]
  },
  {
   "cell_type": "code",
   "execution_count": 64,
   "metadata": {
    "colab": {
     "base_uri": "https://localhost:8080/"
    },
    "id": "074SmWWbUYjW",
    "outputId": "e614ddae-88a1-4eac-efc8-2d8b0e5d1b8b"
   },
   "outputs": [
    {
     "name": "stdout",
     "output_type": "stream",
     "text": [
      "Index(['Unnamed: 0', 'user.name', 'tweets', 'Unnamed: 0.1', 'Unnamed: 0.1.1',\n",
      "       'screen_name', 'user_id', 'lang', 'name', 'location', 'description',\n",
      "       'protected', 'followers_count', 'friends_count', 'statuses_count',\n",
      "       'favourites_count', 'account_created_at', 'verified',\n",
      "       'profile_banner_url', 'profile_background_url', 'profile_image_url',\n",
      "       'num.tweets.used.Lexicon.prediction', 'Lexicon.age.prediction',\n",
      "       'Lexicon.gender.prediction..index.', 'lexicon.gender.prediction',\n",
      "       'human.labeled.gender', 'human.labeled.age', 'age', 'cnt_q_mark',\n",
      "       'cnt_e_mark', 'cnt_dup', 'tweets_combined', 'pos_tag', '0', '1', '2',\n",
      "       '3', '4', '5', '6', '7', '8', '9', '10', '11', '12', '13', '14', '15',\n",
      "       '16', '17', '18', '19', '20', '21', '22', '23', '24', '25', '26', '27',\n",
      "       '28', '29', '30', '31', '32', '33', '34', '35', '36', '37', '38', '39'],\n",
      "      dtype='object')\n",
      "   Unnamed: 0        user.name  ...        38        39\n",
      "0           0    _____zac_____  ...  0.005398 -0.014870\n",
      "1           1         ___aleia  ...  0.106399 -0.048229\n",
      "2           2  ___schaeffer___  ... -0.008076  0.018778\n",
      "3           3          __drewc  ... -0.007388  0.037080\n",
      "4           4    __EmilyRice__  ...  0.020740  0.003406\n",
      "\n",
      "[5 rows x 73 columns]\n"
     ]
    }
   ],
   "source": [
    "df = pd.read_csv(\"/content/drive/MyDrive/demographicPredictionData/race_data/age_processed_data.csv\", lineterminator='\\n')\n",
    "print(df.columns)\n",
    "print(df.head())"
   ]
  },
  {
   "cell_type": "code",
   "execution_count": 65,
   "metadata": {
    "colab": {
     "base_uri": "https://localhost:8080/"
    },
    "id": "NHpfhyUUUYzs",
    "outputId": "a82e34e6-3089-4348-cd8b-bd07633e70bf"
   },
   "outputs": [
    {
     "name": "stdout",
     "output_type": "stream",
     "text": [
      "   human.labeled.age         0         1  ...        28        29  labels\n",
      "0               23.0  0.182250  0.010311  ... -0.012038  0.031020       0\n",
      "1               19.0  0.421480 -0.005196  ... -0.056888  0.012439       1\n",
      "2               22.0  0.196637 -0.017048  ... -0.002644  0.004621       0\n",
      "3               26.0  0.292147  0.011468  ...  0.055144 -0.027008       0\n",
      "4               20.0  0.375113 -0.029606  ... -0.021839 -0.000775       1\n",
      "\n",
      "[5 rows x 32 columns]\n"
     ]
    }
   ],
   "source": [
    "# samples = df[[\n",
    "#         '0', '1', '2',\n",
    "#        '3', '4', '5', '6', '7', '8', '9', '10', '11', '12', '13', '14', '15',\n",
    "#        '16', '17', '18', '19', '20', '21', '22', '23', '24', '25', '26', '27',\n",
    "#        '28', '29', '30', '31', '32', '33', '34', '35', '36', '37', '38', '39',\n",
    "#        '40', '41', '42', '43', '44', '45', '46', '47', '48', '49', \"human.labeled.age\"]]\n",
    "samples = df.drop(['Unnamed: 0', 'user.name', 'tweets', 'Unnamed: 0.1', 'Unnamed: 0.1.1',\n",
    "       'screen_name', 'user_id', 'lang', 'name', 'location', 'description',\n",
    "       'protected', 'followers_count', 'friends_count', 'statuses_count',\n",
    "       'favourites_count', 'account_created_at', 'verified',\n",
    "       'profile_banner_url', 'profile_background_url', 'profile_image_url',\n",
    "       'num.tweets.used.Lexicon.prediction', 'Lexicon.age.prediction',\n",
    "       'Lexicon.gender.prediction..index.', 'lexicon.gender.prediction',\n",
    "       'human.labeled.gender',  'age', 'cnt_q_mark',\n",
    "       'cnt_e_mark', 'cnt_dup', 'tweets_combined', 'pos_tag', '30', '31', '32', '33', '34', '35', '36', '37', '38', '39'], axis = 1)\n",
    "\n",
    "def count_age(year):\n",
    "  if year < 21:\n",
    "    return 1\n",
    "  else:\n",
    "    return 0\n",
    "\n",
    "le = preprocessing.LabelEncoder()\n",
    "# le.fit(samples['lang'])\n",
    "# samples['lang'] = le.transform(samples['lang'])\n",
    "samples['labels'] = samples['human.labeled.age'].map(lambda x: count_age(x))\n",
    "#samples = samples[samples[\"race\"]!=4]\n",
    "print(samples.head())"
   ]
  },
  {
   "cell_type": "code",
   "execution_count": 66,
   "metadata": {
    "colab": {
     "base_uri": "https://localhost:8080/"
    },
    "id": "VeYHpBb-UYzt",
    "outputId": "9a209143-a628-4eee-92da-507cdd03d834"
   },
   "outputs": [
    {
     "name": "stdout",
     "output_type": "stream",
     "text": [
      "     human.labeled.age         0         1  ...        27        28        29\n",
      "977           0.473684  0.476513  0.054965  ...  0.421734  0.337938  0.562697\n",
      "970           0.157895  0.236020  0.056100  ...  0.456401  0.429412  0.272269\n",
      "629           0.210526  0.657012  0.039274  ...  0.384845  0.323795  0.439738\n",
      "520           0.175439  0.731103  0.063450  ...  0.368867  0.102092  0.554327\n",
      "641           0.157895  0.582222  0.072126  ...  0.526517  0.412430  0.498640\n",
      "\n",
      "[5 rows x 31 columns]\n",
      "977    0\n",
      "970    0\n",
      "629    0\n",
      "520    0\n",
      "641    0\n",
      "Name: labels, dtype: int64\n",
      "     human.labeled.age         0         1  ...        27        28        29\n",
      "267           0.115385  0.619198  0.065359  ...  0.596929  0.490039  0.525247\n",
      "700           0.211538  0.612746  0.080821  ...  0.430506  0.545169  0.413226\n",
      "622           0.096154  0.720049  0.090785  ...  0.574839  0.411220  0.470128\n",
      "742           0.076923  0.754040  0.089639  ...  0.690813  0.697880  0.409646\n",
      "754           0.115385  0.731975  0.026660  ...  0.300335  0.216185  0.569852\n",
      "\n",
      "[5 rows x 31 columns]\n"
     ]
    }
   ],
   "source": [
    "X_train, X_test, Y_train, Y_test = train_test_split(\n",
    "        samples.drop(['labels'], axis=1),\n",
    "        samples['labels'],\n",
    "        test_size=1/4.0,\n",
    "        random_state=0\n",
    "    )\n",
    "X_train = (X_train-X_train.min())/(X_train.max()-X_train.min())\n",
    "X_test = (X_test-X_test.min())/(X_test.max()-X_test.min())\n",
    "print(X_train.head())\n",
    "print(Y_train.head())\n",
    "print(X_test.head())"
   ]
  },
  {
   "cell_type": "code",
   "execution_count": 67,
   "metadata": {
    "colab": {
     "base_uri": "https://localhost:8080/",
     "height": 486
    },
    "id": "GnWHALrFUYzu",
    "outputId": "af36f2fd-c09d-4e4b-c665-2e2e6b9e2303"
   },
   "outputs": [
    {
     "name": "stdout",
     "output_type": "stream",
     "text": [
      "[0.77325581 0.77325581 0.77325581 0.69590643 0.76608187]\n",
      "RMSE on testing set =  0.1951219512195122\n",
      "              precision    recall  f1-score   support\n",
      "\n",
      "           0       0.86      0.84      0.85       187\n",
      "           1       0.71      0.74      0.73       100\n",
      "\n",
      "    accuracy                           0.80       287\n",
      "   macro avg       0.78      0.79      0.79       287\n",
      "weighted avg       0.81      0.80      0.81       287\n",
      "\n"
     ]
    },
    {
     "data": {
      "image/png": "[encoded data removed]",
      "text/plain": [
       "<Figure size 432x288 with 2 Axes>"
      ]
     },
     "metadata": {
      "needs_background": "light"
     },
     "output_type": "display_data"
    }
   ],
   "source": [
    "from sklearn.linear_model import LogisticRegression\n",
    "\n",
    "lg = LogisticRegression(random_state=0)\n",
    "cv_results = cross_validate(lg, X_train, Y_train, scoring=('f1', 'accuracy', 'neg_log_loss'), cv = 5, return_train_score=True)\n",
    "print(cv_results['test_accuracy'])\n",
    "lg.fit(X_train, Y_train)\n",
    "Y_test_predictions_lg = lg.predict(X_test)\n",
    "print(\"RMSE on testing set = \", mean_squared_error(Y_test, Y_test_predictions_lg))\n",
    "print(sklearn.metrics.classification_report(Y_test, Y_test_predictions_lg))\n",
    "cm = confusion_matrix(Y_test, Y_test_predictions_lg, normalize='true')\n",
    "sns.heatmap(cm, annot=True)\n",
    "plt.title('Confusion matrix of the classifier')\n",
    "plt.xlabel('Predicted')\n",
    "plt.ylabel('True')\n",
    "plt.show()"
   ]
  },
  {
   "cell_type": "code",
   "execution_count": null,
   "metadata": {
    "colab": {
     "base_uri": "https://localhost:8080/",
     "height": 486
    },
    "id": "sFQfezgRUYzu",
    "outputId": "5d7d0f11-607e-4f58-db83-5a1f33640f38"
   },
   "outputs": [
    {
     "name": "stdout",
     "output_type": "stream",
     "text": [
      "[-2.99740463 -2.69593309 -3.78847273 -3.70469241 -4.28218684]\n",
      "RMSE on testing set =  0.3867595818815331\n",
      "              precision    recall  f1-score   support\n",
      "\n",
      "           0       0.70      0.71      0.70       187\n",
      "           1       0.44      0.44      0.44       100\n",
      "\n",
      "    accuracy                           0.61       287\n",
      "   macro avg       0.57      0.57      0.57       287\n",
      "weighted avg       0.61      0.61      0.61       287\n",
      "\n"
     ]
    },
    {
     "data": {
      "image/png": "[encoded data removed]",
      "text/plain": [
       "<Figure size 432x288 with 2 Axes>"
      ]
     },
     "metadata": {
      "needs_background": "light"
     },
     "output_type": "display_data"
    }
   ],
   "source": [
    "from sklearn.neighbors import KNeighborsClassifier\n",
    "\n",
    "model = KNeighborsClassifier(n_neighbors=3)\n",
    "cv_results = cross_validate(model, X_train, Y_train, scoring=('f1', 'accuracy', 'neg_log_loss'), cv = 5, return_train_score=True)\n",
    "print(cv_results['test_neg_log_loss'])\n",
    "model.fit(X_train, Y_train)\n",
    "Y_test_predictions_knn = model.predict(X_test)\n",
    "print(\"RMSE on testing set = \", mean_squared_error(Y_test, Y_test_predictions_knn))\n",
    "print(sklearn.metrics.classification_report(Y_test, Y_test_predictions_knn))\n",
    "cm = confusion_matrix(Y_test, Y_test_predictions_knn, normalize='true')\n",
    "sns.heatmap(cm, annot=True)\n",
    "plt.title('Confusion matrix of the classifier')\n",
    "plt.xlabel('Predicted')\n",
    "plt.ylabel('True')\n",
    "plt.show()"
   ]
  },
  {
   "cell_type": "code",
   "execution_count": null,
   "metadata": {
    "id": "iDHJC0KoUYzu"
   },
   "outputs": [],
   "source": [
    "# from sklearn.mixture import GaussianMixture\n",
    "\n",
    "# gm = GaussianMixture(n_components=2, random_state=0)\n",
    "# cv_results = cross_validate(gm, X_train, Y_train, scoring=('recall', 'precision', 'accuracy', 'neg_log_loss'), cv = 5, return_train_score=True)\n",
    "# print(cv_results['test_neg_log_loss'])\n",
    "# gm.fit(X_train, Y_train)\n",
    "# Y_test_predictions_gm = gm.predict(X_test)\n",
    "# print(\"RMSE on testing set = \", mean_squared_error(Y_test, Y_test_predictions_gm))\n",
    "# cm = confusion_matrix(Y_test, Y_test_predictions_gm, normalize='true')\n",
    "# sns.heatmap(cm, annot=True)\n",
    "# plt.title('Confusion matrix of the classifier')\n",
    "# plt.xlabel('Predicted')\n",
    "# plt.ylabel('True')\n",
    "# plt.show()"
   ]
  },
  {
   "cell_type": "code",
   "execution_count": null,
   "metadata": {
    "id": "q_gp6GawUYzu"
   },
   "outputs": [],
   "source": []
  },
  {
   "cell_type": "code",
   "execution_count": 69,
   "metadata": {
    "colab": {
     "base_uri": "https://localhost:8080/",
     "height": 486
    },
    "id": "SYz6MavLUYzu",
    "outputId": "07709e74-a6b6-4241-9c25-b2d8ff835ebc"
   },
   "outputs": [
    {
     "name": "stdout",
     "output_type": "stream",
     "text": [
      "[1.         1.         0.99418605 0.99415205 1.        ]\n",
      "RMSE on testing set =  0.31010452961672474\n",
      "              precision    recall  f1-score   support\n",
      "\n",
      "           0       1.00      0.52      0.69       187\n",
      "           1       0.53      1.00      0.69       100\n",
      "\n",
      "    accuracy                           0.69       287\n",
      "   macro avg       0.76      0.76      0.69       287\n",
      "weighted avg       0.84      0.69      0.69       287\n",
      "\n"
     ]
    },
    {
     "data": {
      "image/png": "[encoded data removed]",
      "text/plain": [
       "<Figure size 432x288 with 2 Axes>"
      ]
     },
     "metadata": {
      "needs_background": "light"
     },
     "output_type": "display_data"
    }
   ],
   "source": [
    "from sklearn.ensemble import RandomForestClassifier\n",
    "\n",
    "rf = RandomForestClassifier(max_depth=2, random_state=0)\n",
    "cv_results = cross_validate(rf, X_train, Y_train, scoring=('f1', 'accuracy', 'neg_log_loss'), cv = 5, return_train_score=True)\n",
    "print(cv_results['test_accuracy'])\n",
    "rf.fit(X_train, Y_train)\n",
    "Y_test_predictions_rf = rf.predict(X_test)\n",
    "print(\"RMSE on testing set = \", mean_squared_error(Y_test, Y_test_predictions_rf))\n",
    "print(sklearn.metrics.classification_report(Y_test, Y_test_predictions_rf))\n",
    "cm = confusion_matrix(Y_test, Y_test_predictions_rf, normalize='true')\n",
    "sns.heatmap(cm, annot=True)\n",
    "plt.title('Confusion matrix of the classifier')\n",
    "plt.xlabel('Predicted')\n",
    "plt.ylabel('True')\n",
    "plt.show()"
   ]
  },
  {
   "cell_type": "code",
   "execution_count": 70,
   "metadata": {
    "colab": {
     "base_uri": "https://localhost:8080/",
     "height": 1000
    },
    "id": "97q3xhASCj08",
    "outputId": "7af0c138-05bd-4819-fa05-79246dffc863"
   },
   "outputs": [
    {
     "name": "stderr",
     "output_type": "stream",
     "text": [
      "/usr/local/lib/python3.7/dist-packages/sklearn/model_selection/_validation.py:775: UserWarning: Scoring failed. The score on this train-test partition for these parameters will be set to nan. Details: \n",
      "Traceback (most recent call last):\n",
      "  File \"/usr/local/lib/python3.7/dist-packages/sklearn/metrics/_scorer.py\", line 71, in _cached_call\n",
      "    return cache[method]\n",
      "KeyError: 'predict_proba'\n",
      "\n",
      "During handling of the above exception, another exception occurred:\n",
      "\n",
      "Traceback (most recent call last):\n",
      "  File \"/usr/local/lib/python3.7/dist-packages/sklearn/model_selection/_validation.py\", line 762, in _score\n",
      "    scores = scorer(estimator, X_test, y_test)\n",
      "  File \"/usr/local/lib/python3.7/dist-packages/sklearn/metrics/_scorer.py\", line 103, in __call__\n",
      "    score = scorer._score(cached_call, estimator, *args, **kwargs)\n",
      "  File \"/usr/local/lib/python3.7/dist-packages/sklearn/metrics/_scorer.py\", line 298, in _score\n",
      "    y_pred = method_caller(clf, \"predict_proba\", X)\n",
      "  File \"/usr/local/lib/python3.7/dist-packages/sklearn/metrics/_scorer.py\", line 73, in _cached_call\n",
      "    result = getattr(estimator, method)(*args, **kwargs)\n",
      "  File \"/usr/local/lib/python3.7/dist-packages/sklearn/utils/metaestimators.py\", line 109, in __get__\n",
      "    if not self.check(obj):\n",
      "  File \"/usr/local/lib/python3.7/dist-packages/sklearn/svm/_base.py\", line 801, in _check_proba\n",
      "    \"predict_proba is not available when  probability=False\"\n",
      "AttributeError: predict_proba is not available when  probability=False\n",
      "\n",
      "  UserWarning,\n",
      "/usr/local/lib/python3.7/dist-packages/sklearn/model_selection/_validation.py:775: UserWarning: Scoring failed. The score on this train-test partition for these parameters will be set to nan. Details: \n",
      "Traceback (most recent call last):\n",
      "  File \"/usr/local/lib/python3.7/dist-packages/sklearn/metrics/_scorer.py\", line 71, in _cached_call\n",
      "    return cache[method]\n",
      "KeyError: 'predict_proba'\n",
      "\n",
      "During handling of the above exception, another exception occurred:\n",
      "\n",
      "Traceback (most recent call last):\n",
      "  File \"/usr/local/lib/python3.7/dist-packages/sklearn/model_selection/_validation.py\", line 762, in _score\n",
      "    scores = scorer(estimator, X_test, y_test)\n",
      "  File \"/usr/local/lib/python3.7/dist-packages/sklearn/metrics/_scorer.py\", line 103, in __call__\n",
      "    score = scorer._score(cached_call, estimator, *args, **kwargs)\n",
      "  File \"/usr/local/lib/python3.7/dist-packages/sklearn/metrics/_scorer.py\", line 298, in _score\n",
      "    y_pred = method_caller(clf, \"predict_proba\", X)\n",
      "  File \"/usr/local/lib/python3.7/dist-packages/sklearn/metrics/_scorer.py\", line 73, in _cached_call\n",
      "    result = getattr(estimator, method)(*args, **kwargs)\n",
      "  File \"/usr/local/lib/python3.7/dist-packages/sklearn/utils/metaestimators.py\", line 109, in __get__\n",
      "    if not self.check(obj):\n",
      "  File \"/usr/local/lib/python3.7/dist-packages/sklearn/svm/_base.py\", line 801, in _check_proba\n",
      "    \"predict_proba is not available when  probability=False\"\n",
      "AttributeError: predict_proba is not available when  probability=False\n",
      "\n",
      "  UserWarning,\n",
      "/usr/local/lib/python3.7/dist-packages/sklearn/model_selection/_validation.py:775: UserWarning: Scoring failed. The score on this train-test partition for these parameters will be set to nan. Details: \n",
      "Traceback (most recent call last):\n",
      "  File \"/usr/local/lib/python3.7/dist-packages/sklearn/metrics/_scorer.py\", line 71, in _cached_call\n",
      "    return cache[method]\n",
      "KeyError: 'predict_proba'\n",
      "\n",
      "During handling of the above exception, another exception occurred:\n",
      "\n",
      "Traceback (most recent call last):\n",
      "  File \"/usr/local/lib/python3.7/dist-packages/sklearn/model_selection/_validation.py\", line 762, in _score\n",
      "    scores = scorer(estimator, X_test, y_test)\n",
      "  File \"/usr/local/lib/python3.7/dist-packages/sklearn/metrics/_scorer.py\", line 103, in __call__\n",
      "    score = scorer._score(cached_call, estimator, *args, **kwargs)\n",
      "  File \"/usr/local/lib/python3.7/dist-packages/sklearn/metrics/_scorer.py\", line 298, in _score\n",
      "    y_pred = method_caller(clf, \"predict_proba\", X)\n",
      "  File \"/usr/local/lib/python3.7/dist-packages/sklearn/metrics/_scorer.py\", line 73, in _cached_call\n",
      "    result = getattr(estimator, method)(*args, **kwargs)\n",
      "  File \"/usr/local/lib/python3.7/dist-packages/sklearn/utils/metaestimators.py\", line 109, in __get__\n",
      "    if not self.check(obj):\n",
      "  File \"/usr/local/lib/python3.7/dist-packages/sklearn/svm/_base.py\", line 801, in _check_proba\n",
      "    \"predict_proba is not available when  probability=False\"\n",
      "AttributeError: predict_proba is not available when  probability=False\n",
      "\n",
      "  UserWarning,\n",
      "/usr/local/lib/python3.7/dist-packages/sklearn/model_selection/_validation.py:775: UserWarning: Scoring failed. The score on this train-test partition for these parameters will be set to nan. Details: \n",
      "Traceback (most recent call last):\n",
      "  File \"/usr/local/lib/python3.7/dist-packages/sklearn/metrics/_scorer.py\", line 71, in _cached_call\n",
      "    return cache[method]\n",
      "KeyError: 'predict_proba'\n",
      "\n",
      "During handling of the above exception, another exception occurred:\n",
      "\n",
      "Traceback (most recent call last):\n",
      "  File \"/usr/local/lib/python3.7/dist-packages/sklearn/model_selection/_validation.py\", line 762, in _score\n",
      "    scores = scorer(estimator, X_test, y_test)\n",
      "  File \"/usr/local/lib/python3.7/dist-packages/sklearn/metrics/_scorer.py\", line 103, in __call__\n",
      "    score = scorer._score(cached_call, estimator, *args, **kwargs)\n",
      "  File \"/usr/local/lib/python3.7/dist-packages/sklearn/metrics/_scorer.py\", line 298, in _score\n",
      "    y_pred = method_caller(clf, \"predict_proba\", X)\n",
      "  File \"/usr/local/lib/python3.7/dist-packages/sklearn/metrics/_scorer.py\", line 73, in _cached_call\n",
      "    result = getattr(estimator, method)(*args, **kwargs)\n",
      "  File \"/usr/local/lib/python3.7/dist-packages/sklearn/utils/metaestimators.py\", line 109, in __get__\n",
      "    if not self.check(obj):\n",
      "  File \"/usr/local/lib/python3.7/dist-packages/sklearn/svm/_base.py\", line 801, in _check_proba\n",
      "    \"predict_proba is not available when  probability=False\"\n",
      "AttributeError: predict_proba is not available when  probability=False\n",
      "\n",
      "  UserWarning,\n",
      "/usr/local/lib/python3.7/dist-packages/sklearn/model_selection/_validation.py:775: UserWarning: Scoring failed. The score on this train-test partition for these parameters will be set to nan. Details: \n",
      "Traceback (most recent call last):\n",
      "  File \"/usr/local/lib/python3.7/dist-packages/sklearn/metrics/_scorer.py\", line 71, in _cached_call\n",
      "    return cache[method]\n",
      "KeyError: 'predict_proba'\n",
      "\n",
      "During handling of the above exception, another exception occurred:\n",
      "\n",
      "Traceback (most recent call last):\n",
      "  File \"/usr/local/lib/python3.7/dist-packages/sklearn/model_selection/_validation.py\", line 762, in _score\n",
      "    scores = scorer(estimator, X_test, y_test)\n",
      "  File \"/usr/local/lib/python3.7/dist-packages/sklearn/metrics/_scorer.py\", line 103, in __call__\n",
      "    score = scorer._score(cached_call, estimator, *args, **kwargs)\n",
      "  File \"/usr/local/lib/python3.7/dist-packages/sklearn/metrics/_scorer.py\", line 298, in _score\n",
      "    y_pred = method_caller(clf, \"predict_proba\", X)\n",
      "  File \"/usr/local/lib/python3.7/dist-packages/sklearn/metrics/_scorer.py\", line 73, in _cached_call\n",
      "    result = getattr(estimator, method)(*args, **kwargs)\n",
      "  File \"/usr/local/lib/python3.7/dist-packages/sklearn/utils/metaestimators.py\", line 109, in __get__\n",
      "    if not self.check(obj):\n",
      "  File \"/usr/local/lib/python3.7/dist-packages/sklearn/svm/_base.py\", line 801, in _check_proba\n",
      "    \"predict_proba is not available when  probability=False\"\n",
      "AttributeError: predict_proba is not available when  probability=False\n",
      "\n",
      "  UserWarning,\n",
      "/usr/local/lib/python3.7/dist-packages/sklearn/model_selection/_validation.py:775: UserWarning: Scoring failed. The score on this train-test partition for these parameters will be set to nan. Details: \n",
      "Traceback (most recent call last):\n",
      "  File \"/usr/local/lib/python3.7/dist-packages/sklearn/metrics/_scorer.py\", line 71, in _cached_call\n",
      "    return cache[method]\n",
      "KeyError: 'predict_proba'\n",
      "\n",
      "During handling of the above exception, another exception occurred:\n",
      "\n",
      "Traceback (most recent call last):\n",
      "  File \"/usr/local/lib/python3.7/dist-packages/sklearn/model_selection/_validation.py\", line 762, in _score\n",
      "    scores = scorer(estimator, X_test, y_test)\n",
      "  File \"/usr/local/lib/python3.7/dist-packages/sklearn/metrics/_scorer.py\", line 103, in __call__\n",
      "    score = scorer._score(cached_call, estimator, *args, **kwargs)\n",
      "  File \"/usr/local/lib/python3.7/dist-packages/sklearn/metrics/_scorer.py\", line 298, in _score\n",
      "    y_pred = method_caller(clf, \"predict_proba\", X)\n",
      "  File \"/usr/local/lib/python3.7/dist-packages/sklearn/metrics/_scorer.py\", line 73, in _cached_call\n",
      "    result = getattr(estimator, method)(*args, **kwargs)\n",
      "  File \"/usr/local/lib/python3.7/dist-packages/sklearn/utils/metaestimators.py\", line 109, in __get__\n",
      "    if not self.check(obj):\n",
      "  File \"/usr/local/lib/python3.7/dist-packages/sklearn/svm/_base.py\", line 801, in _check_proba\n",
      "    \"predict_proba is not available when  probability=False\"\n",
      "AttributeError: predict_proba is not available when  probability=False\n",
      "\n",
      "  UserWarning,\n",
      "/usr/local/lib/python3.7/dist-packages/sklearn/model_selection/_validation.py:775: UserWarning: Scoring failed. The score on this train-test partition for these parameters will be set to nan. Details: \n",
      "Traceback (most recent call last):\n",
      "  File \"/usr/local/lib/python3.7/dist-packages/sklearn/metrics/_scorer.py\", line 71, in _cached_call\n",
      "    return cache[method]\n",
      "KeyError: 'predict_proba'\n",
      "\n",
      "During handling of the above exception, another exception occurred:\n",
      "\n",
      "Traceback (most recent call last):\n",
      "  File \"/usr/local/lib/python3.7/dist-packages/sklearn/model_selection/_validation.py\", line 762, in _score\n",
      "    scores = scorer(estimator, X_test, y_test)\n",
      "  File \"/usr/local/lib/python3.7/dist-packages/sklearn/metrics/_scorer.py\", line 103, in __call__\n",
      "    score = scorer._score(cached_call, estimator, *args, **kwargs)\n",
      "  File \"/usr/local/lib/python3.7/dist-packages/sklearn/metrics/_scorer.py\", line 298, in _score\n",
      "    y_pred = method_caller(clf, \"predict_proba\", X)\n",
      "  File \"/usr/local/lib/python3.7/dist-packages/sklearn/metrics/_scorer.py\", line 73, in _cached_call\n",
      "    result = getattr(estimator, method)(*args, **kwargs)\n",
      "  File \"/usr/local/lib/python3.7/dist-packages/sklearn/utils/metaestimators.py\", line 109, in __get__\n",
      "    if not self.check(obj):\n",
      "  File \"/usr/local/lib/python3.7/dist-packages/sklearn/svm/_base.py\", line 801, in _check_proba\n",
      "    \"predict_proba is not available when  probability=False\"\n",
      "AttributeError: predict_proba is not available when  probability=False\n",
      "\n",
      "  UserWarning,\n",
      "/usr/local/lib/python3.7/dist-packages/sklearn/model_selection/_validation.py:775: UserWarning: Scoring failed. The score on this train-test partition for these parameters will be set to nan. Details: \n",
      "Traceback (most recent call last):\n",
      "  File \"/usr/local/lib/python3.7/dist-packages/sklearn/metrics/_scorer.py\", line 71, in _cached_call\n",
      "    return cache[method]\n",
      "KeyError: 'predict_proba'\n",
      "\n",
      "During handling of the above exception, another exception occurred:\n",
      "\n",
      "Traceback (most recent call last):\n",
      "  File \"/usr/local/lib/python3.7/dist-packages/sklearn/model_selection/_validation.py\", line 762, in _score\n",
      "    scores = scorer(estimator, X_test, y_test)\n",
      "  File \"/usr/local/lib/python3.7/dist-packages/sklearn/metrics/_scorer.py\", line 103, in __call__\n",
      "    score = scorer._score(cached_call, estimator, *args, **kwargs)\n",
      "  File \"/usr/local/lib/python3.7/dist-packages/sklearn/metrics/_scorer.py\", line 298, in _score\n",
      "    y_pred = method_caller(clf, \"predict_proba\", X)\n",
      "  File \"/usr/local/lib/python3.7/dist-packages/sklearn/metrics/_scorer.py\", line 73, in _cached_call\n",
      "    result = getattr(estimator, method)(*args, **kwargs)\n",
      "  File \"/usr/local/lib/python3.7/dist-packages/sklearn/utils/metaestimators.py\", line 109, in __get__\n",
      "    if not self.check(obj):\n",
      "  File \"/usr/local/lib/python3.7/dist-packages/sklearn/svm/_base.py\", line 801, in _check_proba\n",
      "    \"predict_proba is not available when  probability=False\"\n",
      "AttributeError: predict_proba is not available when  probability=False\n",
      "\n",
      "  UserWarning,\n",
      "/usr/local/lib/python3.7/dist-packages/sklearn/model_selection/_validation.py:775: UserWarning: Scoring failed. The score on this train-test partition for these parameters will be set to nan. Details: \n",
      "Traceback (most recent call last):\n",
      "  File \"/usr/local/lib/python3.7/dist-packages/sklearn/metrics/_scorer.py\", line 71, in _cached_call\n",
      "    return cache[method]\n",
      "KeyError: 'predict_proba'\n",
      "\n",
      "During handling of the above exception, another exception occurred:\n",
      "\n",
      "Traceback (most recent call last):\n",
      "  File \"/usr/local/lib/python3.7/dist-packages/sklearn/model_selection/_validation.py\", line 762, in _score\n",
      "    scores = scorer(estimator, X_test, y_test)\n",
      "  File \"/usr/local/lib/python3.7/dist-packages/sklearn/metrics/_scorer.py\", line 103, in __call__\n",
      "    score = scorer._score(cached_call, estimator, *args, **kwargs)\n",
      "  File \"/usr/local/lib/python3.7/dist-packages/sklearn/metrics/_scorer.py\", line 298, in _score\n",
      "    y_pred = method_caller(clf, \"predict_proba\", X)\n",
      "  File \"/usr/local/lib/python3.7/dist-packages/sklearn/metrics/_scorer.py\", line 73, in _cached_call\n",
      "    result = getattr(estimator, method)(*args, **kwargs)\n",
      "  File \"/usr/local/lib/python3.7/dist-packages/sklearn/utils/metaestimators.py\", line 109, in __get__\n",
      "    if not self.check(obj):\n",
      "  File \"/usr/local/lib/python3.7/dist-packages/sklearn/svm/_base.py\", line 801, in _check_proba\n",
      "    \"predict_proba is not available when  probability=False\"\n",
      "AttributeError: predict_proba is not available when  probability=False\n",
      "\n",
      "  UserWarning,\n",
      "/usr/local/lib/python3.7/dist-packages/sklearn/model_selection/_validation.py:775: UserWarning: Scoring failed. The score on this train-test partition for these parameters will be set to nan. Details: \n",
      "Traceback (most recent call last):\n",
      "  File \"/usr/local/lib/python3.7/dist-packages/sklearn/metrics/_scorer.py\", line 71, in _cached_call\n",
      "    return cache[method]\n",
      "KeyError: 'predict_proba'\n",
      "\n",
      "During handling of the above exception, another exception occurred:\n",
      "\n",
      "Traceback (most recent call last):\n",
      "  File \"/usr/local/lib/python3.7/dist-packages/sklearn/model_selection/_validation.py\", line 762, in _score\n",
      "    scores = scorer(estimator, X_test, y_test)\n",
      "  File \"/usr/local/lib/python3.7/dist-packages/sklearn/metrics/_scorer.py\", line 103, in __call__\n",
      "    score = scorer._score(cached_call, estimator, *args, **kwargs)\n",
      "  File \"/usr/local/lib/python3.7/dist-packages/sklearn/metrics/_scorer.py\", line 298, in _score\n",
      "    y_pred = method_caller(clf, \"predict_proba\", X)\n",
      "  File \"/usr/local/lib/python3.7/dist-packages/sklearn/metrics/_scorer.py\", line 73, in _cached_call\n",
      "    result = getattr(estimator, method)(*args, **kwargs)\n",
      "  File \"/usr/local/lib/python3.7/dist-packages/sklearn/utils/metaestimators.py\", line 109, in __get__\n",
      "    if not self.check(obj):\n",
      "  File \"/usr/local/lib/python3.7/dist-packages/sklearn/svm/_base.py\", line 801, in _check_proba\n",
      "    \"predict_proba is not available when  probability=False\"\n",
      "AttributeError: predict_proba is not available when  probability=False\n",
      "\n",
      "  UserWarning,\n"
     ]
    },
    {
     "name": "stdout",
     "output_type": "stream",
     "text": [
      "[nan nan nan nan nan]\n",
      "RMSE on testing set =  0.2229965156794425\n",
      "              precision    recall  f1-score   support\n",
      "\n",
      "           0       0.89      0.75      0.81       187\n",
      "           1       0.64      0.83      0.72       100\n",
      "\n",
      "    accuracy                           0.78       287\n",
      "   macro avg       0.77      0.79      0.77       287\n",
      "weighted avg       0.80      0.78      0.78       287\n",
      "\n"
     ]
    },
    {
     "data": {
      "image/png": "[encoded data removed]",
      "text/plain": [
       "<Figure size 432x288 with 2 Axes>"
      ]
     },
     "metadata": {
      "needs_background": "light"
     },
     "output_type": "display_data"
    }
   ],
   "source": [
    "from sklearn import svm\n",
    "\n",
    "clf = svm.SVC()\n",
    "cv_results = cross_validate(clf, X_train, Y_train, scoring=('neg_log_loss', 'f1', 'accuracy'), cv = 5, return_train_score=True)\n",
    "print(cv_results['test_accuracy'])\n",
    "clf.fit(X_train, Y_train)\n",
    "Y_test_predictions_svm = clf.predict(X_test)\n",
    "print(\"RMSE on testing set = \", mean_squared_error(Y_test, Y_test_predictions_svm))\n",
    "print(sklearn.metrics.classification_report(Y_test, Y_test_predictions_svm))\n",
    "cm = confusion_matrix(Y_test, Y_test_predictions_svm, normalize='true')\n",
    "sns.heatmap(cm, annot=True)\n",
    "plt.title('Confusion matrix of the classifier')\n",
    "plt.xlabel('Predicted')\n",
    "plt.ylabel('True')\n",
    "plt.show()"
   ]
  },
  {
   "cell_type": "markdown",
   "metadata": {
    "id": "eCn46lh0w1M1"
   },
   "source": [
    "# Race Classification with pictures"
   ]
  },
  {
   "cell_type": "markdown",
   "metadata": {
    "id": "0nOYjTDYm9ki"
   },
   "source": [
    "## Image Data Load"
   ]
  },
  {
   "cell_type": "code",
   "execution_count": null,
   "metadata": {
    "colab": {
     "base_uri": "https://localhost:8080/"
    },
    "id": "U4ZqzZgb4VsC",
    "outputId": "9ddd5ba2-da41-4281-f075-0d2227ddba2b"
   },
   "outputs": [
    {
     "name": "stdout",
     "output_type": "stream",
     "text": [
      "(3609, 6)\n",
      "      user_id  ...                 img_path\n",
      "0       12488  ...  profile pics/60147.jpeg\n",
      "1      719703  ...  profile pics/60148.jpeg\n",
      "2      722153  ...  profile pics/60149.jpeg\n",
      "3      749003  ...  profile pics/60150.jpeg\n",
      "4  1896301728  ...  profile pics/60151.jpeg\n",
      "\n",
      "[5 rows x 6 columns]\n"
     ]
    }
   ],
   "source": [
    "df_profile = pd.read_json('/content/drive/MyDrive/demographicPredictionData/User demo profiles.json')\n",
    "df_profile.rename(columns={'id': 'user_id'}, inplace=True)\n",
    "print(df_profile.shape)\n",
    "print(df_profile.head())"
   ]
  },
  {
   "cell_type": "code",
   "execution_count": null,
   "metadata": {
    "colab": {
     "base_uri": "https://localhost:8080/"
    },
    "id": "-Yi4hO8eWEAx",
    "outputId": "551e480d-3bbc-4e16-d637-a9a0a29fa0c9"
   },
   "outputs": [
    {
     "name": "stdout",
     "output_type": "stream",
     "text": [
      "(4132, 4)\n",
      "    user_id  is_female  year_born  race\n",
      "0   12488.0        0.0     1980.0   4.0\n",
      "1  719703.0        0.0     1985.0   4.0\n",
      "2  722153.0        1.0     1973.0   3.0\n",
      "3  749003.0        0.0     1982.0   5.0\n",
      "4  755531.0        0.0     1982.0   4.0\n"
     ]
    }
   ],
   "source": [
    "df_users = pd.read_csv(\"/content/drive/MyDrive/demographicPredictionData/labeled_users.csv\")\n",
    "print(df_users.shape)\n",
    "print(df_users.head())"
   ]
  },
  {
   "cell_type": "code",
   "execution_count": null,
   "metadata": {
    "colab": {
     "base_uri": "https://localhost:8080/"
    },
    "id": "W-vWsVsBAnfe",
    "outputId": "dc6b7603-2176-4856-b294-23bee8923291"
   },
   "outputs": [
    {
     "name": "stdout",
     "output_type": "stream",
     "text": [
      "(3607, 5)\n",
      "   user_id                 img_path  is_female  year_born  race\n",
      "0    12488  profile pics/60147.jpeg        0.0     1980.0   4.0\n",
      "1   719703  profile pics/60148.jpeg        0.0     1985.0   4.0\n",
      "2   722153  profile pics/60149.jpeg        1.0     1973.0   3.0\n",
      "3   749003  profile pics/60150.jpeg        0.0     1982.0   5.0\n",
      "4   811618  profile pics/60152.jpeg        0.0     1987.0   3.0\n"
     ]
    }
   ],
   "source": [
    "df = pd.merge(df_profile, df_users, on=\"user_id\")\n",
    "df = df.drop(columns=['name', 'screen_name', 'description', 'lang'], axis=1)\n",
    "print(df.shape)\n",
    "print(df.head())"
   ]
  },
  {
   "cell_type": "code",
   "execution_count": null,
   "metadata": {
    "id": "LWTozLRk95zt"
   },
   "outputs": [],
   "source": [
    "def find_pixels_by_path(img_path):\n",
    "  path = \"/content/drive/MyDrive/demographicPredictionData/\" + img_path\n",
    "  if exists(path):\n",
    "    img = cv2.imread(path)\n",
    "    return img\n",
    "  else:\n",
    "    return np.nan\n",
    "\n",
    "df['pixels'] = df['img_path'].map(lambda x: find_pixels_by_path(x))"
   ]
  },
  {
   "cell_type": "code",
   "execution_count": null,
   "metadata": {
    "colab": {
     "base_uri": "https://localhost:8080/"
    },
    "id": "CpLTBzo1G_Kq",
    "outputId": "ef953de9-5837-4b26-ad8c-b9d843e04b90"
   },
   "outputs": [
    {
     "name": "stdout",
     "output_type": "stream",
     "text": [
      "(3607, 6)\n",
      "   user_id  ...                                             pixels\n",
      "0    12488  ...  [[[6, 90, 220], [6, 90, 220], [7, 91, 221], [7...\n",
      "1   719703  ...  [[[255, 255, 255], [255, 255, 255], [255, 255,...\n",
      "2   722153  ...  [[[10, 10, 10], [10, 10, 10], [10, 10, 10], [9...\n",
      "3   749003  ...  [[[5, 3, 2], [6, 4, 3], [8, 6, 5], [9, 7, 6], ...\n",
      "4   811618  ...  [[[209, 239, 240], [213, 243, 244], [216, 244,...\n",
      "\n",
      "[5 rows x 6 columns]\n"
     ]
    }
   ],
   "source": [
    "print(df.shape)\n",
    "print(df.head())\n",
    "df = df.dropna()"
   ]
  },
  {
   "cell_type": "code",
   "execution_count": null,
   "metadata": {
    "colab": {
     "base_uri": "https://localhost:8080/"
    },
    "id": "Dlc7J51on8Dy",
    "outputId": "20652b81-887d-477f-b556-0de035c27b37"
   },
   "outputs": [
    {
     "name": "stdout",
     "output_type": "stream",
     "text": [
      "(224, 224, 3)\n",
      "(3396, 7)\n",
      "   user_id  ...                                        pixels_data\n",
      "0    12488  ...  [6, 90, 220, 6, 90, 220, 7, 91, 221, 7, 91, 22...\n",
      "1   719703  ...  [255, 255, 255, 255, 255, 255, 255, 255, 255, ...\n",
      "2   722153  ...  [10, 10, 10, 10, 10, 10, 10, 10, 10, 9, 9, 9, ...\n",
      "3   749003  ...  [5, 3, 2, 6, 4, 3, 8, 6, 5, 9, 7, 6, 8, 6, 5, ...\n",
      "4   811618  ...  [209, 239, 240, 213, 243, 244, 216, 244, 245, ...\n",
      "\n",
      "[5 rows x 7 columns]\n"
     ]
    }
   ],
   "source": [
    "# for idx, row in df.iterrows():\n",
    "#   print(row['pixels'].shape)\n",
    "print(df['pixels'][0].shape)\n",
    "df[\"pixels_data\"] = df[\"pixels\"].map(lambda x: x.reshape(-1))\n",
    "print(df.shape)\n",
    "print(df.head())"
   ]
  },
  {
   "cell_type": "code",
   "execution_count": null,
   "metadata": {
    "colab": {
     "base_uri": "https://localhost:8080/"
    },
    "id": "4dUhjA860J8j",
    "outputId": "98a72548-5032-4ed9-f1a7-c5d780d1884c"
   },
   "outputs": [
    {
     "name": "stdout",
     "output_type": "stream",
     "text": [
      "(3396, 6)\n",
      "   user_id  ...                                        pixels_data\n",
      "0    12488  ...  [6, 90, 220, 6, 90, 220, 7, 91, 221, 7, 91, 22...\n",
      "1   719703  ...  [255, 255, 255, 255, 255, 255, 255, 255, 255, ...\n",
      "2   722153  ...  [10, 10, 10, 10, 10, 10, 10, 10, 10, 9, 9, 9, ...\n",
      "3   749003  ...  [5, 3, 2, 6, 4, 3, 8, 6, 5, 9, 7, 6, 8, 6, 5, ...\n",
      "4   811618  ...  [209, 239, 240, 213, 243, 244, 216, 244, 245, ...\n",
      "\n",
      "[5 rows x 6 columns]\n"
     ]
    }
   ],
   "source": [
    "df = df.drop(columns=['pixels'], axis=1)\n",
    "print(df.shape)\n",
    "print(df.head())"
   ]
  },
  {
   "cell_type": "code",
   "execution_count": null,
   "metadata": {
    "id": "Xydhqq_7tB5k"
   },
   "outputs": [],
   "source": [
    "df.to_csv(\"/content/drive/MyDrive/demographicPredictionData/image_data.csv\")"
   ]
  },
  {
   "cell_type": "markdown",
   "metadata": {
    "id": "pselX3LD365c"
   },
   "source": [
    "## Face Detection"
   ]
  },
  {
   "cell_type": "code",
   "execution_count": null,
   "metadata": {
    "id": "pY1cdeEOBoN7"
   },
   "outputs": [],
   "source": [
    "from mtcnn.mtcnn import MTCNN\n",
    "from matplotlib import pyplot\n",
    "from PIL import Image"
   ]
  },
  {
   "cell_type": "code",
   "execution_count": null,
   "metadata": {
    "colab": {
     "base_uri": "https://localhost:8080/"
    },
    "id": "ZrlfFo53A1cb",
    "outputId": "bf389b71-7137-47e4-88b5-a4f2a7660692"
   },
   "outputs": [
    {
     "name": "stdout",
     "output_type": "stream",
     "text": [
      "(3396, 6)\n",
      "   user_id                 img_path  ...  race                    pixels_data\n",
      "0    12488  profile pics/60147.jpeg  ...   4.0  [  6  90 220 ...  14 101 205]\n",
      "1   719703  profile pics/60148.jpeg  ...   4.0  [255 255 255 ... 255 255 255]\n",
      "2   722153  profile pics/60149.jpeg  ...   3.0        [10 10 10 ... 10  9 13]\n",
      "3   749003  profile pics/60150.jpeg  ...   5.0              [5 3 2 ... 4 4 4]\n",
      "4   811618  profile pics/60152.jpeg  ...   3.0  [209 239 240 ... 228 252 244]\n",
      "\n",
      "[5 rows x 6 columns]\n"
     ]
    }
   ],
   "source": [
    "df = pd.read_csv(\"/content/drive/MyDrive/demographicPredictionData/image_data.csv\")\n",
    "df = df.drop(['Unnamed: 0'], axis = 1)\n",
    "print(df.shape)\n",
    "print(df.head())"
   ]
  },
  {
   "cell_type": "code",
   "execution_count": null,
   "metadata": {
    "colab": {
     "base_uri": "https://localhost:8080/"
    },
    "id": "BvOCFJdsCWUG",
    "outputId": "aaefd353-271f-4bad-e41f-50621c687d38"
   },
   "outputs": [
    {
     "data": {
      "text/plain": [
       "<matplotlib.image.AxesImage at 0x7f53b3ee3810>"
      ]
     },
     "execution_count": 81,
     "metadata": {},
     "output_type": "execute_result"
    },
    {
     "data": {
      "image/png": "[encoded data removed]",
      "text/plain": [
       "<Figure size 432x288 with 1 Axes>"
      ]
     },
     "metadata": {
      "needs_background": "light"
     },
     "output_type": "display_data"
    }
   ],
   "source": [
    "# path = \"/content/drive/MyDrive/demographicPredictionData/\" + df['img_path'][1]\n",
    "# img = plt.imread(path)\n",
    "# plt.imshow(img)"
   ]
  },
  {
   "cell_type": "code",
   "execution_count": null,
   "metadata": {
    "id": "t-NL3MncANK-"
   },
   "outputs": [],
   "source": [
    "# face = extract_face(df['img_path'][1])\n",
    "# if type(face) == np.ndarray:\n",
    "#   plt.imshow(face)"
   ]
  },
  {
   "cell_type": "code",
   "execution_count": null,
   "metadata": {
    "id": "w633HaqyG77N"
   },
   "outputs": [],
   "source": [
    "# test = Image.fromarray(face)\n",
    "# test.save(\"/content/drive/MyDrive/demographicPredictionData/face pics/a.jpg\")"
   ]
  },
  {
   "cell_type": "code",
   "execution_count": null,
   "metadata": {
    "id": "kvlOOy4F35Pf"
   },
   "outputs": [],
   "source": [
    "\n",
    "\n",
    "def extract_face(img_path, required_size=(224, 224)):\n",
    "  path = \"/content/drive/MyDrive/demographicPredictionData/\" + img_path\n",
    "  pixels = plt.imread(path)\n",
    "  detector = MTCNN()\n",
    "  # detect faces in the image\n",
    "  results = detector.detect_faces(pixels)\n",
    "  if len(results) == 0:\n",
    "    return None\n",
    "  # extract the bounding box from the first face\n",
    "  x1, y1, width, height = results[0]['box']\n",
    "  # bug fix\n",
    "  x1, y1 = abs(x1), abs(y1)\n",
    "  x2, y2 = x1 + width, y1 + height\n",
    "  # extract the face\n",
    "  face = pixels[y1:y2, x1:x2]\n",
    "  # resize pixels to the model size\n",
    "  image = Image.fromarray(face)\n",
    "  image = image.resize(required_size)\n",
    "  face_array = np.asarray(image)\n",
    "  return face_array"
   ]
  },
  {
   "cell_type": "code",
   "execution_count": null,
   "metadata": {
    "id": "ChHPbfU0LnOV"
   },
   "outputs": [],
   "source": [
    "res = []\n",
    "for idx,row in df.iterrows():\n",
    "  face = extract_face(row['img_path'])\n",
    "  if type(face) == np.ndarray:\n",
    "    name = \"/content/drive/MyDrive/demographicPredictionData/face pics/\" + str(row['user_id']) + \".jpg\"\n",
    "    res.append(name)\n",
    "    face_image = Image.fromarray(face)\n",
    "    face_image.save(name)\n",
    "  else:\n",
    "    res.append(np.nan)"
   ]
  },
  {
   "cell_type": "code",
   "execution_count": null,
   "metadata": {
    "id": "J1ehNP54FVOg"
   },
   "outputs": [],
   "source": [
    "res"
   ]
  },
  {
   "cell_type": "code",
   "execution_count": null,
   "metadata": {
    "id": "x-6L01OBoeWf"
   },
   "outputs": [],
   "source": [
    "df['face_path'] = res"
   ]
  },
  {
   "cell_type": "code",
   "execution_count": null,
   "metadata": {
    "id": "m7a5mjDVomVn"
   },
   "outputs": [],
   "source": [
    "df.to_csv(\"/content/drive/MyDrive/demographicPredictionData/face_data.csv\")"
   ]
  },
  {
   "cell_type": "markdown",
   "metadata": {
    "id": "QN2BVqA_ONVw"
   },
   "source": [
    "## face classification"
   ]
  },
  {
   "cell_type": "code",
   "execution_count": 50,
   "metadata": {
    "id": "W_txmFPeIFgI"
   },
   "outputs": [],
   "source": [
    "from keras.models import Model\n",
    "import tensorflow as tf \n",
    "from keras.models import Sequential\n",
    "from keras.layers import Input, Convolution2D, ZeroPadding2D, MaxPooling2D, Flatten, Dense, Dropout, Activation\n",
    "from keras.callbacks import ModelCheckpoint\n",
    "import os.path\n",
    "import sklearn\n",
    "from sklearn.model_selection import KFold "
   ]
  },
  {
   "cell_type": "code",
   "execution_count": 51,
   "metadata": {
    "colab": {
     "base_uri": "https://localhost:8080/"
    },
    "id": "fEWw94c8N39M",
    "outputId": "39f2ec57-06b8-47ba-9453-0bef3002c8a8"
   },
   "outputs": [
    {
     "name": "stdout",
     "output_type": "stream",
     "text": [
      "(2428, 7)\n",
      "Index(['user_id', 'img_path', 'is_female', 'year_born', 'race', 'pixels_data',\n",
      "       'face_path'],\n",
      "      dtype='object')\n",
      "   user_id  ...                                          face_path\n",
      "4   811618  ...  /content/drive/MyDrive/demographicPredictionDa...\n",
      "6   865071  ...  /content/drive/MyDrive/demographicPredictionDa...\n",
      "7   988211  ...  /content/drive/MyDrive/demographicPredictionDa...\n",
      "8  1025311  ...  /content/drive/MyDrive/demographicPredictionDa...\n",
      "9  1143891  ...  /content/drive/MyDrive/demographicPredictionDa...\n",
      "\n",
      "[5 rows x 7 columns]\n"
     ]
    }
   ],
   "source": [
    "df = pd.read_csv(\"/content/drive/MyDrive/demographicPredictionData/face_data.csv\")\n",
    "df = df.dropna()\n",
    "df = df.drop(['Unnamed: 0'], axis = 1)\n",
    "print(df.shape)\n",
    "print(df.columns)\n",
    "print(df.head())"
   ]
  },
  {
   "cell_type": "code",
   "execution_count": 52,
   "metadata": {
    "colab": {
     "base_uri": "https://localhost:8080/"
    },
    "id": "5zG9kLUM54HY",
    "outputId": "a239b359-560b-45ab-88ff-0490b948649e"
   },
   "outputs": [
    {
     "name": "stdout",
     "output_type": "stream",
     "text": [
      "   user_id  ...                                          face_path\n",
      "4   811618  ...  /content/drive/MyDrive/demographicPredictionDa...\n",
      "6   865071  ...  /content/drive/MyDrive/demographicPredictionDa...\n",
      "7   988211  ...  /content/drive/MyDrive/demographicPredictionDa...\n",
      "8  1025311  ...  /content/drive/MyDrive/demographicPredictionDa...\n",
      "9  1143891  ...  /content/drive/MyDrive/demographicPredictionDa...\n",
      "\n",
      "[5 rows x 7 columns]\n"
     ]
    }
   ],
   "source": [
    "def getImagePixels(path):\n",
    "    img = plt.imread(path)\n",
    "    #x = img.reshape(-1,)\n",
    "    return img\n",
    " \n",
    "df['pixels_data'] = df['face_path'].apply(getImagePixels)\n",
    "print(df.head())"
   ]
  },
  {
   "cell_type": "code",
   "execution_count": 53,
   "metadata": {
    "colab": {
     "base_uri": "https://localhost:8080/"
    },
    "id": "pw6TVONUHlTe",
    "outputId": "12bde02f-7f47-4cf0-f73b-faa99de107df"
   },
   "outputs": [
    {
     "name": "stdout",
     "output_type": "stream",
     "text": [
      "4    3.0\n",
      "6    4.0\n",
      "7    4.0\n",
      "8    4.0\n",
      "9    3.0\n",
      "Name: label, dtype: float64\n"
     ]
    }
   ],
   "source": [
    "def process_label(label):\n",
    "  if label == 5:\n",
    "    return 0\n",
    "  else:\n",
    "    return label\n",
    "df['label'] = df['race'].apply(process_label)\n",
    "print(df['label'][:5])"
   ]
  },
  {
   "cell_type": "code",
   "execution_count": 7,
   "metadata": {
    "colab": {
     "base_uri": "https://localhost:8080/",
     "height": 423
    },
    "id": "fq4t4TqLDMVE",
    "outputId": "406d8091-8fa7-4a61-903f-7738f125306d"
   },
   "outputs": [
    {
     "data": {
      "text/html": [
       "<div>\n",
       "<style scoped>\n",
       "    .dataframe tbody tr th:only-of-type {\n",
       "        vertical-align: middle;\n",
       "    }\n",
       "\n",
       "    .dataframe tbody tr th {\n",
       "        vertical-align: top;\n",
       "    }\n",
       "\n",
       "    .dataframe thead th {\n",
       "        text-align: right;\n",
       "    }\n",
       "</style>\n",
       "<table border=\"1\" class=\"dataframe\">\n",
       "  <thead>\n",
       "    <tr style=\"text-align: right;\">\n",
       "      <th></th>\n",
       "      <th>user_id</th>\n",
       "      <th>img_path</th>\n",
       "      <th>is_female</th>\n",
       "      <th>year_born</th>\n",
       "      <th>race</th>\n",
       "      <th>pixels_data</th>\n",
       "      <th>face_path</th>\n",
       "      <th>label</th>\n",
       "    </tr>\n",
       "  </thead>\n",
       "  <tbody>\n",
       "    <tr>\n",
       "      <th>4</th>\n",
       "      <td>811618</td>\n",
       "      <td>profile pics/60152.jpeg</td>\n",
       "      <td>0.0</td>\n",
       "      <td>1987.0</td>\n",
       "      <td>3.0</td>\n",
       "      <td>[[[18, 38, 29], [18, 38, 29], [18, 38, 29], [1...</td>\n",
       "      <td>/content/drive/MyDrive/demographicPredictionDa...</td>\n",
       "      <td>3.0</td>\n",
       "    </tr>\n",
       "    <tr>\n",
       "      <th>6</th>\n",
       "      <td>865071</td>\n",
       "      <td>profile pics/60154.jpeg</td>\n",
       "      <td>0.0</td>\n",
       "      <td>1995.0</td>\n",
       "      <td>4.0</td>\n",
       "      <td>[[[124, 51, 19], [124, 51, 19], [123, 50, 18],...</td>\n",
       "      <td>/content/drive/MyDrive/demographicPredictionDa...</td>\n",
       "      <td>4.0</td>\n",
       "    </tr>\n",
       "    <tr>\n",
       "      <th>7</th>\n",
       "      <td>988211</td>\n",
       "      <td>profile pics/60155.jpeg</td>\n",
       "      <td>0.0</td>\n",
       "      <td>1965.0</td>\n",
       "      <td>4.0</td>\n",
       "      <td>[[[193, 176, 169], [193, 176, 169], [193, 176,...</td>\n",
       "      <td>/content/drive/MyDrive/demographicPredictionDa...</td>\n",
       "      <td>4.0</td>\n",
       "    </tr>\n",
       "    <tr>\n",
       "      <th>8</th>\n",
       "      <td>1025311</td>\n",
       "      <td>profile pics/60156.jpeg</td>\n",
       "      <td>1.0</td>\n",
       "      <td>1955.0</td>\n",
       "      <td>4.0</td>\n",
       "      <td>[[[135, 106, 66], [136, 107, 67], [136, 107, 6...</td>\n",
       "      <td>/content/drive/MyDrive/demographicPredictionDa...</td>\n",
       "      <td>4.0</td>\n",
       "    </tr>\n",
       "    <tr>\n",
       "      <th>9</th>\n",
       "      <td>1143891</td>\n",
       "      <td>profile pics/60157.jpeg</td>\n",
       "      <td>0.0</td>\n",
       "      <td>1976.0</td>\n",
       "      <td>3.0</td>\n",
       "      <td>[[[253, 255, 249], [253, 255, 249], [252, 255,...</td>\n",
       "      <td>/content/drive/MyDrive/demographicPredictionDa...</td>\n",
       "      <td>3.0</td>\n",
       "    </tr>\n",
       "    <tr>\n",
       "      <th>...</th>\n",
       "      <td>...</td>\n",
       "      <td>...</td>\n",
       "      <td>...</td>\n",
       "      <td>...</td>\n",
       "      <td>...</td>\n",
       "      <td>...</td>\n",
       "      <td>...</td>\n",
       "      <td>...</td>\n",
       "    </tr>\n",
       "    <tr>\n",
       "      <th>3386</th>\n",
       "      <td>4863919091</td>\n",
       "      <td>profile pics/64261.jpeg</td>\n",
       "      <td>1.0</td>\n",
       "      <td>1964.0</td>\n",
       "      <td>4.0</td>\n",
       "      <td>[[[106, 126, 99], [106, 126, 99], [106, 126, 9...</td>\n",
       "      <td>/content/drive/MyDrive/demographicPredictionDa...</td>\n",
       "      <td>4.0</td>\n",
       "    </tr>\n",
       "    <tr>\n",
       "      <th>3388</th>\n",
       "      <td>4878926855</td>\n",
       "      <td>profile pics/64263.jpeg</td>\n",
       "      <td>0.0</td>\n",
       "      <td>1983.0</td>\n",
       "      <td>4.0</td>\n",
       "      <td>[[[185, 138, 56], [185, 138, 58], [185, 137, 6...</td>\n",
       "      <td>/content/drive/MyDrive/demographicPredictionDa...</td>\n",
       "      <td>4.0</td>\n",
       "    </tr>\n",
       "    <tr>\n",
       "      <th>3389</th>\n",
       "      <td>4889565747</td>\n",
       "      <td>profile pics/64264.jpeg</td>\n",
       "      <td>1.0</td>\n",
       "      <td>1977.0</td>\n",
       "      <td>4.0</td>\n",
       "      <td>[[[80, 52, 66], [81, 53, 67], [83, 55, 69], [8...</td>\n",
       "      <td>/content/drive/MyDrive/demographicPredictionDa...</td>\n",
       "      <td>4.0</td>\n",
       "    </tr>\n",
       "    <tr>\n",
       "      <th>3390</th>\n",
       "      <td>4892221799</td>\n",
       "      <td>profile pics/64265.jpeg</td>\n",
       "      <td>1.0</td>\n",
       "      <td>1986.0</td>\n",
       "      <td>4.0</td>\n",
       "      <td>[[[110, 123, 131], [107, 120, 128], [105, 118,...</td>\n",
       "      <td>/content/drive/MyDrive/demographicPredictionDa...</td>\n",
       "      <td>4.0</td>\n",
       "    </tr>\n",
       "    <tr>\n",
       "      <th>3392</th>\n",
       "      <td>4895831833</td>\n",
       "      <td>profile pics/64268.jpeg</td>\n",
       "      <td>0.0</td>\n",
       "      <td>1977.0</td>\n",
       "      <td>4.0</td>\n",
       "      <td>[[[18, 10, 7], [19, 11, 8], [20, 12, 9], [22, ...</td>\n",
       "      <td>/content/drive/MyDrive/demographicPredictionDa...</td>\n",
       "      <td>4.0</td>\n",
       "    </tr>\n",
       "  </tbody>\n",
       "</table>\n",
       "<p>2428 rows × 8 columns</p>\n",
       "</div>"
      ],
      "text/plain": [
       "         user_id  ... label\n",
       "4         811618  ...   3.0\n",
       "6         865071  ...   4.0\n",
       "7         988211  ...   4.0\n",
       "8        1025311  ...   4.0\n",
       "9        1143891  ...   3.0\n",
       "...          ...  ...   ...\n",
       "3386  4863919091  ...   4.0\n",
       "3388  4878926855  ...   4.0\n",
       "3389  4889565747  ...   4.0\n",
       "3390  4892221799  ...   4.0\n",
       "3392  4895831833  ...   4.0\n",
       "\n",
       "[2428 rows x 8 columns]"
      ]
     },
     "execution_count": 7,
     "metadata": {},
     "output_type": "execute_result"
    }
   ],
   "source": [
    "df"
   ]
  },
  {
   "cell_type": "code",
   "execution_count": 54,
   "metadata": {
    "id": "vS9Lf-rU7exs"
   },
   "outputs": [],
   "source": [
    "train_x, test_x, train_y, test_y = train_test_split(\n",
    "    df['pixels_data'].values, df['label'].values\n",
    "    , test_size=0.1, random_state=0\n",
    ")\n",
    "train_x, val_x, train_y, val_y = train_test_split(\n",
    "    train_x, train_y\n",
    "    , test_size=0.1, random_state=0\n",
    ")\n",
    "# rus = RandomUnderSampler(random_state=0)\n",
    "# train_x, train_y = rus.fit_resample(train_x, train_y)"
   ]
  },
  {
   "cell_type": "markdown",
   "metadata": {
    "id": "cWfl-8EiWiEw"
   },
   "source": [
    "### transfer learning"
   ]
  },
  {
   "cell_type": "code",
   "execution_count": 55,
   "metadata": {
    "id": "bH9B8lK5kKy2"
   },
   "outputs": [],
   "source": [
    "import tensorflow as tf\n",
    "from tensorflow import keras\n",
    "from tensorflow.keras.models import Sequential,Model\n",
    "from tensorflow.keras.layers import ZeroPadding2D,Convolution2D,MaxPooling2D\n",
    "from tensorflow.keras.layers import Dense,Dropout,Softmax,Flatten,Activation,BatchNormalization\n",
    "from tensorflow.keras.preprocessing.image import load_img,img_to_array\n",
    "from tensorflow.keras.applications.imagenet_utils import preprocess_input\n",
    "import tensorflow.keras.backend as K"
   ]
  },
  {
   "cell_type": "code",
   "execution_count": 45,
   "metadata": {
    "colab": {
     "base_uri": "https://localhost:8080/"
    },
    "id": "395KpUPGuowm",
    "outputId": "797b2687-ee97-48b8-dd61-d58bd043aee6"
   },
   "outputs": [
    {
     "name": "stdout",
     "output_type": "stream",
     "text": [
      "55/55 [==============================] - 5s 11ms/step - loss: 1.5160 - accuracy: 0.4405\n",
      "              precision    recall  f1-score   support\n",
      "\n",
      "         0.0       0.03      0.07      0.04        14\n",
      "         1.0       0.37      0.80      0.51        45\n",
      "         2.0       0.23      0.13      0.17        23\n",
      "         3.0       0.06      0.06      0.06        17\n",
      "         4.0       0.89      0.71      0.79       338\n",
      "\n",
      "    accuracy                           0.65       437\n",
      "   macro avg       0.32      0.35      0.31       437\n",
      "weighted avg       0.74      0.65      0.68       437\n",
      "\n",
      "55/55 [==============================] - 2s 9ms/step - loss: 1.5129 - accuracy: 0.4548\n",
      "              precision    recall  f1-score   support\n",
      "\n",
      "         0.0       0.03      0.31      0.06        16\n",
      "         1.0       0.33      0.80      0.47        35\n",
      "         2.0       0.06      0.04      0.04        28\n",
      "         3.0       0.04      0.10      0.06        10\n",
      "         4.0       0.91      0.43      0.58       348\n",
      "\n",
      "    accuracy                           0.42       437\n",
      "   macro avg       0.28      0.34      0.24       437\n",
      "weighted avg       0.76      0.42      0.51       437\n",
      "\n",
      "55/55 [==============================] - 2s 8ms/step - loss: 1.5354 - accuracy: 0.4039\n",
      "              precision    recall  f1-score   support\n",
      "\n",
      "         0.0       0.02      0.05      0.03        21\n",
      "         1.0       0.43      0.74      0.54        38\n",
      "         2.0       0.13      0.20      0.16        20\n",
      "         3.0       0.03      0.10      0.04        10\n",
      "         4.0       0.92      0.67      0.78       348\n",
      "\n",
      "    accuracy                           0.61       437\n",
      "   macro avg       0.31      0.35      0.31       437\n",
      "weighted avg       0.78      0.61      0.68       437\n",
      "\n",
      "55/55 [==============================] - 2s 9ms/step - loss: 1.4881 - accuracy: 0.4731\n",
      "              precision    recall  f1-score   support\n",
      "\n",
      "         0.0       0.04      0.30      0.06        10\n",
      "         1.0       0.46      0.69      0.55        45\n",
      "         2.0       0.11      0.15      0.13        27\n",
      "         3.0       0.04      0.13      0.07        15\n",
      "         4.0       0.92      0.55      0.69       340\n",
      "\n",
      "    accuracy                           0.52       437\n",
      "   macro avg       0.31      0.36      0.30       437\n",
      "weighted avg       0.77      0.52      0.60       437\n",
      "\n",
      "55/55 [==============================] - 2s 10ms/step - loss: 1.5184 - accuracy: 0.4045\n",
      "              precision    recall  f1-score   support\n",
      "\n",
      "         0.0       0.06      0.21      0.09        14\n",
      "         1.0       0.40      0.88      0.55        40\n",
      "         2.0       0.11      0.07      0.09        27\n",
      "         3.0       0.05      0.40      0.09        15\n",
      "         4.0       0.93      0.44      0.60       341\n",
      "\n",
      "    accuracy                           0.45       437\n",
      "   macro avg       0.31      0.40      0.28       437\n",
      "weighted avg       0.77      0.45      0.53       437\n",
      "\n"
     ]
    }
   ],
   "source": [
    "#cross validation\n",
    "train_X, test_x, train_Y, test_y = train_test_split(\n",
    "    df['pixels_data'].values, df['label'].values\n",
    "    , test_size=0.1, random_state=0\n",
    ")\n",
    "kf = KFold(n_splits=5)\n",
    "for train_index , test_index in kf.split(train_X):\n",
    "  model = Sequential()\n",
    "  model.add(ZeroPadding2D((1,1),input_shape=(224,224, 3)))\n",
    "  model.add(Convolution2D(64, (3, 3), activation='relu'))\n",
    "  model.add(ZeroPadding2D((1,1)))\n",
    "  model.add(Convolution2D(64, (3, 3), activation='relu'))\n",
    "  model.add(MaxPooling2D((2,2), strides=(2,2)))\n",
    "  model.add(ZeroPadding2D((1,1)))\n",
    "  model.add(Convolution2D(128, (3, 3), activation='relu'))\n",
    "  model.add(ZeroPadding2D((1,1)))\n",
    "  model.add(Convolution2D(128, (3, 3), activation='relu'))\n",
    "  model.add(MaxPooling2D((2,2), strides=(2,2)))\n",
    "  model.add(ZeroPadding2D((1,1)))\n",
    "  model.add(Convolution2D(256, (3, 3), activation='relu'))\n",
    "  model.add(ZeroPadding2D((1,1)))\n",
    "  model.add(Convolution2D(256, (3, 3), activation='relu'))\n",
    "  model.add(ZeroPadding2D((1,1)))\n",
    "  model.add(Convolution2D(256, (3, 3), activation='relu'))\n",
    "  model.add(MaxPooling2D((2,2), strides=(2,2)))\n",
    "  model.add(ZeroPadding2D((1,1)))\n",
    "  model.add(Convolution2D(512, (3, 3), activation='relu'))\n",
    "  model.add(ZeroPadding2D((1,1)))\n",
    "  model.add(Convolution2D(512, (3, 3), activation='relu'))\n",
    "  model.add(ZeroPadding2D((1,1)))\n",
    "  model.add(Convolution2D(512, (3, 3), activation='relu'))\n",
    "  model.add(MaxPooling2D((2,2), strides=(2,2)))\n",
    "  model.add(ZeroPadding2D((1,1)))\n",
    "  model.add(Convolution2D(512, (3, 3), activation='relu'))\n",
    "  model.add(ZeroPadding2D((1,1)))\n",
    "  model.add(Convolution2D(512, (3, 3), activation='relu'))\n",
    "  model.add(ZeroPadding2D((1,1)))\n",
    "  model.add(Convolution2D(512, (3, 3), activation='relu'))\n",
    "  model.add(MaxPooling2D((2,2), strides=(2,2)))\n",
    "  model.add(Convolution2D(4096, (7, 7), activation='relu'))\n",
    "  model.add(Dropout(0.5))\n",
    "  model.add(Convolution2D(4096, (1, 1), activation='relu'))\n",
    "  model.add(Dropout(0.5))\n",
    "  model.add(Convolution2D(2622, (1, 1)))\n",
    "  model.add(Flatten())\n",
    "  model.add(Activation('softmax'))\n",
    "\n",
    "  model.load_weights('/content/drive/MyDrive/demographicPredictionData/vgg_face_weights.h5')\n",
    "  vgg_face=Model(inputs=model.layers[0].input,outputs=model.layers[-2].output)\n",
    "\n",
    "  train_x , val_x = train_X[train_index],train_X[test_index]\n",
    "  train_y , val_y = train_Y[train_index],train_Y[test_index]\n",
    "  train_x_processed =[]\n",
    "  for img in train_x:\n",
    "    img=np.expand_dims(img,axis=0)\n",
    "    img=preprocess_input(img)\n",
    "    img_encode=vgg_face(img)\n",
    "    train_x_processed.append(np.squeeze(K.eval(img_encode)).tolist())\n",
    "  val_x_processed =[]\n",
    "  for img in val_x:\n",
    "    img=np.expand_dims(img,axis=0)\n",
    "    img=preprocess_input(img)\n",
    "    img_encode=vgg_face(img)\n",
    "    val_x_processed.append(np.squeeze(K.eval(img_encode)).tolist())\n",
    "  train_x_processed=np.array(train_x_processed)\n",
    "  train_y=np.array(train_y)\n",
    "  val_x_processed=np.array(val_x_processed)\n",
    "  val_y=np.array(val_y)\n",
    "\n",
    "  classifier_model=Sequential()\n",
    "  classifier_model.add(Dense(units=100,input_dim=train_x_processed.shape[1],kernel_initializer='glorot_uniform'))\n",
    "  classifier_model.add(BatchNormalization())\n",
    "  classifier_model.add(Activation('tanh'))\n",
    "  classifier_model.add(Dropout(0.3))\n",
    "  classifier_model.add(Dense(units=10,kernel_initializer='glorot_uniform'))\n",
    "  classifier_model.add(BatchNormalization())\n",
    "  classifier_model.add(Activation('tanh'))\n",
    "  classifier_model.add(Dropout(0.2))\n",
    "  classifier_model.add(Dense(units=5,kernel_initializer='he_uniform'))\n",
    "  classifier_model.add(Activation('softmax'))\n",
    "  classifier_model.compile(loss=tf.keras.losses.SparseCategoricalCrossentropy(),optimizer='nadam',metrics=['accuracy'])\n",
    "\n",
    "  classifier_model.fit(train_x_processed,train_y)\n",
    "  pred_probs = classifier_model.predict(val_x_processed)\n",
    "  pred_values = np.argmax(pred_probs, axis=1)\n",
    "  print(sklearn.metrics.classification_report(val_y,pred_values))"
   ]
  },
  {
   "cell_type": "code",
   "execution_count": 56,
   "metadata": {
    "id": "WZXHT-YDkO6j"
   },
   "outputs": [],
   "source": [
    "model = Sequential()\n",
    "model.add(ZeroPadding2D((1,1),input_shape=(224,224, 3)))\n",
    "model.add(Convolution2D(64, (3, 3), activation='relu'))\n",
    "model.add(ZeroPadding2D((1,1)))\n",
    "model.add(Convolution2D(64, (3, 3), activation='relu'))\n",
    "model.add(MaxPooling2D((2,2), strides=(2,2)))\n",
    "model.add(ZeroPadding2D((1,1)))\n",
    "model.add(Convolution2D(128, (3, 3), activation='relu'))\n",
    "model.add(ZeroPadding2D((1,1)))\n",
    "model.add(Convolution2D(128, (3, 3), activation='relu'))\n",
    "model.add(MaxPooling2D((2,2), strides=(2,2)))\n",
    "model.add(ZeroPadding2D((1,1)))\n",
    "model.add(Convolution2D(256, (3, 3), activation='relu'))\n",
    "model.add(ZeroPadding2D((1,1)))\n",
    "model.add(Convolution2D(256, (3, 3), activation='relu'))\n",
    "model.add(ZeroPadding2D((1,1)))\n",
    "model.add(Convolution2D(256, (3, 3), activation='relu'))\n",
    "model.add(MaxPooling2D((2,2), strides=(2,2)))\n",
    "model.add(ZeroPadding2D((1,1)))\n",
    "model.add(Convolution2D(512, (3, 3), activation='relu'))\n",
    "model.add(ZeroPadding2D((1,1)))\n",
    "model.add(Convolution2D(512, (3, 3), activation='relu'))\n",
    "model.add(ZeroPadding2D((1,1)))\n",
    "model.add(Convolution2D(512, (3, 3), activation='relu'))\n",
    "model.add(MaxPooling2D((2,2), strides=(2,2)))\n",
    "model.add(ZeroPadding2D((1,1)))\n",
    "model.add(Convolution2D(512, (3, 3), activation='relu'))\n",
    "model.add(ZeroPadding2D((1,1)))\n",
    "model.add(Convolution2D(512, (3, 3), activation='relu'))\n",
    "model.add(ZeroPadding2D((1,1)))\n",
    "model.add(Convolution2D(512, (3, 3), activation='relu'))\n",
    "model.add(MaxPooling2D((2,2), strides=(2,2)))\n",
    "model.add(Convolution2D(4096, (7, 7), activation='relu'))\n",
    "model.add(Dropout(0.5))\n",
    "model.add(Convolution2D(4096, (1, 1), activation='relu'))\n",
    "model.add(Dropout(0.5))\n",
    "model.add(Convolution2D(2622, (1, 1)))\n",
    "model.add(Flatten())\n",
    "model.add(Activation('softmax'))"
   ]
  },
  {
   "cell_type": "code",
   "execution_count": 57,
   "metadata": {
    "id": "ddCySdGPkS8b"
   },
   "outputs": [],
   "source": [
    "model.load_weights('/content/drive/MyDrive/demographicPredictionData/vgg_face_weights.h5')"
   ]
  },
  {
   "cell_type": "code",
   "execution_count": 58,
   "metadata": {
    "id": "WnAZ-kT4k42I"
   },
   "outputs": [],
   "source": [
    "vgg_face=Model(inputs=model.layers[0].input,outputs=model.layers[-2].output)"
   ]
  },
  {
   "cell_type": "code",
   "execution_count": 59,
   "metadata": {
    "id": "KW8EH0BAm3xQ"
   },
   "outputs": [],
   "source": [
    "train_x_processed =[]\n",
    "for img in train_x:\n",
    "  img=np.expand_dims(img,axis=0)\n",
    "  img=preprocess_input(img)\n",
    "  img_encode=vgg_face(img)\n",
    "  train_x_processed.append(np.squeeze(K.eval(img_encode)).tolist())\n",
    "val_x_processed =[]\n",
    "for img in val_x:\n",
    "  img=np.expand_dims(img,axis=0)\n",
    "  img=preprocess_input(img)\n",
    "  img_encode=vgg_face(img)\n",
    "  val_x_processed.append(np.squeeze(K.eval(img_encode)).tolist())\n"
   ]
  },
  {
   "cell_type": "code",
   "execution_count": 61,
   "metadata": {
    "id": "-Vnj1lvFJBTa"
   },
   "outputs": [],
   "source": [
    "test_x_processed =[]\n",
    "for img in test_x:\n",
    "  img=np.expand_dims(img,axis=0)\n",
    "  img=preprocess_input(img)\n",
    "  img_encode=vgg_face(img)\n",
    "  test_x_processed.append(np.squeeze(K.eval(img_encode)).tolist())"
   ]
  },
  {
   "cell_type": "code",
   "execution_count": 62,
   "metadata": {
    "id": "Aj74NEolJPX4"
   },
   "outputs": [],
   "source": [
    "train_x_processed=np.array(train_x_processed)\n",
    "train_y=np.array(train_y)\n",
    "val_x_processed=np.array(val_x_processed)\n",
    "val_y=np.array(val_y)\n",
    "test_x_processed=np.array(test_x_processed)\n",
    "test_y=np.array(test_y)"
   ]
  },
  {
   "cell_type": "code",
   "execution_count": 63,
   "metadata": {
    "id": "Adfo2NrXlm49"
   },
   "outputs": [],
   "source": [
    "classifier_model=Sequential()\n",
    "classifier_model.add(Dense(units=100,input_dim=train_x_processed.shape[1],kernel_initializer='glorot_uniform'))\n",
    "classifier_model.add(BatchNormalization())\n",
    "classifier_model.add(Activation('tanh'))\n",
    "classifier_model.add(Dropout(0.3))\n",
    "classifier_model.add(Dense(units=10,kernel_initializer='glorot_uniform'))\n",
    "classifier_model.add(BatchNormalization())\n",
    "classifier_model.add(Activation('tanh'))\n",
    "classifier_model.add(Dropout(0.2))\n",
    "classifier_model.add(Dense(units=5,kernel_initializer='he_uniform'))\n",
    "classifier_model.add(Activation('softmax'))\n",
    "classifier_model.compile(loss=tf.keras.losses.SparseCategoricalCrossentropy(),optimizer='nadam',metrics=['accuracy'])"
   ]
  },
  {
   "cell_type": "code",
   "execution_count": null,
   "metadata": {
    "id": "QCUQq_tMlpLZ"
   },
   "outputs": [],
   "source": [
    "classifier_model.fit(train_x_processed,train_y,epochs=100,validation_data=(val_x_processed,val_y))"
   ]
  },
  {
   "cell_type": "code",
   "execution_count": null,
   "metadata": {
    "id": "-LA16XIsGBVh"
   },
   "outputs": [],
   "source": [
    "# Save model for later use\n",
    "tf.keras.models.save_model(classifier_model,'/content/drive/MyDrive/demographicPredictionData/train/face_classifier_model.h5')"
   ]
  },
  {
   "cell_type": "code",
   "execution_count": null,
   "metadata": {
    "id": "Sya0gy6PKGX0"
   },
   "outputs": [],
   "source": [
    "classifier_model=tf.keras.models.load_model('/content/drive/MyDrive/demographicPredictionData/train/face_classifier_model.h5')"
   ]
  },
  {
   "cell_type": "code",
   "execution_count": null,
   "metadata": {
    "id": "vBS8OxpvKfwW"
   },
   "outputs": [],
   "source": [
    "predictions = classifier_model.predict(test_x_processed)"
   ]
  },
  {
   "cell_type": "code",
   "execution_count": null,
   "metadata": {
    "id": "yKq5TvyCKtu4"
   },
   "outputs": [],
   "source": [
    "pred = np.argmax(predictions, axis=1)\n",
    "pred"
   ]
  },
  {
   "cell_type": "code",
   "execution_count": null,
   "metadata": {
    "colab": {
     "base_uri": "https://localhost:8080/"
    },
    "id": "8Dav_NnnLAUb",
    "outputId": "42443f60-b359-46c2-c29d-00aac7f2bdfd"
   },
   "outputs": [
    {
     "name": "stdout",
     "output_type": "stream",
     "text": [
      "              precision    recall  f1-score   support\n",
      "\n",
      "         0.0       0.00      0.00      0.00        11\n",
      "         1.0       0.38      0.36      0.37        14\n",
      "         2.0       0.00      0.00      0.00        11\n",
      "         3.0       1.00      0.40      0.57         5\n",
      "         4.0       0.86      0.94      0.90       202\n",
      "\n",
      "    accuracy                           0.81       243\n",
      "   macro avg       0.45      0.34      0.37       243\n",
      "weighted avg       0.76      0.81      0.78       243\n",
      "\n"
     ]
    }
   ],
   "source": [
    "print(sklearn.metrics.classification_report(test_y,pred))"
   ]
  },
  {
   "cell_type": "markdown",
   "metadata": {
    "id": "pNJrh5-4XIvl"
   },
   "source": [
    "### CNN"
   ]
  },
  {
   "cell_type": "code",
   "execution_count": null,
   "metadata": {
    "id": "MuoNa1nbY6Jz"
   },
   "outputs": [],
   "source": [
    "train_x_tensor = tf.convert_to_tensor(train_x.tolist(), dtype=tf.float32)\n",
    "train_y_tensor = tf.convert_to_tensor(train_y.tolist(), dtype=tf.float32)"
   ]
  },
  {
   "cell_type": "code",
   "execution_count": null,
   "metadata": {
    "id": "Ty0-TiKrZIFV"
   },
   "outputs": [],
   "source": [
    "val_x_tensor = tf.convert_to_tensor(val_x.tolist(), dtype=tf.float32)\n",
    "val_y_tensor = tf.convert_to_tensor(val_y.tolist(), dtype=tf.float32)"
   ]
  },
  {
   "cell_type": "code",
   "execution_count": 35,
   "metadata": {
    "id": "Uh9Jp2vzXHUK"
   },
   "outputs": [],
   "source": [
    "tf.random.set_seed(0)\n",
    "\n",
    "def build_model(num_classes, activation='softmax', loss='sparse_categorical_crossentropy', metrics='accuracy'):\n",
    "    '''\n",
    "    Creates a CNN with num_classes, activation, loss and metrics as arguments. These will help make the\n",
    "    different models.\n",
    "    '''\n",
    "    \n",
    "    inputs = tf.keras.Input(shape=(224, 224, 3))\n",
    "\n",
    "    x = inputs\n",
    "\n",
    "    # Augment the data by randomly flipping and rotating the images\n",
    "    x = tf.keras.layers.experimental.preprocessing.RandomFlip(\"horizontal\")(x)\n",
    "    # x = tf.keras.layers.experimental.preprocessing.RandomRotation(0.2)(x)\n",
    "\n",
    "    x = tf.keras.layers.Conv2D(64, 3, padding='same', activation='relu')(x)\n",
    "    x = tf.keras.layers.MaxPooling2D()(x)\n",
    "    x = tf.keras.layers.BatchNormalization()(x)\n",
    "    \n",
    "    x = tf.keras.layers.Conv2D(128, 3, padding='same', activation='relu')(x)\n",
    "    x = tf.keras.layers.MaxPooling2D()(x)\n",
    "    x = tf.keras.layers.Dropout(0.3)(x)\n",
    "    x = tf.keras.layers.BatchNormalization()(x)\n",
    "    \n",
    "    x = tf.keras.layers.Conv2D(256, 3, padding='same', activation='relu')(x)\n",
    "    x = tf.keras.layers.MaxPooling2D()(x)\n",
    "    x = tf.keras.layers.Dropout(0.3)(x)\n",
    "    x = tf.keras.layers.BatchNormalization()(x)\n",
    "\n",
    "    x = tf.keras.layers.Conv2D(512, 3, padding='same', activation='relu')(x)\n",
    "    x = tf.keras.layers.MaxPooling2D()(x)\n",
    "    x = tf.keras.layers.Dropout(0.3)(x)\n",
    "    x = tf.keras.layers.BatchNormalization()(x)\n",
    "    \n",
    "    x = tf.keras.layers.Flatten()(x)\n",
    "    x = tf.keras.layers.Dense(128, activation='relu')(x)\n",
    "    x = tf.keras.layers.Dropout(0.5)(x)\n",
    "    x = tf.keras.layers.BatchNormalization()(x)\n",
    "    \n",
    "    outputs = tf.keras.layers.Dense(num_classes, activation=activation)(x)\n",
    "    \n",
    "    model = tf.keras.Model(inputs=inputs, outputs=outputs)\n",
    "    \n",
    "    model.compile(\n",
    "        optimizer='adam',\n",
    "        loss=loss,\n",
    "        metrics=[metrics]        \n",
    "    )\n",
    "    \n",
    "    return model"
   ]
  },
  {
   "cell_type": "code",
   "execution_count": 36,
   "metadata": {
    "id": "qi03-_aQWnZs"
   },
   "outputs": [],
   "source": [
    "race_cnn_model = build_model(5, activation='softmax', loss='sparse_categorical_crossentropy', metrics='accuracy')\n",
    "\n",
    "checkpoint_path = \"/content/drive/MyDrive/demographicPredictionData/train/cp-cnn-race.ckpt\"\n",
    "checkpoint_dir = os.path.dirname(checkpoint_path)"
   ]
  },
  {
   "cell_type": "code",
   "execution_count": 37,
   "metadata": {
    "colab": {
     "base_uri": "https://localhost:8080/"
    },
    "id": "iFgsAa2kXRSa",
    "outputId": "74eedde6-e241-45b1-a7fc-a732d58b9d11"
   },
   "outputs": [
    {
     "name": "stdout",
     "output_type": "stream",
     "text": [
      "Model: \"model_8\"\n",
      "_________________________________________________________________\n",
      " Layer (type)                Output Shape              Param #   \n",
      "=================================================================\n",
      " input_2 (InputLayer)        [(None, 224, 224, 3)]     0         \n",
      "                                                                 \n",
      " random_flip_1 (RandomFlip)  (None, 224, 224, 3)       0         \n",
      "                                                                 \n",
      " conv2d_116 (Conv2D)         (None, 224, 224, 64)      1792      \n",
      "                                                                 \n",
      " max_pooling2d_39 (MaxPoolin  (None, 112, 112, 64)     0         \n",
      " g2D)                                                            \n",
      "                                                                 \n",
      " batch_normalization_15 (Bat  (None, 112, 112, 64)     256       \n",
      " chNormalization)                                                \n",
      "                                                                 \n",
      " conv2d_117 (Conv2D)         (None, 112, 112, 128)     73856     \n",
      "                                                                 \n",
      " max_pooling2d_40 (MaxPoolin  (None, 56, 56, 128)      0         \n",
      " g2D)                                                            \n",
      "                                                                 \n",
      " dropout_28 (Dropout)        (None, 56, 56, 128)       0         \n",
      "                                                                 \n",
      " batch_normalization_16 (Bat  (None, 56, 56, 128)      512       \n",
      " chNormalization)                                                \n",
      "                                                                 \n",
      " conv2d_118 (Conv2D)         (None, 56, 56, 256)       295168    \n",
      "                                                                 \n",
      " max_pooling2d_41 (MaxPoolin  (None, 28, 28, 256)      0         \n",
      " g2D)                                                            \n",
      "                                                                 \n",
      " dropout_29 (Dropout)        (None, 28, 28, 256)       0         \n",
      "                                                                 \n",
      " batch_normalization_17 (Bat  (None, 28, 28, 256)      1024      \n",
      " chNormalization)                                                \n",
      "                                                                 \n",
      " conv2d_119 (Conv2D)         (None, 28, 28, 512)       1180160   \n",
      "                                                                 \n",
      " max_pooling2d_42 (MaxPoolin  (None, 14, 14, 512)      0         \n",
      " g2D)                                                            \n",
      "                                                                 \n",
      " dropout_30 (Dropout)        (None, 14, 14, 512)       0         \n",
      "                                                                 \n",
      " batch_normalization_18 (Bat  (None, 14, 14, 512)      2048      \n",
      " chNormalization)                                                \n",
      "                                                                 \n",
      " flatten_8 (Flatten)         (None, 100352)            0         \n",
      "                                                                 \n",
      " dense_17 (Dense)            (None, 128)               12845184  \n",
      "                                                                 \n",
      " dropout_31 (Dropout)        (None, 128)               0         \n",
      "                                                                 \n",
      " batch_normalization_19 (Bat  (None, 128)              512       \n",
      " chNormalization)                                                \n",
      "                                                                 \n",
      " dense_18 (Dense)            (None, 5)                 645       \n",
      "                                                                 \n",
      "=================================================================\n",
      "Total params: 14,401,157\n",
      "Trainable params: 14,398,981\n",
      "Non-trainable params: 2,176\n",
      "_________________________________________________________________\n"
     ]
    }
   ],
   "source": [
    "race_cnn_model.summary()"
   ]
  },
  {
   "cell_type": "code",
   "execution_count": 38,
   "metadata": {
    "colab": {
     "base_uri": "https://localhost:8080/"
    },
    "id": "ituEC5j0Jt3m",
    "outputId": "7ebb2b62-5765-4d35-e992-b66d349acebe",
    "scrolled": false
   },
   "outputs": [
    {
     "name": "stdout",
     "output_type": "stream",
     "text": [
      "Epoch 1/10\n",
      "22/22 [==============================] - ETA: 0s - loss: 1.9975 - accuracy: 0.3090 \n",
      "Epoch 00001: val_loss improved from inf to 12.40088, saving model to /content/drive/MyDrive/demographicPredictionData/train/cp-cnn-race.ckpt\n",
      "22/22 [==============================] - 614s 28s/step - loss: 1.9975 - accuracy: 0.3090 - val_loss: 12.4009 - val_accuracy: 0.7600 - lr: 0.0010\n",
      "Epoch 2/10\n",
      "22/22 [==============================] - ETA: 0s - loss: 1.6182 - accuracy: 0.3784 \n",
      "Epoch 00002: val_loss improved from 12.40088 to 3.55505, saving model to /content/drive/MyDrive/demographicPredictionData/train/cp-cnn-race.ckpt\n",
      "22/22 [==============================] - 604s 28s/step - loss: 1.6182 - accuracy: 0.3784 - val_loss: 3.5550 - val_accuracy: 0.7714 - lr: 0.0010\n",
      "Epoch 3/10\n",
      "22/22 [==============================] - ETA: 0s - loss: 1.4087 - accuracy: 0.5229 \n",
      "Epoch 00003: val_loss improved from 3.55505 to 1.36558, saving model to /content/drive/MyDrive/demographicPredictionData/train/cp-cnn-race.ckpt\n",
      "22/22 [==============================] - 592s 27s/step - loss: 1.4087 - accuracy: 0.5229 - val_loss: 1.3656 - val_accuracy: 0.7286 - lr: 0.0010\n",
      "Epoch 4/10\n",
      "22/22 [==============================] - ETA: 0s - loss: 1.2438 - accuracy: 0.5944 \n",
      "Epoch 00004: val_loss improved from 1.36558 to 1.06614, saving model to /content/drive/MyDrive/demographicPredictionData/train/cp-cnn-race.ckpt\n",
      "22/22 [==============================] - 581s 26s/step - loss: 1.2438 - accuracy: 0.5944 - val_loss: 1.0661 - val_accuracy: 0.7743 - lr: 0.0010\n",
      "Epoch 5/10\n",
      "22/22 [==============================] - ETA: 0s - loss: 1.1109 - accuracy: 0.6638 \n",
      "Epoch 00005: val_loss improved from 1.06614 to 0.86210, saving model to /content/drive/MyDrive/demographicPredictionData/train/cp-cnn-race.ckpt\n",
      "22/22 [==============================] - 585s 27s/step - loss: 1.1109 - accuracy: 0.6638 - val_loss: 0.8621 - val_accuracy: 0.7857 - lr: 0.0010\n",
      "Epoch 6/10\n",
      "22/22 [==============================] - ETA: 0s - loss: 0.9993 - accuracy: 0.7003 \n",
      "Epoch 00006: val_loss did not improve from 0.86210\n",
      "22/22 [==============================] - 587s 27s/step - loss: 0.9993 - accuracy: 0.7003 - val_loss: 1.0136 - val_accuracy: 0.7886 - lr: 0.0010\n",
      "Epoch 7/10\n",
      "22/22 [==============================] - ETA: 0s - loss: 0.9058 - accuracy: 0.7275 \n",
      "Epoch 00007: val_loss improved from 0.86210 to 0.85519, saving model to /content/drive/MyDrive/demographicPredictionData/train/cp-cnn-race.ckpt\n",
      "22/22 [==============================] - 584s 27s/step - loss: 0.9058 - accuracy: 0.7275 - val_loss: 0.8552 - val_accuracy: 0.7943 - lr: 0.0010\n",
      "Epoch 8/10\n",
      "22/22 [==============================] - ETA: 0s - loss: 0.8450 - accuracy: 0.7439 \n",
      "Epoch 00008: val_loss improved from 0.85519 to 0.84971, saving model to /content/drive/MyDrive/demographicPredictionData/train/cp-cnn-race.ckpt\n",
      "22/22 [==============================] - 584s 27s/step - loss: 0.8450 - accuracy: 0.7439 - val_loss: 0.8497 - val_accuracy: 0.7829 - lr: 0.0010\n",
      "Epoch 9/10\n",
      "22/22 [==============================] - ETA: 0s - loss: 0.7881 - accuracy: 0.7647 \n",
      "Epoch 00009: val_loss improved from 0.84971 to 0.84223, saving model to /content/drive/MyDrive/demographicPredictionData/train/cp-cnn-race.ckpt\n",
      "22/22 [==============================] - 580s 26s/step - loss: 0.7881 - accuracy: 0.7647 - val_loss: 0.8422 - val_accuracy: 0.7943 - lr: 0.0010\n",
      "Epoch 10/10\n",
      "22/22 [==============================] - ETA: 0s - loss: 0.7731 - accuracy: 0.7704 \n",
      "Epoch 00010: val_loss did not improve from 0.84223\n",
      "22/22 [==============================] - 577s 26s/step - loss: 0.7731 - accuracy: 0.7704 - val_loss: 0.8714 - val_accuracy: 0.7686 - lr: 0.0010\n"
     ]
    },
    {
     "name": "stderr",
     "output_type": "stream",
     "text": [
      "/usr/local/lib/python3.7/dist-packages/sklearn/metrics/_classification.py:1308: UndefinedMetricWarning: Precision and F-score are ill-defined and being set to 0.0 in labels with no predicted samples. Use `zero_division` parameter to control this behavior.\n",
      "  _warn_prf(average, modifier, msg_start, len(result))\n",
      "/usr/local/lib/python3.7/dist-packages/sklearn/metrics/_classification.py:1308: UndefinedMetricWarning: Precision and F-score are ill-defined and being set to 0.0 in labels with no predicted samples. Use `zero_division` parameter to control this behavior.\n",
      "  _warn_prf(average, modifier, msg_start, len(result))\n",
      "/usr/local/lib/python3.7/dist-packages/sklearn/metrics/_classification.py:1308: UndefinedMetricWarning: Precision and F-score are ill-defined and being set to 0.0 in labels with no predicted samples. Use `zero_division` parameter to control this behavior.\n",
      "  _warn_prf(average, modifier, msg_start, len(result))\n"
     ]
    },
    {
     "name": "stdout",
     "output_type": "stream",
     "text": [
      "              precision    recall  f1-score   support\n",
      "\n",
      "         0.0       0.00      0.00      0.00        14\n",
      "         1.0       0.29      0.38      0.33        45\n",
      "         2.0       0.00      0.00      0.00        23\n",
      "         3.0       0.00      0.00      0.00        17\n",
      "         4.0       0.80      0.90      0.85       338\n",
      "\n",
      "    accuracy                           0.73       437\n",
      "   macro avg       0.22      0.26      0.24       437\n",
      "weighted avg       0.65      0.73      0.69       437\n",
      "\n",
      "Epoch 1/10\n",
      "22/22 [==============================] - ETA: 0s - loss: 0.8152 - accuracy: 0.7539 \n",
      "Epoch 00001: val_loss improved from inf to 0.93600, saving model to /content/drive/MyDrive/demographicPredictionData/train/cp-cnn-race.ckpt\n",
      "22/22 [==============================] - 580s 26s/step - loss: 0.8152 - accuracy: 0.7539 - val_loss: 0.9360 - val_accuracy: 0.7629 - lr: 0.0010\n",
      "Epoch 2/10\n",
      "22/22 [==============================] - ETA: 0s - loss: 0.7960 - accuracy: 0.7675 \n",
      "Epoch 00002: val_loss did not improve from 0.93600\n",
      "22/22 [==============================] - 575s 26s/step - loss: 0.7960 - accuracy: 0.7675 - val_loss: 0.9805 - val_accuracy: 0.8029 - lr: 0.0010\n",
      "Epoch 3/10\n",
      "22/22 [==============================] - ETA: 0s - loss: 0.7534 - accuracy: 0.7711 \n",
      "Epoch 00003: val_loss improved from 0.93600 to 0.82672, saving model to /content/drive/MyDrive/demographicPredictionData/train/cp-cnn-race.ckpt\n",
      "22/22 [==============================] - 582s 27s/step - loss: 0.7534 - accuracy: 0.7711 - val_loss: 0.8267 - val_accuracy: 0.8000 - lr: 0.0010\n",
      "Epoch 4/10\n",
      "22/22 [==============================] - ETA: 0s - loss: 0.7631 - accuracy: 0.7740 \n",
      "Epoch 00004: val_loss improved from 0.82672 to 0.81281, saving model to /content/drive/MyDrive/demographicPredictionData/train/cp-cnn-race.ckpt\n",
      "22/22 [==============================] - 584s 27s/step - loss: 0.7631 - accuracy: 0.7740 - val_loss: 0.8128 - val_accuracy: 0.7800 - lr: 0.0010\n",
      "Epoch 5/10\n",
      "22/22 [==============================] - ETA: 0s - loss: 0.6842 - accuracy: 0.7904 \n",
      "Epoch 00005: val_loss improved from 0.81281 to 0.77531, saving model to /content/drive/MyDrive/demographicPredictionData/train/cp-cnn-race.ckpt\n",
      "22/22 [==============================] - 581s 26s/step - loss: 0.6842 - accuracy: 0.7904 - val_loss: 0.7753 - val_accuracy: 0.7886 - lr: 0.0010\n",
      "Epoch 6/10\n",
      "22/22 [==============================] - ETA: 0s - loss: 0.6879 - accuracy: 0.7797 \n",
      "Epoch 00006: val_loss did not improve from 0.77531\n",
      "22/22 [==============================] - 578s 26s/step - loss: 0.6879 - accuracy: 0.7797 - val_loss: 0.8191 - val_accuracy: 0.7943 - lr: 0.0010\n",
      "Epoch 7/10\n",
      "22/22 [==============================] - ETA: 0s - loss: 0.6887 - accuracy: 0.7918 \n",
      "Epoch 00007: val_loss did not improve from 0.77531\n",
      "22/22 [==============================] - 575s 26s/step - loss: 0.6887 - accuracy: 0.7918 - val_loss: 0.7990 - val_accuracy: 0.7914 - lr: 0.0010\n",
      "Epoch 8/10\n",
      "22/22 [==============================] - ETA: 0s - loss: 0.6701 - accuracy: 0.7840 \n",
      "Epoch 00008: val_loss did not improve from 0.77531\n",
      "22/22 [==============================] - 572s 26s/step - loss: 0.6701 - accuracy: 0.7840 - val_loss: 0.9395 - val_accuracy: 0.7914 - lr: 0.0010\n",
      "Epoch 9/10\n",
      "22/22 [==============================] - ETA: 0s - loss: 0.6104 - accuracy: 0.7997 \n",
      "Epoch 00009: val_loss did not improve from 0.77531\n",
      "22/22 [==============================] - 573s 26s/step - loss: 0.6104 - accuracy: 0.7997 - val_loss: 0.8836 - val_accuracy: 0.7943 - lr: 0.0010\n",
      "Epoch 10/10\n",
      "22/22 [==============================] - ETA: 0s - loss: 0.6246 - accuracy: 0.8104 Restoring model weights from the end of the best epoch: 2.\n",
      "\n",
      "Epoch 00010: val_loss did not improve from 0.77531\n",
      "22/22 [==============================] - 582s 27s/step - loss: 0.6246 - accuracy: 0.8104 - val_loss: 0.9060 - val_accuracy: 0.7914 - lr: 0.0010\n",
      "Epoch 00010: early stopping\n"
     ]
    },
    {
     "name": "stderr",
     "output_type": "stream",
     "text": [
      "/usr/local/lib/python3.7/dist-packages/sklearn/metrics/_classification.py:1308: UndefinedMetricWarning: Precision and F-score are ill-defined and being set to 0.0 in labels with no predicted samples. Use `zero_division` parameter to control this behavior.\n",
      "  _warn_prf(average, modifier, msg_start, len(result))\n",
      "/usr/local/lib/python3.7/dist-packages/sklearn/metrics/_classification.py:1308: UndefinedMetricWarning: Precision and F-score are ill-defined and being set to 0.0 in labels with no predicted samples. Use `zero_division` parameter to control this behavior.\n",
      "  _warn_prf(average, modifier, msg_start, len(result))\n",
      "/usr/local/lib/python3.7/dist-packages/sklearn/metrics/_classification.py:1308: UndefinedMetricWarning: Precision and F-score are ill-defined and being set to 0.0 in labels with no predicted samples. Use `zero_division` parameter to control this behavior.\n",
      "  _warn_prf(average, modifier, msg_start, len(result))\n"
     ]
    },
    {
     "name": "stdout",
     "output_type": "stream",
     "text": [
      "              precision    recall  f1-score   support\n",
      "\n",
      "         0.0       0.00      0.00      0.00        16\n",
      "         1.0       0.64      0.20      0.30        35\n",
      "         2.0       0.00      0.00      0.00        28\n",
      "         3.0       0.00      0.00      0.00        10\n",
      "         4.0       0.81      0.99      0.89       348\n",
      "\n",
      "    accuracy                           0.81       437\n",
      "   macro avg       0.29      0.24      0.24       437\n",
      "weighted avg       0.70      0.81      0.73       437\n",
      "\n",
      "Epoch 1/10\n",
      "22/22 [==============================] - ETA: 0s - loss: 0.7921 - accuracy: 0.7568 \n",
      "Epoch 00001: val_loss improved from inf to 0.83116, saving model to /content/drive/MyDrive/demographicPredictionData/train/cp-cnn-race.ckpt\n",
      "22/22 [==============================] - 587s 27s/step - loss: 0.7921 - accuracy: 0.7568 - val_loss: 0.8312 - val_accuracy: 0.7943 - lr: 0.0010\n",
      "Epoch 2/10\n",
      "22/22 [==============================] - ETA: 0s - loss: 0.7573 - accuracy: 0.7690 \n",
      "Epoch 00002: val_loss improved from 0.83116 to 0.77601, saving model to /content/drive/MyDrive/demographicPredictionData/train/cp-cnn-race.ckpt\n",
      "22/22 [==============================] - 589s 27s/step - loss: 0.7573 - accuracy: 0.7690 - val_loss: 0.7760 - val_accuracy: 0.7914 - lr: 0.0010\n",
      "Epoch 3/10\n",
      "22/22 [==============================] - ETA: 0s - loss: 0.7296 - accuracy: 0.7811 \n",
      "Epoch 00003: val_loss did not improve from 0.77601\n",
      "22/22 [==============================] - 581s 26s/step - loss: 0.7296 - accuracy: 0.7811 - val_loss: 0.9148 - val_accuracy: 0.7971 - lr: 0.0010\n",
      "Epoch 4/10\n",
      "22/22 [==============================] - ETA: 0s - loss: 0.7540 - accuracy: 0.7761 \n",
      "Epoch 00004: val_loss did not improve from 0.77601\n",
      "22/22 [==============================] - 583s 26s/step - loss: 0.7540 - accuracy: 0.7761 - val_loss: 0.7903 - val_accuracy: 0.7914 - lr: 0.0010\n",
      "Epoch 5/10\n",
      "22/22 [==============================] - ETA: 0s - loss: 0.6908 - accuracy: 0.7790 \n",
      "Epoch 00005: val_loss did not improve from 0.77601\n",
      "22/22 [==============================] - 575s 26s/step - loss: 0.6908 - accuracy: 0.7790 - val_loss: 0.7890 - val_accuracy: 0.7857 - lr: 0.0010\n",
      "Epoch 6/10\n",
      "22/22 [==============================] - ETA: 0s - loss: 0.6822 - accuracy: 0.7947 \n",
      "Epoch 00006: val_loss did not improve from 0.77601\n",
      "22/22 [==============================] - 586s 27s/step - loss: 0.6822 - accuracy: 0.7947 - val_loss: 0.9218 - val_accuracy: 0.7171 - lr: 0.0010\n",
      "Epoch 7/10\n",
      "22/22 [==============================] - ETA: 0s - loss: 0.6633 - accuracy: 0.7825 \n",
      "Epoch 00007: val_loss improved from 0.77601 to 0.76064, saving model to /content/drive/MyDrive/demographicPredictionData/train/cp-cnn-race.ckpt\n",
      "22/22 [==============================] - 578s 26s/step - loss: 0.6633 - accuracy: 0.7825 - val_loss: 0.7606 - val_accuracy: 0.7943 - lr: 0.0010\n",
      "Epoch 8/10\n",
      "22/22 [==============================] - ETA: 0s - loss: 0.6553 - accuracy: 0.7833 \n",
      "Epoch 00008: val_loss did not improve from 0.76064\n",
      "22/22 [==============================] - 587s 27s/step - loss: 0.6553 - accuracy: 0.7833 - val_loss: 0.7824 - val_accuracy: 0.7914 - lr: 0.0010\n",
      "Epoch 9/10\n",
      "22/22 [==============================] - ETA: 0s - loss: 0.5897 - accuracy: 0.8126 \n",
      "Epoch 00009: val_loss did not improve from 0.76064\n",
      "22/22 [==============================] - 594s 27s/step - loss: 0.5897 - accuracy: 0.8126 - val_loss: 0.7668 - val_accuracy: 0.7943 - lr: 0.0010\n",
      "Epoch 10/10\n",
      "22/22 [==============================] - ETA: 0s - loss: 0.5623 - accuracy: 0.8176 \n",
      "Epoch 00010: val_loss did not improve from 0.76064\n",
      "22/22 [==============================] - 604s 27s/step - loss: 0.5623 - accuracy: 0.8176 - val_loss: 0.8713 - val_accuracy: 0.7971 - lr: 0.0010\n"
     ]
    },
    {
     "name": "stderr",
     "output_type": "stream",
     "text": [
      "/usr/local/lib/python3.7/dist-packages/sklearn/metrics/_classification.py:1308: UndefinedMetricWarning: Precision and F-score are ill-defined and being set to 0.0 in labels with no predicted samples. Use `zero_division` parameter to control this behavior.\n",
      "  _warn_prf(average, modifier, msg_start, len(result))\n",
      "/usr/local/lib/python3.7/dist-packages/sklearn/metrics/_classification.py:1308: UndefinedMetricWarning: Precision and F-score are ill-defined and being set to 0.0 in labels with no predicted samples. Use `zero_division` parameter to control this behavior.\n",
      "  _warn_prf(average, modifier, msg_start, len(result))\n",
      "/usr/local/lib/python3.7/dist-packages/sklearn/metrics/_classification.py:1308: UndefinedMetricWarning: Precision and F-score are ill-defined and being set to 0.0 in labels with no predicted samples. Use `zero_division` parameter to control this behavior.\n",
      "  _warn_prf(average, modifier, msg_start, len(result))\n"
     ]
    },
    {
     "name": "stdout",
     "output_type": "stream",
     "text": [
      "              precision    recall  f1-score   support\n",
      "\n",
      "         0.0       0.00      0.00      0.00        21\n",
      "         1.0       0.88      0.18      0.30        38\n",
      "         2.0       0.00      0.00      0.00        20\n",
      "         3.0       0.00      0.00      0.00        10\n",
      "         4.0       0.81      1.00      0.89       348\n",
      "\n",
      "    accuracy                           0.81       437\n",
      "   macro avg       0.34      0.24      0.24       437\n",
      "weighted avg       0.72      0.81      0.74       437\n",
      "\n",
      "Epoch 1/10\n",
      "22/22 [==============================] - ETA: 0s - loss: 0.6535 - accuracy: 0.8011 \n",
      "Epoch 00001: val_loss improved from inf to 0.82222, saving model to /content/drive/MyDrive/demographicPredictionData/train/cp-cnn-race.ckpt\n",
      "22/22 [==============================] - 640s 29s/step - loss: 0.6535 - accuracy: 0.8011 - val_loss: 0.8222 - val_accuracy: 0.7971 - lr: 0.0010\n",
      "Epoch 2/10\n",
      "22/22 [==============================] - ETA: 0s - loss: 0.5746 - accuracy: 0.8162 \n",
      "Epoch 00002: val_loss did not improve from 0.82222\n",
      "22/22 [==============================] - 647s 29s/step - loss: 0.5746 - accuracy: 0.8162 - val_loss: 0.9047 - val_accuracy: 0.7971 - lr: 0.0010\n",
      "Epoch 3/10\n",
      "22/22 [==============================] - ETA: 0s - loss: 0.5568 - accuracy: 0.8155 \n",
      "Epoch 00003: val_loss improved from 0.82222 to 0.81540, saving model to /content/drive/MyDrive/demographicPredictionData/train/cp-cnn-race.ckpt\n",
      "22/22 [==============================] - 635s 29s/step - loss: 0.5568 - accuracy: 0.8155 - val_loss: 0.8154 - val_accuracy: 0.8086 - lr: 0.0010\n",
      "Epoch 4/10\n",
      "22/22 [==============================] - ETA: 0s - loss: 0.5417 - accuracy: 0.8276 \n",
      "Epoch 00004: val_loss did not improve from 0.81540\n",
      "22/22 [==============================] - 639s 29s/step - loss: 0.5417 - accuracy: 0.8276 - val_loss: 0.8193 - val_accuracy: 0.7857 - lr: 0.0010\n",
      "Epoch 5/10\n",
      "22/22 [==============================] - ETA: 0s - loss: 0.5264 - accuracy: 0.8312 \n",
      "Epoch 00005: val_loss improved from 0.81540 to 0.81151, saving model to /content/drive/MyDrive/demographicPredictionData/train/cp-cnn-race.ckpt\n",
      "22/22 [==============================] - 635s 29s/step - loss: 0.5264 - accuracy: 0.8312 - val_loss: 0.8115 - val_accuracy: 0.7886 - lr: 0.0010\n",
      "Epoch 6/10\n",
      "22/22 [==============================] - ETA: 0s - loss: 0.4945 - accuracy: 0.8376 \n",
      "Epoch 00006: val_loss did not improve from 0.81151\n",
      "22/22 [==============================] - 626s 28s/step - loss: 0.4945 - accuracy: 0.8376 - val_loss: 0.9114 - val_accuracy: 0.7914 - lr: 0.0010\n",
      "Epoch 7/10\n",
      "22/22 [==============================] - ETA: 0s - loss: 0.4670 - accuracy: 0.8541 \n",
      "Epoch 00007: val_loss did not improve from 0.81151\n",
      "22/22 [==============================] - 623s 28s/step - loss: 0.4670 - accuracy: 0.8541 - val_loss: 0.8426 - val_accuracy: 0.7857 - lr: 0.0010\n",
      "Epoch 8/10\n",
      "22/22 [==============================] - ETA: 0s - loss: 0.4591 - accuracy: 0.8498 \n",
      "Epoch 00008: val_loss did not improve from 0.81151\n",
      "22/22 [==============================] - 625s 28s/step - loss: 0.4591 - accuracy: 0.8498 - val_loss: 0.9186 - val_accuracy: 0.7914 - lr: 0.0010\n",
      "Epoch 9/10\n",
      "22/22 [==============================] - ETA: 0s - loss: 0.4475 - accuracy: 0.8526 \n",
      "Epoch 00009: val_loss did not improve from 0.81151\n",
      "22/22 [==============================] - 639s 29s/step - loss: 0.4475 - accuracy: 0.8526 - val_loss: 0.8569 - val_accuracy: 0.7943 - lr: 0.0010\n",
      "Epoch 10/10\n",
      "22/22 [==============================] - ETA: 0s - loss: 0.4071 - accuracy: 0.8612 \n",
      "Epoch 00010: val_loss did not improve from 0.81151\n",
      "22/22 [==============================] - 645s 29s/step - loss: 0.4071 - accuracy: 0.8612 - val_loss: 0.9267 - val_accuracy: 0.7857 - lr: 0.0010\n"
     ]
    },
    {
     "name": "stderr",
     "output_type": "stream",
     "text": [
      "/usr/local/lib/python3.7/dist-packages/sklearn/metrics/_classification.py:1308: UndefinedMetricWarning: Precision and F-score are ill-defined and being set to 0.0 in labels with no predicted samples. Use `zero_division` parameter to control this behavior.\n",
      "  _warn_prf(average, modifier, msg_start, len(result))\n",
      "/usr/local/lib/python3.7/dist-packages/sklearn/metrics/_classification.py:1308: UndefinedMetricWarning: Precision and F-score are ill-defined and being set to 0.0 in labels with no predicted samples. Use `zero_division` parameter to control this behavior.\n",
      "  _warn_prf(average, modifier, msg_start, len(result))\n",
      "/usr/local/lib/python3.7/dist-packages/sklearn/metrics/_classification.py:1308: UndefinedMetricWarning: Precision and F-score are ill-defined and being set to 0.0 in labels with no predicted samples. Use `zero_division` parameter to control this behavior.\n",
      "  _warn_prf(average, modifier, msg_start, len(result))\n"
     ]
    },
    {
     "name": "stdout",
     "output_type": "stream",
     "text": [
      "              precision    recall  f1-score   support\n",
      "\n",
      "         0.0       0.00      0.00      0.00        10\n",
      "         1.0       1.00      0.09      0.16        45\n",
      "         2.0       1.00      0.04      0.07        27\n",
      "         3.0       0.00      0.00      0.00        15\n",
      "         4.0       0.79      1.00      0.88       340\n",
      "\n",
      "    accuracy                           0.79       437\n",
      "   macro avg       0.56      0.23      0.22       437\n",
      "weighted avg       0.78      0.79      0.71       437\n",
      "\n",
      "Epoch 1/10\n",
      "22/22 [==============================] - ETA: 0s - loss: 0.4291 - accuracy: 0.8627 \n",
      "Epoch 00001: val_loss improved from inf to 0.64736, saving model to /content/drive/MyDrive/demographicPredictionData/train/cp-cnn-race.ckpt\n",
      "22/22 [==============================] - 629s 29s/step - loss: 0.4291 - accuracy: 0.8627 - val_loss: 0.6474 - val_accuracy: 0.7943 - lr: 0.0010\n",
      "Epoch 2/10\n",
      "22/22 [==============================] - ETA: 0s - loss: 0.3929 - accuracy: 0.8670 \n",
      "Epoch 00002: val_loss did not improve from 0.64736\n",
      "22/22 [==============================] - 633s 29s/step - loss: 0.3929 - accuracy: 0.8670 - val_loss: 0.8374 - val_accuracy: 0.7800 - lr: 0.0010\n",
      "Epoch 3/10\n",
      "22/22 [==============================] - ETA: 0s - loss: 0.3630 - accuracy: 0.8727 \n",
      "Epoch 00003: val_loss did not improve from 0.64736\n",
      "22/22 [==============================] - 617s 28s/step - loss: 0.3630 - accuracy: 0.8727 - val_loss: 0.7385 - val_accuracy: 0.7829 - lr: 0.0010\n",
      "Epoch 4/10\n",
      "22/22 [==============================] - ETA: 0s - loss: 0.3475 - accuracy: 0.8877 \n",
      "Epoch 00004: val_loss did not improve from 0.64736\n",
      "22/22 [==============================] - 607s 28s/step - loss: 0.3475 - accuracy: 0.8877 - val_loss: 0.8278 - val_accuracy: 0.7771 - lr: 0.0010\n",
      "Epoch 5/10\n",
      "22/22 [==============================] - ETA: 0s - loss: 0.3925 - accuracy: 0.8677 \n",
      "Epoch 00005: val_loss did not improve from 0.64736\n",
      "22/22 [==============================] - 610s 28s/step - loss: 0.3925 - accuracy: 0.8677 - val_loss: 1.0281 - val_accuracy: 0.7314 - lr: 0.0010\n",
      "Epoch 6/10\n",
      "22/22 [==============================] - ETA: 0s - loss: 0.4000 - accuracy: 0.8634 \n",
      "Epoch 00006: val_loss did not improve from 0.64736\n",
      "22/22 [==============================] - 606s 28s/step - loss: 0.4000 - accuracy: 0.8634 - val_loss: 0.7656 - val_accuracy: 0.7914 - lr: 0.0010\n",
      "Epoch 7/10\n",
      "22/22 [==============================] - ETA: 0s - loss: 0.3449 - accuracy: 0.8763 \n",
      "Epoch 00007: val_loss did not improve from 0.64736\n",
      "22/22 [==============================] - 606s 28s/step - loss: 0.3449 - accuracy: 0.8763 - val_loss: 0.8886 - val_accuracy: 0.7743 - lr: 0.0010\n",
      "Epoch 8/10\n",
      "22/22 [==============================] - ETA: 0s - loss: 0.3968 - accuracy: 0.8619 \n",
      "Epoch 00008: val_loss did not improve from 0.64736\n",
      "22/22 [==============================] - 611s 28s/step - loss: 0.3968 - accuracy: 0.8619 - val_loss: 1.0991 - val_accuracy: 0.6914 - lr: 0.0010\n",
      "Epoch 9/10\n",
      "22/22 [==============================] - ETA: 0s - loss: 0.5870 - accuracy: 0.8104 Restoring model weights from the end of the best epoch: 1.\n",
      "\n",
      "Epoch 00009: val_loss did not improve from 0.64736\n",
      "22/22 [==============================] - 632s 29s/step - loss: 0.5870 - accuracy: 0.8104 - val_loss: 0.9743 - val_accuracy: 0.7400 - lr: 0.0010\n",
      "Epoch 00009: early stopping\n",
      "              precision    recall  f1-score   support\n",
      "\n",
      "         0.0       0.67      0.14      0.24        14\n",
      "         1.0       0.83      0.25      0.38        40\n",
      "         2.0       0.50      0.07      0.13        27\n",
      "         3.0       1.00      0.07      0.12        15\n",
      "         4.0       0.81      0.99      0.89       341\n",
      "\n",
      "    accuracy                           0.81       437\n",
      "   macro avg       0.76      0.30      0.35       437\n",
      "weighted avg       0.80      0.81      0.75       437\n",
      "\n"
     ]
    }
   ],
   "source": [
    "train_X, test_x, train_Y, test_y = train_test_split(\n",
    "    df['pixels_data'].values, df['label'].values\n",
    "    , test_size=0.1, random_state=0\n",
    ")\n",
    "kf = KFold(n_splits=5)\n",
    "for train_index , test_index in kf.split(train_X):\n",
    "  \n",
    "  train_x , val_x = train_X[train_index],train_X[test_index]\n",
    "  train_y , val_y = train_Y[train_index],train_Y[test_index]\n",
    "\n",
    "  train_x_tensor = tf.convert_to_tensor(train_x.tolist(), dtype=tf.float32)\n",
    "  train_y_tensor = tf.convert_to_tensor(train_y.tolist(), dtype=tf.float32)\n",
    "\n",
    "  val_x_tensor = tf.convert_to_tensor(val_x.tolist(), dtype=tf.float32)\n",
    "  val_y_tensor = tf.convert_to_tensor(val_y.tolist(), dtype=tf.float32)\n",
    "\n",
    "  race_history = race_cnn_model.fit(\n",
    "    train_x_tensor,\n",
    "    train_y_tensor,\n",
    "    validation_split=0.2,\n",
    "    batch_size=64,\n",
    "    epochs=10,\n",
    "    callbacks=[tf.keras.callbacks.ReduceLROnPlateau(monitor='val_loss', \n",
    "                                                    factor=0.2, patience=4,\n",
    "                                                    min_lr=0.001, verbose=1),\n",
    "               tf.keras.callbacks.EarlyStopping(monitor='val_accuracy', patience=8,\n",
    "                                                verbose=1, mode='auto',\n",
    "                                                restore_best_weights=True),\n",
    "               tf.keras.callbacks.ModelCheckpoint(filepath=checkpoint_path,\n",
    "                                                 save_weights_only=True,\n",
    "                                                 save_best_only=True,\n",
    "                                                 verbose=1)],\n",
    "    verbose=1\n",
    "  )\n",
    "\n",
    "  pred_prob = race_cnn_model.predict(val_x_tensor)\n",
    "  y_pred = np.argmax(pred_prob, axis = 1)\n",
    "  print(sklearn.metrics.classification_report(val_y,y_pred))\n"
   ]
  },
  {
   "cell_type": "code",
   "execution_count": null,
   "metadata": {
    "id": "2zIr81w_mjC2"
   },
   "outputs": [],
   "source": [
    "# race_cnn_model.load_weights(checkpoint_path)"
   ]
  },
  {
   "cell_type": "code",
   "execution_count": null,
   "metadata": {
    "colab": {
     "base_uri": "https://localhost:8080/"
    },
    "id": "OMORgi_UXU1H",
    "outputId": "565318b0-1ae7-4133-8fd8-5aa296c9fbef"
   },
   "outputs": [
    {
     "name": "stdout",
     "output_type": "stream",
     "text": [
      "Epoch 1/10\n",
      "27/27 [==============================] - ETA: 0s - loss: 1.9147 - accuracy: 0.2980 \n",
      "Epoch 00001: val_loss improved from inf to 10.94547, saving model to /content/drive/MyDrive/demographicPredictionData/train/cp-cnn-race.ckpt\n",
      "27/27 [==============================] - 340s 13s/step - loss: 1.9147 - accuracy: 0.2980 - val_loss: 10.9455 - val_accuracy: 0.0350 - lr: 0.0010\n",
      "Epoch 2/10\n",
      "27/27 [==============================] - ETA: 0s - loss: 1.5967 - accuracy: 0.4333 \n",
      "Epoch 00002: val_loss improved from 10.94547 to 3.50902, saving model to /content/drive/MyDrive/demographicPredictionData/train/cp-cnn-race.ckpt\n",
      "27/27 [==============================] - 334s 12s/step - loss: 1.5967 - accuracy: 0.4333 - val_loss: 3.5090 - val_accuracy: 0.1028 - lr: 0.0010\n",
      "Epoch 3/10\n",
      "27/27 [==============================] - ETA: 0s - loss: 1.3187 - accuracy: 0.5738 \n",
      "Epoch 00003: val_loss improved from 3.50902 to 1.18798, saving model to /content/drive/MyDrive/demographicPredictionData/train/cp-cnn-race.ckpt\n",
      "27/27 [==============================] - 339s 13s/step - loss: 1.3187 - accuracy: 0.5738 - val_loss: 1.1880 - val_accuracy: 0.6472 - lr: 0.0010\n",
      "Epoch 4/10\n",
      "27/27 [==============================] - ETA: 0s - loss: 1.1536 - accuracy: 0.6604 \n",
      "Epoch 00004: val_loss improved from 1.18798 to 1.03940, saving model to /content/drive/MyDrive/demographicPredictionData/train/cp-cnn-race.ckpt\n",
      "27/27 [==============================] - 334s 12s/step - loss: 1.1536 - accuracy: 0.6604 - val_loss: 1.0394 - val_accuracy: 0.7150 - lr: 0.0010\n",
      "Epoch 5/10\n",
      "27/27 [==============================] - ETA: 0s - loss: 1.0146 - accuracy: 0.7014 \n",
      "Epoch 00005: val_loss improved from 1.03940 to 0.95608, saving model to /content/drive/MyDrive/demographicPredictionData/train/cp-cnn-race.ckpt\n",
      "27/27 [==============================] - 334s 12s/step - loss: 1.0146 - accuracy: 0.7014 - val_loss: 0.9561 - val_accuracy: 0.7850 - lr: 0.0010\n",
      "Epoch 6/10\n",
      "27/27 [==============================] - ETA: 0s - loss: 0.8986 - accuracy: 0.7319 \n",
      "Epoch 00006: val_loss improved from 0.95608 to 0.85935, saving model to /content/drive/MyDrive/demographicPredictionData/train/cp-cnn-race.ckpt\n",
      "27/27 [==============================] - 334s 12s/step - loss: 0.8986 - accuracy: 0.7319 - val_loss: 0.8594 - val_accuracy: 0.7874 - lr: 0.0010\n",
      "Epoch 7/10\n",
      "27/27 [==============================] - ETA: 0s - loss: 0.8591 - accuracy: 0.7488 \n",
      "Epoch 00007: val_loss did not improve from 0.85935\n",
      "27/27 [==============================] - 334s 12s/step - loss: 0.8591 - accuracy: 0.7488 - val_loss: 0.9952 - val_accuracy: 0.7547 - lr: 0.0010\n",
      "Epoch 8/10\n",
      "27/27 [==============================] - ETA: 0s - loss: 0.8405 - accuracy: 0.7541 \n",
      "Epoch 00008: val_loss did not improve from 0.85935\n",
      "27/27 [==============================] - 335s 12s/step - loss: 0.8405 - accuracy: 0.7541 - val_loss: 0.9531 - val_accuracy: 0.7850 - lr: 0.0010\n",
      "Epoch 9/10\n",
      "27/27 [==============================] - ETA: 0s - loss: 0.8035 - accuracy: 0.7646 \n",
      "Epoch 00009: val_loss did not improve from 0.85935\n",
      "27/27 [==============================] - 334s 12s/step - loss: 0.8035 - accuracy: 0.7646 - val_loss: 0.9872 - val_accuracy: 0.7850 - lr: 0.0010\n",
      "Epoch 10/10\n",
      "27/27 [==============================] - ETA: 0s - loss: 0.7499 - accuracy: 0.7892 \n",
      "Epoch 00010: val_loss improved from 0.85935 to 0.79276, saving model to /content/drive/MyDrive/demographicPredictionData/train/cp-cnn-race.ckpt\n",
      "27/27 [==============================] - 333s 12s/step - loss: 0.7499 - accuracy: 0.7892 - val_loss: 0.7928 - val_accuracy: 0.7850 - lr: 0.0010\n"
     ]
    }
   ],
   "source": [
    "race_history = race_cnn_model.fit(\n",
    "    train_x_tensor,\n",
    "    train_y_tensor,\n",
    "    validation_split=0.2,\n",
    "    batch_size=64,\n",
    "    epochs=10,\n",
    "    callbacks=[tf.keras.callbacks.ReduceLROnPlateau(monitor='val_loss', \n",
    "                                                    factor=0.2, patience=4,\n",
    "                                                    min_lr=0.001, verbose=1),\n",
    "               tf.keras.callbacks.EarlyStopping(monitor='val_accuracy', patience=8,\n",
    "                                                verbose=1, mode='auto',\n",
    "                                                restore_best_weights=True),\n",
    "               tf.keras.callbacks.ModelCheckpoint(filepath=checkpoint_path,\n",
    "                                                 save_weights_only=True,\n",
    "                                                 save_best_only=True,\n",
    "                                                 verbose=1)],\n",
    "    verbose=1\n",
    ")"
   ]
  },
  {
   "cell_type": "code",
   "execution_count": null,
   "metadata": {
    "colab": {
     "base_uri": "https://localhost:8080/"
    },
    "id": "J4DyJjb_ei29",
    "outputId": "fcb35722-0961-4f10-d005-e18541697c56"
   },
   "outputs": [
    {
     "name": "stdout",
     "output_type": "stream",
     "text": [
      "10/10 [==============================] - 14s 1s/step - loss: 0.7340 - accuracy: 0.8253\n"
     ]
    }
   ],
   "source": [
    "race_acc = race_cnn_model.evaluate(val_x_tensor, val_y_tensor)"
   ]
  },
  {
   "cell_type": "code",
   "execution_count": null,
   "metadata": {
    "colab": {
     "base_uri": "https://localhost:8080/"
    },
    "id": "MVXUVvW68cj8",
    "outputId": "4dc0b34b-e881-448e-d435-065f67028b39"
   },
   "outputs": [
    {
     "data": {
      "text/plain": [
       "[0.29800936579704285,\n",
       " 0.43325525522232056,\n",
       " 0.5737704634666443,\n",
       " 0.6604215502738953,\n",
       " 0.7014051675796509,\n",
       " 0.7318500876426697,\n",
       " 0.7488290667533875,\n",
       " 0.7540983557701111,\n",
       " 0.7646369934082031,\n",
       " 0.7892271876335144]"
      ]
     },
     "execution_count": 136,
     "metadata": {},
     "output_type": "execute_result"
    }
   ],
   "source": [
    "race_history.history['accuracy']"
   ]
  },
  {
   "cell_type": "code",
   "execution_count": 33,
   "metadata": {
    "id": "iCPFav3prlgy"
   },
   "outputs": [],
   "source": [
    "def plot_confusion_matrix(y_true, y_pred, labels, predict_idx):\n",
    "    '''\n",
    "    Plot confusion matrix from y_true and y_pred with labels.\n",
    "    '''\n",
    "    fig = plt.figure()\n",
    "    ax = fig.add_subplot(111)\n",
    "    cm = sklearn.metrics.confusion_matrix(y_test[:,predict_idx], y_pred)\n",
    "    cax = ax.matshow(cm, cmap=plt.cm.Blues)\n",
    "    fig.colorbar(cax)\n",
    "    ax.set_xticklabels(['']+labels)\n",
    "    ax.set_yticklabels(['']+labels)\n",
    "    plt.xlabel('Predicted')\n",
    "    plt.ylabel('Expected')\n",
    "    for (i, j), z in np.ndenumerate(cm):\n",
    "        ax.text(j, i, '{:0.1f}'.format(z), ha='center', va='center',\n",
    "            bbox=dict(boxstyle='round', facecolor='white', edgecolor='0.3'))\n",
    "    plt.show()"
   ]
  },
  {
   "cell_type": "code",
   "execution_count": null,
   "metadata": {
    "colab": {
     "base_uri": "https://localhost:8080/"
    },
    "id": "XJQ0bQyQ_DPA",
    "outputId": "c7546745-3034-41e2-c4a7-30cba21e26fa"
   },
   "outputs": [
    {
     "data": {
      "text/plain": [
       "array([[0.01058174, 0.00990071, 0.01513472, 0.00515839, 0.95922446],\n",
       "       [0.03681039, 0.05599701, 0.05761221, 0.03233169, 0.81724864],\n",
       "       [0.03018907, 0.01858941, 0.02810105, 0.02324248, 0.8998779 ],\n",
       "       ...,\n",
       "       [0.00436815, 0.00396154, 0.00344487, 0.00217477, 0.98605067],\n",
       "       [0.04312815, 0.06642451, 0.05613064, 0.03036558, 0.80395114],\n",
       "       [0.01043169, 0.00967481, 0.01608444, 0.01393534, 0.9498737 ]],\n",
       "      dtype=float32)"
      ]
     },
     "execution_count": 150,
     "metadata": {},
     "output_type": "execute_result"
    }
   ],
   "source": [
    "pred_prob = race_cnn_model.predict(val_x_tensor)\n",
    "pred_prob"
   ]
  },
  {
   "cell_type": "code",
   "execution_count": null,
   "metadata": {
    "id": "GHwxYifG58pn"
   },
   "outputs": [],
   "source": [
    "y_pred = np.argmax(pred_prob, axis = 1)"
   ]
  },
  {
   "cell_type": "code",
   "execution_count": null,
   "metadata": {
    "colab": {
     "base_uri": "https://localhost:8080/"
    },
    "id": "2fuy951k6XaZ",
    "outputId": "19c81658-629b-4d2e-a5ec-7b4b8480d9c1"
   },
   "outputs": [
    {
     "data": {
      "text/plain": [
       "array([4, 4, 4, 4, 4, 4, 4, 4, 4, 4, 4, 4, 4, 4, 4, 4, 4, 4, 4, 4, 4, 4,\n",
       "       4, 4, 4, 4, 4, 4, 4, 4, 4, 4, 4, 4, 4, 4, 4, 4, 4, 4, 4, 4, 4, 4,\n",
       "       4, 4, 4, 4, 4, 4, 4, 4, 4, 4, 4, 4, 4, 4, 4, 4, 4, 4, 4, 4, 4, 4,\n",
       "       4, 4, 4, 4, 4, 1, 4, 4, 4, 4, 4, 4, 4, 4, 4, 4, 4, 4, 4, 4, 4, 4,\n",
       "       4, 4, 4, 4, 4, 4, 4, 4, 4, 4, 4, 4, 4, 4, 4, 4, 4, 4, 4, 4, 4, 4,\n",
       "       4, 4, 4, 4, 4, 4, 4, 4, 4, 4, 4, 4, 4, 4, 4, 4, 4, 4, 4, 4, 4, 4,\n",
       "       4, 4, 4, 4, 4, 4, 4, 4, 4, 4, 4, 4, 4, 4, 4, 4, 4, 4, 4, 4, 4, 4,\n",
       "       4, 4, 4, 4, 4, 1, 4, 4, 4, 4, 4, 4, 4, 4, 4, 4, 4, 4, 4, 4, 4, 4,\n",
       "       4, 4, 4, 4, 4, 4, 4, 4, 4, 4, 4, 4, 4, 4, 4, 4, 4, 4, 4, 4, 4, 4,\n",
       "       4, 4, 4, 4, 4, 4, 4, 4, 4, 4, 4, 4, 4, 4, 4, 4, 4, 4, 4, 4, 4, 4,\n",
       "       4, 4, 4, 4, 4, 4, 4, 4, 4, 4, 4, 4, 4, 4, 4, 4, 4, 4, 4, 4, 4, 4,\n",
       "       4, 4, 4, 4, 4, 4, 4, 4, 1, 4, 4, 4, 4, 4, 4, 4, 4, 4, 4, 4, 4, 4,\n",
       "       4, 4, 4, 4, 4, 4, 4, 4, 4, 4, 4, 4, 4, 4, 4, 4, 4, 4, 4, 4, 4, 4,\n",
       "       4, 4, 4, 4, 4, 4])"
      ]
     },
     "execution_count": 152,
     "metadata": {},
     "output_type": "execute_result"
    }
   ],
   "source": [
    "y_pred"
   ]
  },
  {
   "cell_type": "code",
   "execution_count": null,
   "metadata": {
    "colab": {
     "base_uri": "https://localhost:8080/"
    },
    "id": "2wzOK9Fn5_iW",
    "outputId": "f2a49057-d214-47bb-b6ca-c441457a9477"
   },
   "outputs": [
    {
     "name": "stdout",
     "output_type": "stream",
     "text": [
      "              precision    recall  f1-score   support\n",
      "\n",
      "         0.0       0.00      0.00      0.00        11\n",
      "         1.0       0.33      0.06      0.10        18\n",
      "         2.0       0.00      0.00      0.00        13\n",
      "         3.0       0.00      0.00      0.00         9\n",
      "         4.0       0.83      1.00      0.91       241\n",
      "\n",
      "    accuracy                           0.83       292\n",
      "   macro avg       0.23      0.21      0.20       292\n",
      "weighted avg       0.71      0.83      0.75       292\n",
      "\n"
     ]
    },
    {
     "name": "stderr",
     "output_type": "stream",
     "text": [
      "/usr/local/lib/python3.7/dist-packages/sklearn/metrics/_classification.py:1308: UndefinedMetricWarning: Precision and F-score are ill-defined and being set to 0.0 in labels with no predicted samples. Use `zero_division` parameter to control this behavior.\n",
      "  _warn_prf(average, modifier, msg_start, len(result))\n",
      "/usr/local/lib/python3.7/dist-packages/sklearn/metrics/_classification.py:1308: UndefinedMetricWarning: Precision and F-score are ill-defined and being set to 0.0 in labels with no predicted samples. Use `zero_division` parameter to control this behavior.\n",
      "  _warn_prf(average, modifier, msg_start, len(result))\n",
      "/usr/local/lib/python3.7/dist-packages/sklearn/metrics/_classification.py:1308: UndefinedMetricWarning: Precision and F-score are ill-defined and being set to 0.0 in labels with no predicted samples. Use `zero_division` parameter to control this behavior.\n",
      "  _warn_prf(average, modifier, msg_start, len(result))\n"
     ]
    }
   ],
   "source": [
    "print(sklearn.metrics.classification_report(val_y,y_pred))"
   ]
  }
 ],
 "metadata": {
  "colab": {
   "collapsed_sections": [
    "oq-07C88OJNA",
    "IY4mFkvivX9Q",
    "JFEs6t-Mvnxz",
    "w4Ltrjip689N"
   ],
   "name": "640_project.ipynb",
   "provenance": []
  },
  "kernelspec": {
   "display_name": "Python 3",
   "language": "python",
   "name": "python3"
  },
  "language_info": {
   "codemirror_mode": {
    "name": "ipython",
    "version": 3
   },
   "file_extension": ".py",
   "mimetype": "text/x-python",
   "name": "python",
   "nbconvert_exporter": "python",
   "pygments_lexer": "ipython3",
   "version": "3.8.5"
  }
 },
 "nbformat": 4,
 "nbformat_minor": 1
}
