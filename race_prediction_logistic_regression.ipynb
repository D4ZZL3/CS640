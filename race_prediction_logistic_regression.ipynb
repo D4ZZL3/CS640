{
 "cells": [
  {
   "cell_type": "code",
   "execution_count": 1,
   "metadata": {},
   "outputs": [],
   "source": [
    "import numpy as np\n",
    "import pandas as pd\n",
    "import json\n",
    "import re\n",
    "from sklearn.datasets import make_blobs\n",
    "from sklearn.cluster import KMeans\n",
    "\n",
    "from sklearn.feature_extraction.text import TfidfVectorizer\n",
    "from sklearn import neighbors\n",
    "from sklearn import naive_bayes\n",
    "from sklearn import metrics\n",
    "\n",
    "from imblearn.over_sampling import SMOTEN\n",
    "from sklearn.model_selection import train_test_split "
   ]
  },
  {
   "cell_type": "code",
   "execution_count": 2,
   "metadata": {},
   "outputs": [
    {
     "data": {
      "text/html": [
       "<div>\n",
       "<style scoped>\n",
       "    .dataframe tbody tr th:only-of-type {\n",
       "        vertical-align: middle;\n",
       "    }\n",
       "\n",
       "    .dataframe tbody tr th {\n",
       "        vertical-align: top;\n",
       "    }\n",
       "\n",
       "    .dataframe thead th {\n",
       "        text-align: right;\n",
       "    }\n",
       "</style>\n",
       "<table border=\"1\" class=\"dataframe\">\n",
       "  <thead>\n",
       "    <tr style=\"text-align: right;\">\n",
       "      <th></th>\n",
       "      <th>user_id</th>\n",
       "      <th>text</th>\n",
       "    </tr>\n",
       "  </thead>\n",
       "  <tbody>\n",
       "    <tr>\n",
       "      <th>0</th>\n",
       "      <td>12488</td>\n",
       "      <td>YKAR, a futuristic sans serif font by @Emmeran...</td>\n",
       "    </tr>\n",
       "    <tr>\n",
       "      <th>1</th>\n",
       "      <td>719703</td>\n",
       "      <td>In other words, it’s good news about the vacci...</td>\n",
       "    </tr>\n",
       "    <tr>\n",
       "      <th>2</th>\n",
       "      <td>749003</td>\n",
       "      <td>would it be fair to call lil nas x the first s...</td>\n",
       "    </tr>\n",
       "    <tr>\n",
       "      <th>3</th>\n",
       "      <td>822540</td>\n",
       "      <td>@Asmongold ❤️ 🙏 @Hunter4J @Wario64 bonk @FF_XI...</td>\n",
       "    </tr>\n",
       "    <tr>\n",
       "      <th>4</th>\n",
       "      <td>865071</td>\n",
       "      <td>@robo_james How about pizza dipped in water 🤦🏻...</td>\n",
       "    </tr>\n",
       "  </tbody>\n",
       "</table>\n",
       "</div>"
      ],
      "text/plain": [
       "   user_id                                               text\n",
       "0    12488  YKAR, a futuristic sans serif font by @Emmeran...\n",
       "1   719703  In other words, it’s good news about the vacci...\n",
       "2   749003  would it be fair to call lil nas x the first s...\n",
       "3   822540  @Asmongold ❤️ 🙏 @Hunter4J @Wario64 bonk @FF_XI...\n",
       "4   865071  @robo_james How about pizza dipped in water 🤦🏻..."
      ]
     },
     "execution_count": 2,
     "metadata": {},
     "output_type": "execute_result"
    }
   ],
   "source": [
    "user_dataset = pd.read_csv(\n",
    "    './labeled_users.csv',\n",
    "    sep=',', \n",
    "    encoding='latin-1'\n",
    "    )\n",
    "with open('./Twitter_User_Handles_labeled_tweets.json') as file:\n",
    "    dic = json.load(file)\n",
    "\n",
    "# converting json dataset from dictionary to dataframe\n",
    "tweets_data = pd.DataFrame.from_dict(dic, orient='index')\n",
    "tweets_data.reset_index(level=0, inplace=True)\n",
    "tweets_data['text'] = tweets_data[tweets_data.columns[1:]].apply(\n",
    "    lambda x: ' '.join(x.dropna().astype(str)),\n",
    "    axis=1\n",
    ")\n",
    "tweets_data = pd.DataFrame({'user_id':tweets_data['index'].astype(int), 'text':tweets_data['text']})\n",
    "tweets_data.head()\n",
    "\n"
   ]
  },
  {
   "cell_type": "code",
   "execution_count": 3,
   "metadata": {},
   "outputs": [],
   "source": [
    "def preprocess(data_set):\n",
    "    t = data_set\n",
    "    t = re.sub(r'https?://\\S+','',t)\n",
    "    t = re.sub(r\"^#\\S+|\\s#\\S+\",'',t)\n",
    "    t = re.sub(r\"^@\\S+|\\s@\\S+\",'', t)\n",
    "    t = t.lower()\n",
    "    return t"
   ]
  },
  {
   "cell_type": "code",
   "execution_count": 4,
   "metadata": {},
   "outputs": [
    {
     "data": {
      "text/html": [
       "<div>\n",
       "<style scoped>\n",
       "    .dataframe tbody tr th:only-of-type {\n",
       "        vertical-align: middle;\n",
       "    }\n",
       "\n",
       "    .dataframe tbody tr th {\n",
       "        vertical-align: top;\n",
       "    }\n",
       "\n",
       "    .dataframe thead th {\n",
       "        text-align: right;\n",
       "    }\n",
       "</style>\n",
       "<table border=\"1\" class=\"dataframe\">\n",
       "  <thead>\n",
       "    <tr style=\"text-align: right;\">\n",
       "      <th></th>\n",
       "      <th>user_id</th>\n",
       "      <th>text</th>\n",
       "    </tr>\n",
       "  </thead>\n",
       "  <tbody>\n",
       "    <tr>\n",
       "      <th>0</th>\n",
       "      <td>12488</td>\n",
       "      <td>ykar, a futuristic sans serif font by -  who c...</td>\n",
       "    </tr>\n",
       "    <tr>\n",
       "      <th>1</th>\n",
       "      <td>719703</td>\n",
       "      <td>in other words, it’s good news about the vacci...</td>\n",
       "    </tr>\n",
       "    <tr>\n",
       "      <th>2</th>\n",
       "      <td>749003</td>\n",
       "      <td>would it be fair to call lil nas x the first s...</td>\n",
       "    </tr>\n",
       "    <tr>\n",
       "      <th>3</th>\n",
       "      <td>822540</td>\n",
       "      <td>❤️ 🙏 bonk nice ed mcboy oos. getting real tir...</td>\n",
       "    </tr>\n",
       "    <tr>\n",
       "      <th>4</th>\n",
       "      <td>865071</td>\n",
       "      <td>how about pizza dipped in water 🤦🏻‍♂️ day 21 ...</td>\n",
       "    </tr>\n",
       "  </tbody>\n",
       "</table>\n",
       "</div>"
      ],
      "text/plain": [
       "   user_id                                               text\n",
       "0    12488  ykar, a futuristic sans serif font by -  who c...\n",
       "1   719703  in other words, it’s good news about the vacci...\n",
       "2   749003  would it be fair to call lil nas x the first s...\n",
       "3   822540   ❤️ 🙏 bonk nice ed mcboy oos. getting real tir...\n",
       "4   865071   how about pizza dipped in water 🤦🏻‍♂️ day 21 ..."
      ]
     },
     "execution_count": 4,
     "metadata": {},
     "output_type": "execute_result"
    }
   ],
   "source": [
    "tweets_data['text'] = tweets_data['text'].apply(preprocess)\n",
    "tweets_data.head()"
   ]
  },
  {
   "cell_type": "code",
   "execution_count": 5,
   "metadata": {},
   "outputs": [],
   "source": [
    "dataset = pd.merge(user_dataset, tweets_data, on='user_id', how='inner')\n",
    "dataset = dataset[dataset.race != 5]\n",
    "dataset.dropna(subset=['race'], inplace=True)\n"
   ]
  },
  {
   "cell_type": "code",
   "execution_count": 6,
   "metadata": {},
   "outputs": [
    {
     "name": "stdout",
     "output_type": "stream",
     "text": [
      "Number of data points: 3126\n",
      "Percentages\n",
      "African: 0.09564939219449776\n",
      "Latino: 0.05950095969289827\n",
      "Asian: 0.03262955854126679\n",
      "White: 0.8122200895713372\n"
     ]
    }
   ],
   "source": [
    "num_data = len(dataset)\n",
    "per_african = len(dataset[dataset['race']==1.0])/num_data\n",
    "per_latino = len(dataset[dataset['race']==2.0])/num_data\n",
    "per_asian = len(dataset[dataset['race']==3.0])/num_data\n",
    "per_white = len(dataset[dataset['race']==4.0])/num_data\n",
    "\n",
    "print(f'Number of data points: {num_data}')\n",
    "print('Percentages')\n",
    "print(f'African: {per_african}')\n",
    "print(f'Latino: {per_latino}')\n",
    "print(f'Asian: {per_asian}')\n",
    "print(f'White: {per_white}')"
   ]
  },
  {
   "cell_type": "code",
   "execution_count": 7,
   "metadata": {},
   "outputs": [],
   "source": [
    "tfidf = TfidfVectorizer(stop_words=None)\n",
    "tfidf.fit(dataset['text'].values)\n",
    "X = tfidf.transform(dataset['text'].values)\n",
    "from sklearn.decomposition import TruncatedSVD\n",
    "svd = TruncatedSVD(n_components=1000, random_state=42)\n",
    "X = svd.fit_transform(X)\n",
    "y = dataset['race'].values"
   ]
  },
  {
   "cell_type": "code",
   "execution_count": 8,
   "metadata": {},
   "outputs": [],
   "source": [
    "X_train, X_test, y_train, y_test = train_test_split(X,y,test_size=0.33,random_state=42)\n",
    "\n",
    "# from imblearn.under_sampling import RandomUnderSampler\n",
    "# sampling = {4:300}\n",
    "\n",
    "# rds = RandomUnderSampler(random_state=42,sampling_strategy=sampling)\n",
    "# X_SMOTE, y_SMOTE = rds.fit_resample(X_train,y_train)\n",
    "\n",
    "from imblearn.over_sampling import SMOTE\n",
    "smote = SMOTE(random_state=777,k_neighbors=1)\n",
    "X_SMOTE, y_SMOTE = smote.fit_resample(X_train, y_train)\n",
    "\n"
   ]
  },
  {
   "cell_type": "code",
   "execution_count": 9,
   "metadata": {},
   "outputs": [
    {
     "name": "stdout",
     "output_type": "stream",
     "text": [
      "              precision    recall  f1-score   support\n",
      "\n",
      "         1.0       0.45      0.56      0.50       104\n",
      "         2.0       0.19      0.21      0.20        61\n",
      "         3.0       0.15      0.13      0.14        38\n",
      "         4.0       0.88      0.85      0.86       829\n",
      "\n",
      "    accuracy                           0.76      1032\n",
      "   macro avg       0.42      0.44      0.43      1032\n",
      "weighted avg       0.77      0.76      0.76      1032\n",
      "\n"
     ]
    },
    {
     "name": "stderr",
     "output_type": "stream",
     "text": [
      "/Library/Frameworks/Python.framework/Versions/3.8/lib/python3.8/site-packages/sklearn/linear_model/_logistic.py:814: ConvergenceWarning: lbfgs failed to converge (status=1):\n",
      "STOP: TOTAL NO. of ITERATIONS REACHED LIMIT.\n",
      "\n",
      "Increase the number of iterations (max_iter) or scale the data as shown in:\n",
      "    https://scikit-learn.org/stable/modules/preprocessing.html\n",
      "Please also refer to the documentation for alternative solver options:\n",
      "    https://scikit-learn.org/stable/modules/linear_model.html#logistic-regression\n",
      "  n_iter_i = _check_optimize_result(\n"
     ]
    }
   ],
   "source": [
    "from sklearn import linear_model\n",
    "from sklearn.ensemble import RandomForestClassifier\n",
    "model = linear_model.LogisticRegression()\n",
    "model.fit(X_SMOTE, y_SMOTE)\n",
    "y_pred = model.predict(X_test)\n",
    "metrics.accuracy_score(\n",
    "    y_test, \n",
    "    y_pred)\n",
    "    \n",
    "print(metrics.classification_report(\n",
    "    y_true=y_test,\n",
    "    y_pred=y_pred)\n",
    "    )"
   ]
  },
  {
   "cell_type": "code",
   "execution_count": 10,
   "metadata": {},
   "outputs": [
    {
     "name": "stdout",
     "output_type": "stream",
     "text": [
      "Fold 0: 0.804\n",
      "Fold 1: 0.813\n",
      "Fold 2: 0.808\n",
      "Fold 3: 0.826\n",
      "Fold 4: 0.845\n",
      "Average accuracy: 0.819 (0.015)\n"
     ]
    }
   ],
   "source": [
    "from sklearn.model_selection import KFold, cross_val_score\n",
    "cv = KFold(n_splits=5, random_state=1, shuffle=True)\n",
    "# create model\n",
    "model = linear_model.LogisticRegression()\n",
    "# evaluate model\n",
    "scores = cross_val_score(model, X, y, scoring='accuracy', cv=cv, n_jobs=-1)\n",
    "# report performance\n",
    "for i in range(5):\n",
    "    print(f'Fold {i}: %.3f' % scores[i])\n",
    "print('Average accuracy: %.3f (%.3f)' % (np.mean(scores), np.std(scores)))\n"
   ]
  }
 ],
 "metadata": {
  "interpreter": {
   "hash": "aee8b7b246df8f9039afb4144a1f6fd8d2ca17a180786b69acc140d282b71a49"
  },
  "kernelspec": {
   "display_name": "Python 3.8.6 64-bit",
   "name": "python3"
  },
  "language_info": {
   "codemirror_mode": {
    "name": "ipython",
    "version": 3
   },
   "file_extension": ".py",
   "mimetype": "text/x-python",
   "name": "python",
   "nbconvert_exporter": "python",
   "pygments_lexer": "ipython3",
   "version": "3.8.6"
  },
  "orig_nbformat": 4
 },
 "nbformat": 4,
 "nbformat_minor": 2
}
